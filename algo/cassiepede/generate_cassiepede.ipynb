{
 "cells": [
  {
   "cell_type": "code",
   "outputs": [],
   "source": [
    "import numpy as np"
   ],
   "metadata": {
    "collapsed": false,
    "ExecuteTime": {
     "end_time": "2024-06-05T07:56:43.452920Z",
     "start_time": "2024-06-05T07:56:43.435739Z"
    }
   },
   "id": "8f1eea25dc8007c7",
   "execution_count": 20
  },
  {
   "cell_type": "code",
   "outputs": [],
   "source": [
    "body = lambda cassie_idx, position: f\"\"\"\n",
    "  <body name='{cassie_idx}cassie-pelvis' pos='{position[0]} {position[1]} -0.2' childclass='cassie'>\n",
    "        <geom type='mesh' mesh='cassiepede-standoff' pos='0 0.095 0.055' rgba=\"0.7 0.7 0.7 1.0\" euler=\"90 0 90\"/>\n",
    "        <geom type='mesh' mesh='cassiepede-standoff' pos='0.041 -0.095 0.055' rgba=\"0.7 0.7 0.7 1.0\" euler=\"-90 0 90\"/>\n",
    "        <geom type='box' size='0.16 0.02 0.02'  pos=\"0.02 0 0.2\" rgba=\"0.7 0.7 0.7 1.0\" euler=\"90 0 0\" />\n",
    "        <geom type=\"cylinder\" size=\"0.02 0.05\" pos=\"0 0 0.24\" rgba=\"0.7 0.7 0.7 1.0\"/>\n",
    "        <site name='{cassie_idx}cassie-pelvis_site' size='0.01' pos='0.0 0.0 0.0' rgba='0.0 0.0 0.5 1.0'/>\n",
    "        <camera name='{cassie_idx}track' pos='0 -3 1' zaxis='0 -1 0.5' mode='track'/>\n",
    "        <!-- <camera name='{cassie_idx}forward-chest-realsense-d435/depth/image-rect' pos='.2 0 0.2' euler='-90 0 30' fovy='58'/> -->\n",
    "        <camera name='{cassie_idx}realsense-d455' pos='.1856 0 0.24' euler='-90 0 30' fovy='58'/>\n",
    "        <inertial pos='0.05066 0.000346 0.02841' mass='10.33' fullinertia='0.085821 0.049222 0.08626 1.276e-05 -0.00016022 -0.000414'/>\n",
    "\n",
    "        <joint type='hinge' axis=\"0 0 1\" limited='false' pos=\"0 0 0.2\"/>\n",
    "        <joint type='hinge' axis=\"0 1 0\" limited='false' pos=\"0 0 0.2\"/>\n",
    "        <joint type='hinge' axis=\"1 0 0\" limited='false' pos=\"0 0 0.2\"/>\n",
    "\n",
    "        <geom type='mesh' mesh='cassie-pelvis'/>\n",
    "        <geom type='sphere' size='0.15' pos='0.02 0 0.02' class='collision' group='1'/>\n",
    "        <site name='{cassie_idx}imu' size='0.01' pos='0.03155 0 -0.07996' rgba='0.5 0.5 0.5 1.0'/>\n",
    "        <body name='{cassie_idx}left-hip-roll' pos='0.021 0.135 0' xyaxes='0 0 -1 0 1 0'>\n",
    "          <inertial pos='-0.01793 0.0001 -0.04428' mass='1.82' fullinertia='0.003431 0.003793 0.002135 -6.65e-07 -0.00084 3.99e-06'/>\n",
    "          <joint name='{cassie_idx}left-hip-roll' type='hinge' range='-15 22.5' damping='1' armature='0.038125'/>\n",
    "          <geom type='mesh' mesh='left-hip-roll'/>\n",
    "          <body name='{cassie_idx}left-hip-yaw' pos='0 0 -0.07' xyaxes='0 0 1 0 1 0'>\n",
    "            <inertial pos='0 -1e-05 -0.034277' mass='1.171' fullinertia='0.002443 0.002803 0.000842 -4e-08 2.462e-07 -2.71e-08'/>\n",
    "            <joint name='{cassie_idx}left-hip-yaw' type='hinge' range='-22.5 22.5' damping='1' armature='0.038125'/>\n",
    "            <geom type='mesh' mesh='left-hip-yaw'/>\n",
    "            <body name='{cassie_idx}left-hip-pitch' pos='0 0 -0.09' xyaxes='0 0 -1 1 0 0'>\n",
    "              <inertial pos='0.05946 5e-05 -0.03581' mass='5.52' fullinertia='0.010898 0.029714 0.030257 -0.0002669 -5.721e-05 9.17e-06'/>\n",
    "              <joint name='{cassie_idx}left-hip-pitch' type='hinge' range='-50 80' damping='1' armature='0.09344'/>\n",
    "              <geom type='mesh' mesh='left-hip-pitch'/>\n",
    "              <geom type='capsule' size='0.08' fromto='0 0 -0.04 0.12 0 -0.0355' class='collision' group='1'/>\n",
    "              <body name='{cassie_idx}left-achilles-rod' pos='0 0 0.045' xyaxes='0.7922 -0.60599 -0.072096 0.60349 0.79547 -0.054922'>\n",
    "                <inertial pos='0.24719 0 0' mass='0.1567' fullinertia='3.754e-06 0.004487 0.004488 -3.74e-08 -1.61e-08 0'/>\n",
    "                <joint name='{cassie_idx}left-achilles-rod' type='ball' limited='false' damping='0.01'/>\n",
    "                <geom type='mesh' mesh='left-achilles-rod'/>\n",
    "                <geom type='capsule' size='0.008' fromto='0 0 0 0.5012 0.0 0' class='collision-left'/>\n",
    "              </body>\n",
    "              <body name='{cassie_idx}left-knee' pos='0.12 0 0.0045' xyaxes='0.70711 -0.70711 0 0.70711 0.70711 0'>\n",
    "                <inertial pos='0.023 0.03207 -0.002181' mass='0.7578' fullinertia='0.001376 0.0010335 0.0021637 -0.00039744 -4.085e-05 -5.374e-05'/>\n",
    "                <joint name='{cassie_idx}left-knee' type='hinge' ref='-45' range='-164 -37' damping='1' armature='0.09344'/>\n",
    "                <geom type='mesh' mesh='left-knee'/>\n",
    "                <body name='{cassie_idx}left-knee-spring' pos='0.06068 0.08241 0'>\n",
    "                  <inertial pos='0.0836 0.0034 0' mass='0.186' fullinertia='5.215e-05 0.00041205 0.0003669 6.87e-06 0 0'/>\n",
    "                  <geom type='mesh' mesh='left-knee-spring'/>\n",
    "                </body>\n",
    "                <body name='{cassie_idx}left-shin' pos='0.06068 0.04741 0'>\n",
    "                  <inertial pos='0.18338 0.001169 0.0002123' mass='0.577' fullinertia='0.00035939 0.014728 0.014707 -0.00020981 2.266e-05 -1.2e-07'/>\n",
    "                  <joint name='{cassie_idx}left-shin' type='hinge' range='-20 20' stiffness='1500' damping='0.1'/>\n",
    "                  <geom type='mesh' mesh='left-shin'/>\n",
    "                  <geom type='capsule' size='0.04' fromto='0 0 0 0.43476 0.02 0' class='collision-left'/>\n",
    "                  <body name='{cassie_idx}left-tarsus' pos='0.43476 0.02 0' xyaxes='0.52992 0.84805 0 -0.84805 0.52992 0'>\n",
    "                    <inertial pos='0.11046 -0.03058 -0.00131' mass='0.782' fullinertia='0.00039238 0.013595 0.013674 0.00023651 -4.987e-05 -4.82e-06'/>\n",
    "                    <joint name='{cassie_idx}left-tarsus' type='hinge' ref='58' range='50 170' damping='0.1'/>\n",
    "                    <geom type='mesh' mesh='left-tarsus'/>\n",
    "                    <geom type='capsule' size='0.04' fromto='-0.01269 -0.03059 0.00092 0.408 -0.04 0' class='collision-left'/>\n",
    "                    <body name='{cassie_idx}left-heel-spring' pos='-0.01269 -0.03059 0.00092' xyaxes='-0.91211 0.40829 0.036948 -0.40992 -0.90952 -0.068841'>\n",
    "                      <inertial pos='0.081 0.0022 0' mass='0.126' fullinertia='2.959e-05 0.00022231 0.0002007 7.15e-06 -6e-07 1e-07'/>\n",
    "                      <joint name='{cassie_idx}left-heel-spring' type='hinge' limited='false' stiffness='1250'/>\n",
    "                      <geom type='mesh' mesh='left-heel-spring'/>\n",
    "                      <geom type='box' size='0.09 0.005 0.04' pos='0.035 0.005 0.0' class='collision-left'/>\n",
    "                      <site name=\"{cassie_idx}left-heel-spring-pt\" type=\"sphere\" pos=\"0.11877 0.0 0.025\" size=\"0.005\" rgba=\"0.7 0.2 0.1 1.0\"/>\n",
    "                    </body>\n",
    "                    <body name='{cassie_idx}left-foot-crank' pos='0.058 -0.034 0.02275'>\n",
    "                      <inertial pos='0.00493 2e-05 -0.00215' mass='0.1261' fullinertia='2.6941e-05 4.9621e-05 6.3362e-05 -2.1e-09 -3.9623e-06 -1.09e-08'/>\n",
    "                      <joint name='{cassie_idx}left-foot-crank' type='hinge' range='-140 -30' damping='1'/>\n",
    "                      <geom type='mesh' mesh='left-foot-crank' contype='2' conaffinity='4'/>\n",
    "                      <body name='{cassie_idx}left-plantar-rod' pos='0.055 0 -0.00791'>\n",
    "                        <inertial pos='0.17792 0 0' mass='0.1186' fullinertia='2.779e-06 0.001774 0.001775 -2.34e-08 -8.1e-09 0'/>\n",
    "                        <joint name='{cassie_idx}left-plantar-rod' type='hinge' limited='false' damping='0.01'/>\n",
    "                        <geom type='mesh' mesh='left-plantar-rod'/>\n",
    "                        <geom type='capsule' size='0.008' fromto='0 0 0 0.35012 0.0 0' class='collision-left'/>\n",
    "                        <site name=\"{cassie_idx}left-plantar-rod-pt\" type=\"sphere\" pos=\"0.17506 0.0 0.0\" size=\"0.005\" rgba=\"0.7 0.2 0.1 1.0\"/>\n",
    "                      </body>\n",
    "                    </body>\n",
    "                    <body name='{cassie_idx}left-foot' pos='0.408 -0.04 0'>\n",
    "                      <inertial pos='0.00474 0.02748 -0.00014' mass='0.1498' fullinertia='0.00017388 0.00016793 0.00033261 0.00011814 1.36e-06 -4e-07'/>\n",
    "                      <joint name='{cassie_idx}left-foot' type='hinge' range='-140 -30' damping='1' armature='0.01225'/>\n",
    "                      <geom type='mesh' mesh='left-foot'/>\n",
    "                      <geom type='capsule' size='0.02' fromto='-0.052821 0.092622 0 0.069746 -0.010224 0' class='collision-left'/>\n",
    "                      <site name=\"{cassie_idx}left-foot-mid\" type=\"sphere\" pos=\"0.01762 0.05219 0\" euler=\"140 0 -90\" size=\"0.005\" rgba=\"0.7 0.2 0.1 1.0\"/>\n",
    "                      <site name=\"{cassie_idx}left-toe\" type=\"sphere\" pos=\"-0.052821 0.092622 0\" size=\"0.005\" rgba=\"0.7 0.2 0.1 1.0\"/>\n",
    "                      <site name=\"{cassie_idx}left-heel\" type=\"sphere\" pos=\"0.069746 -0.010224 0\" size=\"0.005\" rgba=\"0.7 0.2 0.1 1.0\"/>\n",
    "                    </body>\n",
    "                  </body>\n",
    "                </body>\n",
    "              </body>\n",
    "            </body>\n",
    "          </body>\n",
    "        </body>\n",
    "        <body name='{cassie_idx}right-hip-roll' pos='0.021 -0.135 0' xyaxes='0 0 -1 0 1 0'>\n",
    "          <inertial pos='-0.01793 0.0001 -0.04428' mass='1.82' fullinertia='0.003431 0.003793 0.002135 6.65e-07 -0.00084 -3.99e-06'/>\n",
    "          <joint name='{cassie_idx}right-hip-roll' type='hinge' range='-22.5 15' damping='1' armature='0.038125'/>\n",
    "          <geom type='mesh' mesh='right-hip-roll'/>\n",
    "          <body name='{cassie_idx}right-hip-yaw' pos='0 0 -0.07' xyaxes='0 0 1 0 1 0'>\n",
    "            <inertial pos='0 1e-05 -0.034277' mass='1.171' fullinertia='0.002443 0.002803 0.000842 4e-08 2.462e-07 2.71e-08'/>\n",
    "            <joint name='{cassie_idx}right-hip-yaw' type='hinge' range='-22.5 22.5' damping='1' armature='0.038125'/>\n",
    "            <geom type='mesh' mesh='right-hip-yaw'/>\n",
    "            <body name='{cassie_idx}right-hip-pitch' pos='0 0 -0.09' xyaxes='0 0 -1 1 0 0'>\n",
    "              <inertial pos='0.05946 5e-05 0.03581' mass='5.52' fullinertia='0.010898 0.029714 0.030257 -0.0002669 5.721e-05 -9.17e-06'/>\n",
    "              <joint name='{cassie_idx}right-hip-pitch' type='hinge' range='-50 80' damping='1' armature='0.09344'/>\n",
    "              <geom type='mesh' mesh='right-hip-pitch'/>\n",
    "              <geom type='capsule' size='0.08' fromto='0 0 0.04 0.12 0 0.0355' class='collision' group='1'/>\n",
    "              <body name='{cassie_idx}right-achilles-rod' pos='0 0 -0.045' xyaxes='0.7922 -0.60599 0.072096 0.60349 0.79547 0.054922'>\n",
    "                <inertial pos='0.24719 0 0' mass='0.1567' fullinertia='3.754e-06 0.004487 0.004488 -3.74e-08 1.61e-08 0'/>\n",
    "                <joint name='{cassie_idx}right-achilles-rod' type='ball' limited='false' damping='0.01'/>\n",
    "                <geom type='mesh' mesh='right-achilles-rod'/>\n",
    "                <geom type='capsule' size='0.008' fromto='0 0 0 0.5012 0.0 0' class='collision-right'/>\n",
    "              </body>\n",
    "              <body name='{cassie_idx}right-knee' pos='0.12 0 -0.0045' xyaxes='0.70711 -0.70711 0 0.70711 0.70711 0'>\n",
    "                <inertial pos='0.023 0.03207 0.002181' mass='0.7578' fullinertia='0.001376 0.0010335 0.0021637 -0.00039744 4.085e-05 5.374e-05'/>\n",
    "                <joint name='{cassie_idx}right-knee' type='hinge' ref='-45' range='-164 -37' damping='1' armature='0.09344'/>\n",
    "                <geom type='mesh' mesh='right-knee'/>\n",
    "                <body name='{cassie_idx}right-knee-spring' pos='0.06068 0.08241 0'>\n",
    "                  <inertial pos='0.0836 0.0034 0' mass='0.186' fullinertia='5.215e-05 0.00041205 0.0003669 6.87e-06 0 0'/>\n",
    "                  <geom type='mesh' mesh='right-knee-spring'/>\n",
    "                </body>\n",
    "                <body name='{cassie_idx}right-shin' pos='0.06068 0.04741 0'>\n",
    "                  <inertial pos='0.18338 0.001169 -0.0002123' mass='0.577' fullinertia='0.00035939 0.014728 0.014707 -0.00020981 -2.266e-05 1.2e-07'/>\n",
    "                  <joint name='{cassie_idx}right-shin' type='hinge' range='-20 20' stiffness='1500' damping='0.1'/>\n",
    "                  <geom type='mesh' mesh='right-shin'/>\n",
    "                  <geom type='capsule' size='0.04' fromto='0 0 0 0.43476 0.02 0' class='collision-right'/>\n",
    "                  <body name='{cassie_idx}right-tarsus' pos='0.43476 0.02 0' xyaxes='0.52992 0.84805 0 -0.84805 0.52992 0'>\n",
    "                    <inertial pos='0.11046 -0.03058 0.00131' mass='0.782' fullinertia='0.00039238 0.013595 0.013674 0.00023651 4.987e-05 4.82e-06'/>\n",
    "                    <joint name='{cassie_idx}right-tarsus' type='hinge' ref='58' range='50 170' damping='0.1'/>\n",
    "                    <geom type='mesh' mesh='right-tarsus'/>\n",
    "                    <geom type='capsule' size='0.04' fromto='-0.01269 -0.03059 -0.00092 0.408 -0.04 0' class='collision-right'/>\n",
    "                    <body name='{cassie_idx}right-heel-spring' pos='-0.01269 -0.03059 -0.00092' xyaxes='-0.91211 0.40829 -0.036948 -0.40992 -0.90952 0.068841'>\n",
    "                      <inertial pos='0.081 0.0022 0' mass='0.126' fullinertia='2.959e-05 0.00022231 0.0002007 7.15e-06 6e-07 -1e-07'/>\n",
    "                      <joint name='{cassie_idx}right-heel-spring' type='hinge' limited='false' stiffness='1250'/>\n",
    "                      <geom type='mesh' mesh='right-heel-spring'/>\n",
    "                      <geom type='box' size='0.09 0.005 0.04' pos='0.035 0.005 0.0' class='collision-right'/>\n",
    "                      <site name=\"{cassie_idx}right-heel-spring-pt\" type=\"sphere\" pos=\"0.11877 0.0 -0.025\" size=\"0.005\" rgba=\"0.1 0.7 0.2 1.0\"/>\n",
    "                    </body>\n",
    "                    <body name='{cassie_idx}right-foot-crank' pos='0.058 -0.034 -0.02275'>\n",
    "                      <inertial pos='0.00493 2e-05 0.00215' mass='0.1261' fullinertia='2.6941e-05 4.9621e-05 6.3362e-05 -2.1e-09 3.9623e-06 1.09e-08'/>\n",
    "                      <joint name='{cassie_idx}right-foot-crank' type='hinge' range='-140 -30' damping='1'/>\n",
    "                      <geom type='mesh' mesh='right-foot-crank' contype='4' conaffinity='2'/>\n",
    "                      <body name='{cassie_idx}right-plantar-rod' pos='0.055 0 0.00791'>\n",
    "                        <inertial pos='0.17792 0 0' mass='0.1186' fullinertia='2.779e-06 0.001774 0.001775 -2.34e-08 8.1e-09 0'/>\n",
    "                        <joint name='{cassie_idx}right-plantar-rod' type='hinge' limited='false' damping='0.01'/>\n",
    "                        <geom type='mesh' mesh='right-plantar-rod'/>\n",
    "                        <geom type='capsule' size='0.008' fromto='0 0 0 0.35012 0.0 0' class='collision-right'/>\n",
    "                        <site name=\"{cassie_idx}right-plantar-rod-pt\" type=\"sphere\" pos=\"0.17506 0.0 0.0\" size=\"0.005\" rgba=\"0.1 0.7 0.2 1.0\"/>\n",
    "                      </body>\n",
    "                    </body>\n",
    "                    <body name='{cassie_idx}right-foot' pos='0.408 -0.04 0'>\n",
    "                      <inertial pos='0.00474 0.02748 0.00014' mass='0.1498' fullinertia='0.00017388 0.00016793 0.00033261 0.00011814 -1.36e-06 4e-07'/>\n",
    "                      <joint name='{cassie_idx}right-foot' type='hinge' range='-140 -30' damping='1' armature='0.01225'/>\n",
    "                      <geom type='mesh' mesh='right-foot'/>\n",
    "                      <geom type='capsule' size='0.02' fromto='-0.052821 0.092622 0 0.069746 -0.010224 0' class='collision-right'/>\n",
    "                      <site name=\"{cassie_idx}right-foot-mid\" type=\"sphere\" pos=\"0.01762 0.05219 0\" euler=\"140 0 -90\" size=\"0.005\" rgba=\"0.7 0.2 0.1 1.0\"/>\n",
    "                      <site name=\"{cassie_idx}right-toe\" type=\"sphere\" pos=\"-0.052821 0.092622 0.0\" size=\"0.005\" rgba=\"0.1 0.7 0.2 1.0\"/>\n",
    "                      <site name=\"{cassie_idx}right-heel\" type=\"sphere\" pos=\"0.069746 -0.010224 0\" size=\"0.005\" rgba=\"0.1 0.7 0.2 1.0\"/>\n",
    "                    </body>\n",
    "                  </body>\n",
    "                </body>\n",
    "              </body>\n",
    "            </body>\n",
    "          </body>\n",
    "        </body>\n",
    "      </body>\"\"\"\n",
    "\n",
    "equality = lambda cassie_idx: f\"\"\"<equality>\n",
    "    <connect body1='{cassie_idx}left-plantar-rod' body2='{cassie_idx}left-foot' anchor='0.35012 0 0'/>\n",
    "    <connect body1='{cassie_idx}left-achilles-rod' body2='{cassie_idx}left-heel-spring' anchor='0.5012 0 0'/>\n",
    "    <connect body1='{cassie_idx}right-plantar-rod' body2='{cassie_idx}right-foot' anchor='0.35012 0 0'/>\n",
    "    <connect body1='{cassie_idx}right-achilles-rod' body2='{cassie_idx}right-heel-spring' anchor='0.5012 0 0'/>\n",
    "  </equality>\n",
    "\"\"\"\n",
    "\n",
    "actuator = lambda cassie_idx: f\"\"\"  \n",
    "  <actuator>\n",
    "    <!-- User parameter is the maximum no-load motor RPM -->\n",
    "    <motor name='{cassie_idx}left-hip-roll'  joint='{cassie_idx}left-hip-roll'  gear='25' ctrllimited='true' ctrlrange='-4.5 4.5'   user='2900'/>\n",
    "    <motor name='{cassie_idx}left-hip-yaw'   joint='{cassie_idx}left-hip-yaw'   gear='25' ctrllimited='true' ctrlrange='-4.5 4.5'   user='2900'/>\n",
    "    <motor name='{cassie_idx}left-hip-pitch' joint='{cassie_idx}left-hip-pitch' gear='16' ctrllimited='true' ctrlrange='-12.2 12.2' user='1300'/>\n",
    "    <motor name='{cassie_idx}left-knee'      joint='{cassie_idx}left-knee'      gear='16' ctrllimited='true' ctrlrange='-12.2 12.2' user='1300'/>\n",
    "    <motor name='{cassie_idx}left-foot'      joint='{cassie_idx}left-foot'      gear='50' ctrllimited='true' ctrlrange='-0.9 0.9'   user='5500'/>\n",
    "    <motor name='{cassie_idx}right-hip-roll'  joint='{cassie_idx}right-hip-roll'  gear='25' ctrllimited='true' ctrlrange='-4.5 4.5'   user='2900'/>\n",
    "    <motor name='{cassie_idx}right-hip-yaw'   joint='{cassie_idx}right-hip-yaw'   gear='25' ctrllimited='true' ctrlrange='-4.5 4.5'   user='2900'/>\n",
    "    <motor name='{cassie_idx}right-hip-pitch' joint='{cassie_idx}right-hip-pitch' gear='16' ctrllimited='true' ctrlrange='-12.2 12.2' user='1300'/>\n",
    "    <motor name='{cassie_idx}right-knee'      joint='{cassie_idx}right-knee'      gear='16' ctrllimited='true' ctrlrange='-12.2 12.2' user='1300'/>\n",
    "    <motor name='{cassie_idx}right-foot'      joint='{cassie_idx}right-foot'      gear='50' ctrllimited='true' ctrlrange='-0.9 0.9'   user='5500'/>\n",
    "  </actuator>\"\"\"\n",
    "\n",
    "sensor = lambda cassie_idx: f\"\"\"\n",
    "   <sensor>\n",
    "    <framepos    name='{cassie_idx}pelvis-position' objtype='body' objname='{cassie_idx}cassie-pelvis' />\n",
    "\n",
    "    <!-- User parameter is the number of absolute encoder bits -->\n",
    "    <actuatorpos name='{cassie_idx}left-hip-roll-input'  actuator='{cassie_idx}left-hip-roll'  user='13'/>\n",
    "    <actuatorpos name='{cassie_idx}left-hip-yaw-input'   actuator='{cassie_idx}left-hip-yaw'   user='13'/>\n",
    "    <actuatorpos name='{cassie_idx}left-hip-pitch-input' actuator='{cassie_idx}left-hip-pitch' user='13'/>\n",
    "    <actuatorpos name='{cassie_idx}left-knee-input'      actuator='{cassie_idx}left-knee'      user='13'/>\n",
    "    <actuatorpos name='{cassie_idx}left-foot-input'      actuator='{cassie_idx}left-foot'      user='18'/>\n",
    "    <jointpos    name='{cassie_idx}left-shin-output'     joint='{cassie_idx}left-shin'         user='18' noise='2e-4'/>\n",
    "    <jointpos    name='{cassie_idx}left-tarsus-output'   joint='{cassie_idx}left-tarsus'       user='18' noise='2e-4'/>\n",
    "    <jointpos    name='{cassie_idx}left-foot-output'     joint='{cassie_idx}left-foot'         user='13'/>\n",
    "    <actuatorpos name='{cassie_idx}right-hip-roll-input'  actuator='{cassie_idx}right-hip-roll'   user='13'/>\n",
    "    <actuatorpos name='{cassie_idx}right-hip-yaw-input'   actuator='{cassie_idx}right-hip-yaw'    user='13'/>\n",
    "    <actuatorpos name='{cassie_idx}right-hip-pitch-input' actuator='{cassie_idx}right-hip-pitch'  user='13'/>\n",
    "    <actuatorpos name='{cassie_idx}right-knee-input'      actuator='{cassie_idx}right-knee'       user='13'/>\n",
    "    <actuatorpos name='{cassie_idx}right-foot-input'      actuator='{cassie_idx}right-foot'       user='18'/>\n",
    "    <jointpos    name='{cassie_idx}right-shin-output'     joint='{cassie_idx}right-shin'          user='18' noise='2e-4'/>\n",
    "    <jointpos    name='{cassie_idx}right-tarsus-output'   joint='{cassie_idx}right-tarsus'        user='18' noise='2e-4'/>\n",
    "    <jointpos    name='{cassie_idx}right-foot-output'     joint='{cassie_idx}right-foot'          user='13'/>\n",
    "\n",
    "    <framequat     name='{cassie_idx}pelvis-orientation' objtype='site' objname='{cassie_idx}imu'/>\n",
    "    <velocimeter   name=\"{cassie_idx}pelvis-linear-velocity\" site=\"{cassie_idx}cassie-pelvis_site\" noise=\"1e-2\" cutoff=\"157\"/>\n",
    "    <gyro          name='{cassie_idx}pelvis-angular-velocity'    site='{cassie_idx}imu' noise='5e-4' cutoff='34.9'/>\n",
    "    <accelerometer name='{cassie_idx}pelvis-linear-acceleration' site='{cassie_idx}imu' noise='1e-2' cutoff='157'/>\n",
    "    <magnetometer  name='{cassie_idx}pelvis-magnetometer'        site='{cassie_idx}imu'/>\n",
    "\n",
    "\n",
    "    <force name='{cassie_idx}pelvis-force'  site='{cassie_idx}cassie-pelvis_site'/>\n",
    "\n",
    "  </sensor>\"\"\""
   ],
   "metadata": {
    "collapsed": false,
    "ExecuteTime": {
     "end_time": "2024-06-05T07:56:43.556304Z",
     "start_time": "2024-06-05T07:56:43.540269Z"
    }
   },
   "id": "2158490e80ce76ff",
   "execution_count": 21
  },
  {
   "cell_type": "code",
   "outputs": [
    {
     "data": {
      "text/plain": "50"
     },
     "execution_count": 30,
     "metadata": {},
     "output_type": "execute_result"
    }
   ],
   "source": [
    "tags = []\n",
    "\n",
    "box_size = (2, 4)\n",
    "w, h = 5, 10\n",
    "for i, x in enumerate(np.linspace(-box_size[0], box_size[0], w)):\n",
    "    for j, y in enumerate(np.linspace(-box_size[1], box_size[1], h)):\n",
    "        idx = i * h + j\n",
    "\n",
    "        cassie_idx = \"\" if idx == 0 else f\"c{idx + 1}_\"\n",
    "\n",
    "        tags.append((cassie_idx, (x, y)))\n",
    "len(tags)"
   ],
   "metadata": {
    "collapsed": false,
    "ExecuteTime": {
     "end_time": "2024-06-05T07:57:27.964617Z",
     "start_time": "2024-06-05T07:57:27.960023Z"
    }
   },
   "id": "207062bfb26ea623",
   "execution_count": 30
  },
  {
   "cell_type": "code",
   "outputs": [],
   "source": [
    "xml = f\"\"\"\n",
    "<!-- Cassie simulation model developed by the Dynamic Robotics Laboratory -->\n",
    "<mujoco model='cassie'>\n",
    "  <compiler inertiafromgeom='auto' angle='degree' eulerseq='zyx' meshdir='cassie-stl-meshes'/>\n",
    "  <size nuser_actuator='1' nuser_sensor='1' nuser_geom='1' nconmax='1000'/>\n",
    "  <option timestep='0.0005' iterations='50' solver='Newton' gravity='0 0 -9.80665'/>\n",
    "  <!-- Timestep is set to 0.0005 because our controller runs at 2 kHz -->\n",
    "  <!-- Larger values still have stable dynamics -->\n",
    "\n",
    "  <visual>\n",
    "    <quality shadowsize='4096'/>\n",
    "    <map znear='0.01' zfar='5'/>\n",
    "    <global offwidth='848'/>\n",
    "  </visual>\n",
    "\n",
    "  <default>\n",
    "    <joint limited='true'/>\n",
    "    <motor ctrllimited='true'/>\n",
    "    <geom contype='0' conaffinity='0' condim='1' solref='0.005 1'/>\n",
    "    <equality solref='0.005 1'/>\n",
    "    <default class='cassie'>\n",
    "      <geom material='cassie'/>\n",
    "    </default>\n",
    "    <default class='collision'>\n",
    "      <!-- User parameter for geoms is used to identify collision types -->\n",
    "      <geom material='collision' contype='1' user='2'/>\n",
    "      <default class='collision-left'>\n",
    "        <geom contype='2' conaffinity='4' group='1'/>\n",
    "      </default>\n",
    "      <default class='collision-right'>\n",
    "        <geom contype='4' conaffinity='2' group='1'/>\n",
    "      </default>\n",
    "    </default>\n",
    "    <default class='obstacle'>\n",
    "      <geom material='obstacle' condim='3' contype='8' conaffinity='15' user='1'/>\n",
    "    </default>\n",
    "  </default>\n",
    "\n",
    "  <asset>\n",
    "    <texture type='skybox' builtin='gradient' width='128' height='128' rgb1='1 1 1' rgb2='1 1 1'/>\n",
    "    \n",
    "    <texture name='plane' type='2d' builtin='checker' rgb1='0.2 0.2 0.2' rgb2='0.3 0.3 0.3' width='512' height='512'/>\n",
    "    <material name='plane' reflectance='0.0' texture='plane' texrepeat='1 1' texuniform='true'/>\n",
    "    <material name='cassie'    rgba='0.9 0.5 0.1 1'/>\n",
    "    <material name='collision' rgba='0.1 0.5 0.9 0'/>\n",
    "    <material name='obstacle'  rgba='0.2 0.6 0.2 1'/>\n",
    "    <mesh name='cassie-pelvis' file='pelvis.stl'/>\n",
    "    <mesh name='left-hip-roll'     file='hip-roll.stl'/>\n",
    "    <mesh name='left-hip-yaw'      file='hip-yaw.stl'/>\n",
    "    <mesh name='left-hip-pitch'    file='hip-pitch.stl'/>\n",
    "    <mesh name='left-achilles-rod' file='achilles-rod.stl'/>\n",
    "    <mesh name='left-knee'         file='knee.stl'/>\n",
    "    <mesh name='left-knee-spring'  file='knee-spring.stl'/>\n",
    "    <mesh name='left-shin'         file='shin.stl'/>\n",
    "    <mesh name='left-tarsus'       file='tarsus.stl'/>\n",
    "    <mesh name='left-heel-spring'  file='heel-spring.stl'/>\n",
    "    <mesh name='left-foot-crank'   file='foot-crank.stl'/>\n",
    "    <mesh name='left-plantar-rod'  file='plantar-rod.stl'/>\n",
    "    <mesh name='left-foot'         file='foot.stl'/>\n",
    "    <mesh name='right-hip-roll'     scale='1 -1 1' file='hip-roll.stl'/>\n",
    "    <mesh name='right-hip-yaw'      scale='1 -1 1' file='hip-yaw.stl'/>\n",
    "    <mesh name='right-hip-pitch'    scale='1 1 -1' file='hip-pitch.stl'/>\n",
    "    <mesh name='right-achilles-rod' scale='1 1 -1' file='achilles-rod.stl'/>\n",
    "    <mesh name='right-knee'         scale='1 1 -1' file='knee.stl'/>\n",
    "    <mesh name='right-knee-spring'  scale='1 1 -1' file='knee-spring.stl'/>\n",
    "    <mesh name='right-shin'         scale='1 1 -1' file='shin.stl'/>\n",
    "    <mesh name='right-tarsus'       scale='1 1 -1' file='tarsus.stl'/>\n",
    "    <mesh name='right-heel-spring'  scale='1 1 -1' file='heel-spring.stl'/>\n",
    "    <mesh name='right-foot-crank'   scale='1 1 -1' file='foot-crank.stl'/>\n",
    "    <mesh name='right-plantar-rod'  scale='1 1 -1' file='plantar-rod.stl'/>\n",
    "    <mesh name='right-foot'         scale='1 1 -1' file='foot.stl'/>\n",
    "    <mesh name='cassiepede-standoff'  scale='0.001 0.001 0.001' file='cassiepede_standoff.stl'/>\n",
    "  </asset>\n",
    "\n",
    "  <worldbody>\n",
    "    <geom name='floor' pos='0.001 0 0' size='100 100 .125' type='plane' material='plane' condim='3' conaffinity='15' priority='100'/>\n",
    "    <light mode='trackcom' pos='0 0 5' dir='0 0 -1'/>\n",
    "    <light directional='true' pos='0 0 3' dir='0 0 -1' diffuse='0.2 0.2 0.2' specular='0 0 0'/>\n",
    "\n",
    "    <body name=\"deck\" pos=\"0 0 1.2\">\n",
    "\n",
    "      <inertial pos='0.0 0.0 0.0' mass='0'/>\n",
    "\n",
    "      <site name='poi_site' size='0.1' pos='0 0 0' rgba='0.0 0.5 0.5 1.0'/>\n",
    "\n",
    "      <body name=\"connector_1_2_3\" pos='0.0 0.0 0.1'>\n",
    "            <geom name=\"box_weight\" mass='1000.0' type='box' size='0.2 0.2 0.2' pos='0.0 0.0 0.25'\n",
    "              rgba=\"0.5 0.7 0.5 0.7\" class='collision' group='1'/>\n",
    "        <geom name=\"connector_1_2_3\" mass='10' type='box' size='{box_size[0] + 0.2} {box_size[1] + 0.2} 0.02'\n",
    "              rgba=\"0.93333333 0.29411765 0.16862745 0.5\" class='collision' group='1'/>\n",
    "      </body>\n",
    "\n",
    "      <joint type='slide' axis='1 0 0' limited='false' name=\"slide_a0\"/>\n",
    "      <joint type='slide' axis='0 1 0' limited='false' name=\"slide_a1\"/>\n",
    "      <joint type='slide' axis='0 0 1' limited='false' name=\"slide_a2\" ref='1.01'/>\n",
    "      <joint type='ball' limited='false'/>\"\"\"\n",
    "\n",
    "xml += '\\n'.join([body(*tag) for tag in tags])\n",
    "\n",
    "xml += \"\"\"\n",
    "\n",
    "    </body>\n",
    "\n",
    "  </worldbody>\n",
    "\"\"\"\n",
    "\n",
    "xml += '\\n'.join([equality(cassie_idx) for cassie_idx, _ in tags])\n",
    "\n",
    "xml += '\\n'.join([actuator(cassie_idx) for cassie_idx, _ in tags])\n",
    "\n",
    "xml += \"\"\"\n",
    " <sensor>\n",
    "    <framepos name='poi_position' objtype='site' objname='poi_site'/>\n",
    "    <framequat name='poi_orientation' objtype='site' objname='poi_site'/>\n",
    "    <velocimeter name=\"poi_linear_velocity\" site=\"poi_site\" noise=\"1e-2\" cutoff=\"157\"/>\n",
    "    <gyro name='poi_angular_velocity' site='poi_site' noise='5e-4' cutoff='34.9'/>\n",
    "    <accelerometer name='poi_linear_acceleration' site='poi_site' noise='1e-2' cutoff='157'/>\n",
    "  </sensor>\n",
    "\"\"\"\n",
    "\n",
    "xml += '\\n'.join([sensor(cassie_idx) for cassie_idx, _ in tags])\n",
    "\n",
    "xml += \"\\n</mujoco>\""
   ],
   "metadata": {
    "collapsed": false,
    "ExecuteTime": {
     "end_time": "2024-06-05T07:57:32.567577Z",
     "start_time": "2024-06-05T07:57:32.561792Z"
    }
   },
   "id": "d99aecac9fa96c57",
   "execution_count": 32
  },
  {
   "cell_type": "code",
   "outputs": [
    {
     "name": "stdout",
     "output_type": "stream",
     "text": [
      "/Users/bikram/workspace/PycharmProjects/roadrunner_refactor/algo/cassiepede\r\n"
     ]
    }
   ],
   "source": [
    "!pwd"
   ],
   "metadata": {
    "collapsed": false,
    "ExecuteTime": {
     "end_time": "2024-06-05T07:57:32.902651Z",
     "start_time": "2024-06-05T07:57:32.778088Z"
    }
   },
   "id": "14d80e9a357c70c4",
   "execution_count": 33
  },
  {
   "cell_type": "code",
   "outputs": [],
   "source": [
    "# write to file\n",
    "with open(\"/Users/bikram/workspace/PycharmProjects/roadrunner_refactor/sim/cassie_sim/cassiemujoco/cassiepede_rectangle50.xml\", \"w\") as f:\n",
    "    f.write(xml)"
   ],
   "metadata": {
    "collapsed": false,
    "ExecuteTime": {
     "end_time": "2024-06-05T07:57:33.803466Z",
     "start_time": "2024-06-05T07:57:33.799663Z"
    }
   },
   "id": "9508cd636606ea8c",
   "execution_count": 34
  },
  {
   "cell_type": "code",
   "outputs": [
    {
     "name": "stdout",
     "output_type": "stream",
     "text": [
      "0 0 0 0 0 0 0 0 0 0 0 0 0 0 0 0 0 0 0 0 0 0 0 0 0 0 0 0 0 0 0 0 0 0 0 0 0 0 0 0 0 0 0 0 0 0 0 0 0 0 0 0 0 0 0 0 0 0 0 0 0 0 0 0 0 0 0 0 0 0 0 0 0 0 0 0 0 0 0 0 0 0 0 0 0 0 0 0 0 0 0 0 0 0 0 0 0 0 0 1\n"
     ]
    }
   ],
   "source": [
    "# num_cassie_prob\n",
    "print(\" \".join(map(str, np.zeros(len(tags) - 1, int))) + \" 1\")"
   ],
   "metadata": {
    "collapsed": false,
    "ExecuteTime": {
     "end_time": "2024-06-05T07:19:11.383372Z",
     "start_time": "2024-06-05T07:19:11.381116Z"
    }
   },
   "id": "2a5127e1cd3521db",
   "execution_count": 18
  },
  {
   "cell_type": "code",
   "outputs": [
    {
     "name": "stdout",
     "output_type": "stream",
     "text": [
      "/Users/bikram/workspace/PycharmProjects/roadrunner_refactor/algo/cassiepede\r\n"
     ]
    }
   ],
   "source": [
    "!pwd"
   ],
   "metadata": {
    "collapsed": false,
    "ExecuteTime": {
     "end_time": "2024-06-05T07:15:53.967360Z",
     "start_time": "2024-06-05T07:15:53.847208Z"
    }
   },
   "id": "b11755d7a75df14b",
   "execution_count": 9
  },
  {
   "cell_type": "code",
   "outputs": [],
   "source": [
    "import os"
   ],
   "metadata": {
    "collapsed": false,
    "ExecuteTime": {
     "end_time": "2024-06-05T07:16:02.259683Z",
     "start_time": "2024-06-05T07:16:02.257474Z"
    }
   },
   "id": "6f6d429e95413b84",
   "execution_count": 10
  },
  {
   "cell_type": "code",
   "outputs": [
    {
     "data": {
      "text/plain": "'/Users/bikram/workspace/PycharmProjects/roadrunner_refactor/algo/cassiepede'"
     },
     "execution_count": 11,
     "metadata": {},
     "output_type": "execute_result"
    }
   ],
   "source": [
    "os.getcwd()"
   ],
   "metadata": {
    "collapsed": false,
    "ExecuteTime": {
     "end_time": "2024-06-05T07:16:08.245220Z",
     "start_time": "2024-06-05T07:16:08.242324Z"
    }
   },
   "id": "8240f70ba2bc5ce1",
   "execution_count": 11
  },
  {
   "cell_type": "code",
   "outputs": [],
   "source": [],
   "metadata": {
    "collapsed": false
   },
   "id": "8e0135ac1da37555"
  }
 ],
 "metadata": {
  "kernelspec": {
   "name": "ml310",
   "language": "python",
   "display_name": "Python 3.10 (ml310)"
  },
  "language_info": {
   "codemirror_mode": {
    "name": "ipython",
    "version": 2
   },
   "file_extension": ".py",
   "mimetype": "text/x-python",
   "name": "python",
   "nbconvert_exporter": "python",
   "pygments_lexer": "ipython2",
   "version": "2.7.6"
  }
 },
 "nbformat": 4,
 "nbformat_minor": 5
}
