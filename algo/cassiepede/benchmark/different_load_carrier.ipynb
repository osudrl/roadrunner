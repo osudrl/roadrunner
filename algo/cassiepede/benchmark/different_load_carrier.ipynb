{
 "cells": [
  {
   "cell_type": "code",
   "execution_count": 4,
   "id": "initial_id",
   "metadata": {
    "collapsed": true,
    "ExecuteTime": {
     "end_time": "2024-06-02T20:13:34.806239Z",
     "start_time": "2024-06-02T20:13:34.801771Z"
    }
   },
   "outputs": [],
   "source": [
    "import os\n",
    "from pathlib import PosixPath\n",
    "import glob\n",
    "\n",
    "import matplotlib.pyplot as plt\n",
    "import numpy as np\n",
    "import pandas as pd\n",
    "import seaborn as sns\n",
    "from tqdm import tqdm\n",
    "import matplotlib as mpl\n",
    "from collections import OrderedDict\n",
    "\n",
    "tqdm.pandas(ncols=50)"
   ]
  },
  {
   "cell_type": "markdown",
   "source": [
    "## Data preparation"
   ],
   "metadata": {
    "collapsed": false
   },
   "id": "3716ec2d42ea67d3"
  },
  {
   "cell_type": "code",
   "outputs": [
    {
     "name": "stderr",
     "output_type": "stream",
     "text": [
      "100%|█████| 18000/18000 [00:04<00:00, 4168.09it/s]\n"
     ]
    },
    {
     "data": {
      "text/plain": "False"
     },
     "execution_count": 6,
     "metadata": {},
     "output_type": "execute_result"
    }
   ],
   "source": [
    "df = None\n",
    "\n",
    "for path in [\n",
    "    'data/trained3_payloads_1000traj_2/*.csv',\n",
    "]:\n",
    "\n",
    "    for file in glob.glob(path):\n",
    "        df_ = pd.read_csv(file, index_col=0)\n",
    "\n",
    "        if df is None:\n",
    "            df = df_\n",
    "        else:\n",
    "            # Merge rows\n",
    "            df = pd.concat([df, df_], ignore_index=True)\n",
    "\n",
    "\n",
    "def extend_columns(x):\n",
    "    run_args = eval(x['run_args'])\n",
    "\n",
    "    res = dict(\n",
    "        command_x=run_args['command']['x'],\n",
    "        command_y=run_args['command']['y'],\n",
    "        command_t=run_args['command']['t'],\n",
    "        command_h=run_args['command']['h'],\n",
    "        terrain=run_args['env']['terrain'],\n",
    "        force=run_args['env']['force'],\n",
    "        policy=run_args['env']['policy'],\n",
    "    )\n",
    "\n",
    "    total_power = 0\n",
    "    for i, power in enumerate(list(map(float, x['power'][1:-1].split()))):\n",
    "        res[f'power_{i}'] = power\n",
    "        total_power += power\n",
    "\n",
    "    res['power'] = total_power\n",
    "\n",
    "    joint_forces = []\n",
    "    for i, joint_force in enumerate(list(map(float, x['joint_forces'][1:-1].split()))):\n",
    "        res[f'joint_forces_{i}'] = joint_force\n",
    "        joint_forces.append(joint_force)\n",
    "\n",
    "    res['joint_forces'] = np.mean(joint_forces)\n",
    "\n",
    "    res['perturbation_force_start'], res['perturbation_force_end'] \\\n",
    "        = map(int, x['perturbation_force_bound'][1:-1].split(','))\n",
    "\n",
    "    res['perturbation_force_window'] = res['perturbation_force_end'] - res['perturbation_force_start']\n",
    "\n",
    "    total_height_diff = 0\n",
    "    for i, height_diff in enumerate(list(map(float, x['height_diff'][1:-1].split()))):\n",
    "        res[f'height_diff_{i}'] = height_diff\n",
    "        total_height_diff += height_diff\n",
    "\n",
    "    res['height_diff'] = total_height_diff\n",
    "\n",
    "    return res\n",
    "\n",
    "\n",
    "df = pd.concat([df.progress_apply(lambda x: pd.Series(extend_columns(x)), axis=1), df], axis=1)\n",
    "df = df.loc[:, ~df.columns.duplicated()]\n",
    "\n",
    "df.columns.duplicated().any()"
   ],
   "metadata": {
    "collapsed": false,
    "ExecuteTime": {
     "end_time": "2024-06-02T20:13:46.438405Z",
     "start_time": "2024-06-02T20:13:41.853607Z"
    }
   },
   "id": "cfd8cab8cb4ec917",
   "execution_count": 6
  },
  {
   "cell_type": "code",
   "outputs": [
    {
     "data": {
      "text/plain": "policy                                         terrain             \ntrained_3_torque_joint_force_randomize_weight  cassiepede_rectangle    18000\ndtype: int64"
     },
     "execution_count": 11,
     "metadata": {},
     "output_type": "execute_result"
    }
   ],
   "source": [
    "df.groupby(['policy', 'terrain']).size()"
   ],
   "metadata": {
    "collapsed": false,
    "ExecuteTime": {
     "end_time": "2024-06-02T20:14:26.058412Z",
     "start_time": "2024-06-02T20:14:26.052996Z"
    }
   },
   "id": "6a30b769062f3455",
   "execution_count": 11
  },
  {
   "cell_type": "markdown",
   "source": [
    "### Drifts"
   ],
   "metadata": {
    "collapsed": false
   },
   "id": "bc3599e919ad2eb0"
  },
  {
   "cell_type": "code",
   "outputs": [],
   "source": [
    "df_ = df.copy()\n",
    "\n",
    "# Choose policy and force (force = 0 for standing metric)\n",
    "df_ = df_[(df_['policy'] == 'trained_3_torque_joint_force_randomize_weight')]\n",
    "\n",
    "# Group and aggregate\n",
    "df_ = df_.groupby(['command_x', 'command_y', 'command_t', 'terrain']).agg(\n",
    "    {'odometry_x': 'mean', 'odometry_y': 'mean', 'orientation_error': 'mean', 'episode_length': 'mean'})\n",
    "\n",
    "df_ = df_.reset_index()\n",
    "\n",
    "# Index will be x-axis, columns will be y-axis and values will be x-y cell\n",
    "df_ = df_.pivot(index='terrain', columns=['command_x', 'command_y', 'command_t'],\n",
    "                values=['odometry_x', 'odometry_y', 'orientation_error'])\n",
    "\n",
    "# Compute error (with traj len 1000 and policy rate 50hz, it should have covered 20m)\n",
    "df_[('odometry_x', 1, 0, 0)] = 20 - df_[('odometry_x', 1, 0, 0)]\n",
    "df_[('odometry_y', 0, 0.25, 0)] = 5 - df_[('odometry_y', 0, 0.25, 0)]\n",
    "df_['orientation_error'] = -df_['orientation_error']\n",
    "# Reorder columns\n",
    "columns = []\n",
    "for command in (0, 0, 0), (1, 0, 0), (0, 0.25, 0), (0, 0, 15):\n",
    "    for odom in 'odometry_x', 'odometry_y', 'orientation_error':\n",
    "        columns.append((odom, *command))\n",
    "\n",
    "df_ = df_.reindex(columns, axis=1)"
   ],
   "metadata": {
    "collapsed": false,
    "ExecuteTime": {
     "end_time": "2024-06-02T20:14:15.632477Z",
     "start_time": "2024-06-02T20:14:15.605337Z"
    }
   },
   "id": "58943f762f96192f",
   "execution_count": 9
  },
  {
   "cell_type": "code",
   "outputs": [
    {
     "data": {
      "text/plain": "                     odometry_x odometry_y orientation_error odometry_x  \\\ncommand_x                     0          0                 0          1   \ncommand_y                  0.00       0.00              0.00       0.00   \ncommand_t                    0          0                 0          0    \nterrain                                                                   \ncassiepede_rectangle   0.070332   0.095262          1.199325    1.55497   \n\n                     odometry_y orientation_error odometry_x odometry_y  \\\ncommand_x                     1                 1          0          0   \ncommand_y                  0.00              0.00       0.25       0.25   \ncommand_t                    0                 0          0          0    \nterrain                                                                   \ncassiepede_rectangle   0.907693          0.569379   0.206592    0.31152   \n\n                     orientation_error odometry_x odometry_y orientation_error  \ncommand_x                            0          0          0                 0  \ncommand_y                         0.25       0.00       0.00              0.00  \ncommand_t                           0          15         15                15  \nterrain                                                                         \ncassiepede_rectangle         -0.353392   0.091005   0.375103          6.300302  ",
      "text/html": "<div>\n<style scoped>\n    .dataframe tbody tr th:only-of-type {\n        vertical-align: middle;\n    }\n\n    .dataframe tbody tr th {\n        vertical-align: top;\n    }\n\n    .dataframe thead tr th {\n        text-align: left;\n    }\n\n    .dataframe thead tr:last-of-type th {\n        text-align: right;\n    }\n</style>\n<table border=\"1\" class=\"dataframe\">\n  <thead>\n    <tr>\n      <th></th>\n      <th>odometry_x</th>\n      <th>odometry_y</th>\n      <th>orientation_error</th>\n      <th>odometry_x</th>\n      <th>odometry_y</th>\n      <th>orientation_error</th>\n      <th>odometry_x</th>\n      <th>odometry_y</th>\n      <th>orientation_error</th>\n      <th>odometry_x</th>\n      <th>odometry_y</th>\n      <th>orientation_error</th>\n    </tr>\n    <tr>\n      <th>command_x</th>\n      <th>0</th>\n      <th>0</th>\n      <th>0</th>\n      <th>1</th>\n      <th>1</th>\n      <th>1</th>\n      <th>0</th>\n      <th>0</th>\n      <th>0</th>\n      <th>0</th>\n      <th>0</th>\n      <th>0</th>\n    </tr>\n    <tr>\n      <th>command_y</th>\n      <th>0.00</th>\n      <th>0.00</th>\n      <th>0.00</th>\n      <th>0.00</th>\n      <th>0.00</th>\n      <th>0.00</th>\n      <th>0.25</th>\n      <th>0.25</th>\n      <th>0.25</th>\n      <th>0.00</th>\n      <th>0.00</th>\n      <th>0.00</th>\n    </tr>\n    <tr>\n      <th>command_t</th>\n      <th>0</th>\n      <th>0</th>\n      <th>0</th>\n      <th>0</th>\n      <th>0</th>\n      <th>0</th>\n      <th>0</th>\n      <th>0</th>\n      <th>0</th>\n      <th>15</th>\n      <th>15</th>\n      <th>15</th>\n    </tr>\n    <tr>\n      <th>terrain</th>\n      <th></th>\n      <th></th>\n      <th></th>\n      <th></th>\n      <th></th>\n      <th></th>\n      <th></th>\n      <th></th>\n      <th></th>\n      <th></th>\n      <th></th>\n      <th></th>\n    </tr>\n  </thead>\n  <tbody>\n    <tr>\n      <th>cassiepede_rectangle</th>\n      <td>0.070332</td>\n      <td>0.095262</td>\n      <td>1.199325</td>\n      <td>1.55497</td>\n      <td>0.907693</td>\n      <td>0.569379</td>\n      <td>0.206592</td>\n      <td>0.31152</td>\n      <td>-0.353392</td>\n      <td>0.091005</td>\n      <td>0.375103</td>\n      <td>6.300302</td>\n    </tr>\n  </tbody>\n</table>\n</div>"
     },
     "execution_count": 10,
     "metadata": {},
     "output_type": "execute_result"
    }
   ],
   "source": [
    "df_"
   ],
   "metadata": {
    "collapsed": false,
    "ExecuteTime": {
     "end_time": "2024-06-02T20:14:16.060315Z",
     "start_time": "2024-06-02T20:14:16.050230Z"
    }
   },
   "id": "168f6e977a63a492",
   "execution_count": 10
  },
  {
   "cell_type": "code",
   "outputs": [],
   "source": [
    "df_.to_csv('table.csv', float_format='%.2f', header=False, index=False, sep=' ')"
   ],
   "metadata": {
    "collapsed": false,
    "ExecuteTime": {
     "end_time": "2024-05-29T00:38:19.352107Z",
     "start_time": "2024-05-29T00:38:19.347930Z"
    }
   },
   "id": "255e54e79e909da0",
   "execution_count": 6
  },
  {
   "cell_type": "code",
   "outputs": [
    {
     "name": "stdout",
     "output_type": "stream",
     "text": [
      "\\multicolumn{1}{c|}{} &\n",
      "  \\multicolumn{1}{c|}{A} &\n",
      "  \\multicolumn{1}{c|}{0.14} &\n",
      "  \\multicolumn{1}{c|}{0.04} &\n",
      "  \\multicolumn{1}{c|}{0.45} &\n",
      "  \\multicolumn{1}{c|}{} &\n",
      "  \\multicolumn{1}{c|}{1.19} &\n",
      "  \\multicolumn{1}{c|}{0.79} &\n",
      "  \\multicolumn{1}{c|}{1.05} &\n",
      "  \\multicolumn{1}{c|}{} &\n",
      "  \\multicolumn{1}{c|}{0.61} &\n",
      "  \\multicolumn{1}{c|}{0.79} &\n",
      "  \\multicolumn{1}{c|}{-0.19} &\n",
      "  \\multicolumn{1}{c|}{} &\n",
      "  \\multicolumn{1}{c|}{-0.24} &\n",
      "  \\multicolumn{1}{c|}{-0.20} &\n",
      "  \\multicolumn{1}{c|}{10.95} \\\\ \\cline{2-5} \\cline{7-9} \\cline{11-13} \\cline{15-17}\n",
      "\\multicolumn{1}{c|}{} &\n",
      "  \\multicolumn{1}{c|}{B} &\n",
      "  \\multicolumn{1}{c|}{0.21} &\n",
      "  \\multicolumn{1}{c|}{-0.13} &\n",
      "  \\multicolumn{1}{c|}{-0.60} &\n",
      "  \\multicolumn{1}{c|}{} &\n",
      "  \\multicolumn{1}{c|}{1.25} &\n",
      "  \\multicolumn{1}{c|}{0.63} &\n",
      "  \\multicolumn{1}{c|}{0.44} &\n",
      "  \\multicolumn{1}{c|}{} &\n",
      "  \\multicolumn{1}{c|}{0.38} &\n",
      "  \\multicolumn{1}{c|}{1.27} &\n",
      "  \\multicolumn{1}{c|}{-2.43} &\n",
      "  \\multicolumn{1}{c|}{} &\n",
      "  \\multicolumn{1}{c|}{-0.79} &\n",
      "  \\multicolumn{1}{c|}{-0.57} &\n",
      "  \\multicolumn{1}{c|}{17.19} \\\\ \\cline{2-5} \\cline{7-9} \\cline{11-13} \\cline{15-17}\n",
      "\\multicolumn{1}{c|}{} &\n",
      "  \\multicolumn{1}{c|}{C} &\n",
      "  \\multicolumn{1}{c|}{0.25} &\n",
      "  \\multicolumn{1}{c|}{-0.00} &\n",
      "  \\multicolumn{1}{c|}{0.38} &\n",
      "  \\multicolumn{1}{c|}{} &\n",
      "  \\multicolumn{1}{c|}{1.03} &\n",
      "  \\multicolumn{1}{c|}{0.74} &\n",
      "  \\multicolumn{1}{c|}{0.21} &\n",
      "  \\multicolumn{1}{c|}{} &\n",
      "  \\multicolumn{1}{c|}{0.58} &\n",
      "  \\multicolumn{1}{c|}{1.42} &\n",
      "  \\multicolumn{1}{c|}{-2.36} &\n",
      "  \\multicolumn{1}{c|}{} &\n",
      "  \\multicolumn{1}{c|}{-0.57} &\n",
      "  \\multicolumn{1}{c|}{-0.58} &\n",
      "  \\multicolumn{1}{c|}{14.80} \\\\ \\cline{2-5} \\cline{7-9} \\cline{11-13} \\cline{15-17}\n",
      "\\multicolumn{1}{l|}{\\parbox[t]{2mm}{\\multirow{-4}{*}{\\rotatebox[origin=c]{90}{Load carrier}}}} &\n",
      "  \\multicolumn{1}{c|}{D} &\n",
      "  \\multicolumn{1}{c|}{0.22} &\n",
      "  \\multicolumn{1}{c|}{0.06} &\n",
      "  \\multicolumn{1}{c|}{-0.17} &\n",
      "  \\multicolumn{1}{c|}{} &\n",
      "  \\multicolumn{1}{c|}{1.45} &\n",
      "  \\multicolumn{1}{c|}{0.64} &\n",
      "  \\multicolumn{1}{c|}{-0.17} &\n",
      "  \\multicolumn{1}{c|}{} &\n",
      "  \\multicolumn{1}{c|}{0.50} &\n",
      "  \\multicolumn{1}{c|}{1.48} &\n",
      "  \\multicolumn{1}{c|}{-3.04} &\n",
      "  \\multicolumn{1}{c|}{} &\n",
      "  \\multicolumn{1}{c|}{-0.48} &\n",
      "  \\multicolumn{1}{c|}{-1.27} &\n",
      "  \\multicolumn{1}{c|}{24.01} \\\\ \\cline{2-5} \\cline{7-9} \\cline{11-13} \\cline{15-17}\n"
     ]
    }
   ],
   "source": [
    "row = ''\n",
    "\n",
    "y_label = 'Load carrier'\n",
    "y_ticks = ['A', 'B', 'C', 'D']\n",
    "\n",
    "for i in range(len(df_)):\n",
    "\n",
    "    if i == len(df_) - 1:\n",
    "        row += r'\\multicolumn{1}{l|}{\\parbox[t]{2mm}{\\multirow{-4}{*}{\\rotatebox[origin=c]{90}{' + y_label + '}}}} &\\n'\n",
    "\n",
    "    else:\n",
    "        row += '\\multicolumn{1}{c|}{} &\\n'\n",
    "\n",
    "    for j in range(len(df_.columns)):\n",
    "        if j == 0:\n",
    "            row += '  \\multicolumn{1}{c|}{' + y_ticks[i] + '}' + ' &\\n'\n",
    "        elif j % 3 == 0:\n",
    "            row += '  \\multicolumn{1}{c|}{} &\\n'\n",
    "\n",
    "        if j == len(df_.columns) - 1:\n",
    "            row += '  \\multicolumn{1}{c|}{' + f'{df_.iloc[i, j]:.2f}' + r'} \\\\ \\cline{2-5} \\cline{7-9} \\cline{11-13} \\cline{15-17}' + '\\n'\n",
    "        else:\n",
    "            row += \"  \\multicolumn{1}{c|}{\" + f'{df_.iloc[i, j]:.2f}' + \"}\" + ' &\\n'\n",
    "print(row)"
   ],
   "metadata": {
    "collapsed": false,
    "ExecuteTime": {
     "end_time": "2024-05-29T00:38:19.357549Z",
     "start_time": "2024-05-29T00:38:19.353067Z"
    }
   },
   "id": "4d5448382877cb5f",
   "execution_count": 7
  },
  {
   "cell_type": "markdown",
   "source": [
    "## Failure rate"
   ],
   "metadata": {
    "collapsed": false
   },
   "id": "92b32bbcb6253ba7"
  },
  {
   "cell_type": "code",
   "outputs": [
    {
     "name": "stderr",
     "output_type": "stream",
     "text": [
      "/var/folders/hn/tndm9dyn3dd0xbtnwgv3m9cr0000gn/T/ipykernel_14520/2514512980.py:25: UserWarning: The palette list has more values (10) than needed (4), which may not be intended.\n",
      "  ax = sns.lineplot(data=df_, x='force', y='failure_rate', hue='terrain', errorbar=('ci', 95), palette=cmap)\n"
     ]
    },
    {
     "data": {
      "text/plain": "<Figure size 400x300 with 1 Axes>",
      "image/png": "[encoded data removed]"
     },
     "metadata": {},
     "output_type": "display_data"
    }
   ],
   "source": [
    "plt.figure(figsize=(4, 3))\n",
    "\n",
    "df_ = df.copy()\n",
    "\n",
    "\n",
    "def weighted_failure_rate(length, threshold):\n",
    "    if length >= threshold:\n",
    "        return 0.0\n",
    "    elif length >= threshold * 0.9:\n",
    "        return 50.0\n",
    "    elif length >= threshold * 0.8:\n",
    "        return 75.0\n",
    "    else:\n",
    "        return 100.0\n",
    "\n",
    "\n",
    "df_['failure_rate'] = (df_['episode_length'] < 1000).astype(int) * 100.0\n",
    "# df_['failure_rate'] = (100 - df_['episode_length']) / 100.0\n",
    "# df_['failure_rate'] = df_['episode_length'].apply(lambda x: weighted_failure_rate(x, 1000))\n",
    "\n",
    "df_ = df_[df_.policy == 'trained_3_torque_joint_force_randomize_weight']\n",
    "\n",
    "cmap = sns.color_palette('colorblind')\n",
    "\n",
    "ax = sns.lineplot(data=df_, x='force', y='failure_rate', hue='terrain', errorbar=('ci', 95), palette=cmap)\n",
    "\n",
    "ax.set_ylabel('Failure rate (%, log)')\n",
    "ax.set_xlabel('Force')\n",
    "\n",
    "handles, labels = ax.get_legend_handles_labels()\n",
    "\n",
    "order_idx = [6, 0]\n",
    "\n",
    "ax.legend(handles=handles, labels=['A', 'B', 'C', 'D'], title='Load carrier')\n",
    "\n",
    "sns.move_legend(ax, \"upper left\", ncols=2, bbox_to_anchor=(0.05, 0.83))\n",
    "plt.yscale('symlog')\n",
    "plt.ylim(-0.1, 50)\n",
    "\n",
    "ax.set_yticks([0, 1, 10, 25])\n",
    "ax.yaxis.set_major_formatter(lambda x, pos: f'{x:g}')\n",
    "ax.set_title('Failure rate on varying number of robots', pad=20)\n",
    "\n",
    "ax.set_title('Failure rate on different load carrier', pad=20)\n",
    "\n",
    "ax.yaxis.tick_right()\n",
    "ax.yaxis.set_label_position('right')\n",
    "\n",
    "plt.tight_layout()\n",
    "plt.savefig('plot.png', dpi=300, bbox_inches='tight')\n",
    "plt.savefig('plot.pdf', dpi=300, bbox_inches='tight')\n"
   ],
   "metadata": {
    "collapsed": false,
    "ExecuteTime": {
     "end_time": "2024-05-29T01:09:45.466583Z",
     "start_time": "2024-05-29T01:09:44.354958Z"
    }
   },
   "id": "66a097aa0306c82a",
   "execution_count": 11
  },
  {
   "cell_type": "code",
   "outputs": [],
   "source": [],
   "metadata": {
    "collapsed": false
   },
   "id": "615b5f1d188154f0"
  }
 ],
 "metadata": {
  "kernelspec": {
   "name": "ml310",
   "language": "python",
   "display_name": "Python 3.10 (ml310)"
  },
  "language_info": {
   "codemirror_mode": {
    "name": "ipython",
    "version": 2
   },
   "file_extension": ".py",
   "mimetype": "text/x-python",
   "name": "python",
   "nbconvert_exporter": "python",
   "pygments_lexer": "ipython2",
   "version": "2.7.6"
  }
 },
 "nbformat": 4,
 "nbformat_minor": 5
}
