{
 "cells": [
  {
   "cell_type": "code",
   "execution_count": 1,
   "id": "initial_id",
   "metadata": {
    "collapsed": true,
    "ExecuteTime": {
     "end_time": "2024-06-06T18:18:34.534903Z",
     "start_time": "2024-06-06T18:18:34.528251Z"
    }
   },
   "outputs": [],
   "source": [
    "import os\n",
    "from pathlib import PosixPath\n",
    "import glob\n",
    "\n",
    "import matplotlib.pyplot as plt\n",
    "import numpy as np\n",
    "import pandas as pd\n",
    "import seaborn as sns\n",
    "from tqdm import tqdm\n",
    "import matplotlib as mpl\n",
    "import matplotlib.gridspec as gridspec\n",
    "\n",
    "from collections import OrderedDict\n",
    "\n",
    "tqdm.pandas(ncols=50)"
   ]
  },
  {
   "cell_type": "markdown",
   "source": [
    "## Data preparation"
   ],
   "metadata": {
    "collapsed": false
   },
   "id": "3716ec2d42ea67d3"
  },
  {
   "cell_type": "code",
   "outputs": [
    {
     "name": "stderr",
     "output_type": "stream",
     "text": [
      "100%|█████| 11000/11000 [00:04<00:00, 2749.24it/s]\n"
     ]
    },
    {
     "data": {
      "text/plain": "False"
     },
     "execution_count": 22,
     "metadata": {},
     "output_type": "execute_result"
    }
   ],
   "source": [
    "df = None\n",
    "\n",
    "for path in [\n",
    "    'data/trained3_payloads_extreme_low_speed_1000traj/*.csv',\n",
    "    # 'data/trained3_num_cassie_50kg_1000traj/*.csv',\n",
    "    # 'data/trained3_num_cassie_50_only_1000traj/*.csv',\n",
    "]:\n",
    "\n",
    "    assert len(glob.glob(path)) > 0, f'No files found for {path}'\n",
    "\n",
    "    for file in glob.glob(path):\n",
    "        df_ = pd.read_csv(file, index_col=0)\n",
    "\n",
    "        if df is None:\n",
    "            df = df_\n",
    "        else:\n",
    "            # Merge rows\n",
    "            df = pd.concat([df, df_], ignore_index=True)\n",
    "\n",
    "\n",
    "def extend_columns(x):\n",
    "    run_args = eval(x['run_args'])\n",
    "\n",
    "    res = dict(\n",
    "        command_x=run_args['command']['x'],\n",
    "        command_y=run_args['command']['y'],\n",
    "        command_t=run_args['command']['t'],\n",
    "        command_h=run_args['command']['h'],\n",
    "        terrain=run_args['env']['terrain'],\n",
    "        force=run_args['env']['force'],\n",
    "        policy=run_args['env']['policy'],\n",
    "    )\n",
    "\n",
    "    total_power = 0\n",
    "    for i, power in enumerate(list(map(float, x['power'][1:-1].split()))):\n",
    "        res[f'power_{i}'] = power\n",
    "        total_power += power\n",
    "\n",
    "    res['power'] = total_power\n",
    "\n",
    "    joint_forces = []\n",
    "    for i, joint_force in enumerate(list(map(float, x['joint_forces'][1:-1].split()))):\n",
    "        res[f'joint_forces_{i}'] = joint_force\n",
    "        joint_forces.append(joint_force)\n",
    "\n",
    "    res['joint_forces'] = np.mean(joint_forces)\n",
    "\n",
    "    res['perturbation_force_start'], res['perturbation_force_end'] \\\n",
    "        = map(int, x['perturbation_force_bound'][1:-1].split(','))\n",
    "\n",
    "    res['perturbation_force_window'] = res['perturbation_force_end'] - res['perturbation_force_start']\n",
    "\n",
    "    total_height_diff = 0\n",
    "    for i, height_diff in enumerate(list(map(float, x['height_diff'][1:-1].split()))):\n",
    "        res[f'height_diff_{i}'] = height_diff\n",
    "        total_height_diff += height_diff\n",
    "\n",
    "    res['height_diff'] = total_height_diff\n",
    "\n",
    "    return res\n",
    "\n",
    "\n",
    "df = pd.concat([df.progress_apply(lambda x: pd.Series(extend_columns(x)), axis=1), df], axis=1)\n",
    "df = df.loc[:, ~df.columns.duplicated()]\n",
    "\n",
    "df.columns.duplicated().any()"
   ],
   "metadata": {
    "collapsed": false,
    "ExecuteTime": {
     "end_time": "2024-06-06T18:23:25.981104Z",
     "start_time": "2024-06-06T18:23:21.644887Z"
    }
   },
   "id": "cfd8cab8cb4ec917",
   "execution_count": 22
  },
  {
   "cell_type": "code",
   "outputs": [
    {
     "data": {
      "text/plain": "array([100,  25,  50])"
     },
     "execution_count": 23,
     "metadata": {},
     "output_type": "execute_result"
    }
   ],
   "source": [
    "df.num_cassie.unique()"
   ],
   "metadata": {
    "collapsed": false,
    "ExecuteTime": {
     "end_time": "2024-06-06T18:23:25.985281Z",
     "start_time": "2024-06-06T18:23:25.982268Z"
    }
   },
   "id": "aca644e2db572261",
   "execution_count": 23
  },
  {
   "cell_type": "code",
   "outputs": [],
   "source": [],
   "metadata": {
    "collapsed": false,
    "ExecuteTime": {
     "end_time": "2024-06-06T18:22:24.624389Z",
     "start_time": "2024-06-06T18:22:24.622881Z"
    }
   },
   "id": "5291b829eb7c8491",
   "execution_count": 19
  },
  {
   "cell_type": "code",
   "outputs": [],
   "source": [
    "x = df[(df.policy == 'trained_3_torque_joint_force_randomize_weight') & (df.force == 0) & (df.episode_length <= 1000)].groupby(['num_cassie', 'episode_length']).size().count()"
   ],
   "metadata": {
    "collapsed": false,
    "ExecuteTime": {
     "end_time": "2024-06-06T12:13:42.984970Z",
     "start_time": "2024-06-06T12:13:42.865815Z"
    }
   },
   "id": "a0a774e17e9ecbd3",
   "execution_count": 110
  },
  {
   "cell_type": "code",
   "outputs": [
    {
     "data": {
      "text/plain": "0.07429963459196103"
     },
     "execution_count": 112,
     "metadata": {},
     "output_type": "execute_result"
    }
   ],
   "source": [
    "305/4105"
   ],
   "metadata": {
    "collapsed": false,
    "ExecuteTime": {
     "end_time": "2024-06-06T12:14:05.755674Z",
     "start_time": "2024-06-06T12:14:05.753369Z"
    }
   },
   "id": "50ebb3789d82153b",
   "execution_count": 112
  },
  {
   "cell_type": "code",
   "outputs": [
    {
     "data": {
      "text/plain": "<pandas.core.groupby.generic.DataFrameGroupBy object at 0x414c68130>"
     },
     "execution_count": 83,
     "metadata": {},
     "output_type": "execute_result"
    }
   ],
   "source": [
    "df[df.force == 0].groupby(['num_cassie','episode_length'])"
   ],
   "metadata": {
    "collapsed": false,
    "ExecuteTime": {
     "end_time": "2024-06-06T12:08:53.138796Z",
     "start_time": "2024-06-06T12:08:53.089897Z"
    }
   },
   "id": "7d9647d86f1686c1",
   "execution_count": 83
  },
  {
   "cell_type": "markdown",
   "source": [
    "### Drifts"
   ],
   "metadata": {
    "collapsed": false
   },
   "id": "bc3599e919ad2eb0"
  },
  {
   "cell_type": "code",
   "outputs": [
    {
     "data": {
      "text/plain": "           odometry_x odometry_y orientation_error odometry_x odometry_y  \\\ncommand_x         0.0        0.0               0.0        0.5        0.5   \ncommand_y         0.0        0.0               0.0        0.0        0.0   \ncommand_t         0.0        0.0               0.0        0.0        0.0   \nnum_cassie                                                                 \n25           0.051357   0.260748         -1.437216   -0.94421   2.133952   \n50          -0.315527   0.742853         -2.770502   -0.66646   3.898933   \n100         -1.191878   0.348110         -0.273838   -1.50868   5.593232   \n\n           orientation_error odometry_x odometry_y orientation_error  \\\ncommand_x                0.5        0.0        0.0               0.0   \ncommand_y                0.0        0.1        0.1               0.1   \ncommand_t                0.0        0.0        0.0               0.0   \nnum_cassie                                                             \n25                  0.892495  -0.324281   1.618970          2.039513   \n50                  0.763310  -0.137549   3.119706          2.894726   \n100                 1.847642  -0.666371   4.315326          5.590763   \n\n           odometry_x odometry_y orientation_error  \ncommand_x         0.0        0.0               0.0  \ncommand_y         0.0        0.0               0.0  \ncommand_t         7.5        7.5               7.5  \nnum_cassie                                          \n25           0.200804  -0.444403         57.656584  \n50           0.654894  -0.353265         56.567733  \n100               NaN        NaN               NaN  ",
      "text/html": "<div>\n<style scoped>\n    .dataframe tbody tr th:only-of-type {\n        vertical-align: middle;\n    }\n\n    .dataframe tbody tr th {\n        vertical-align: top;\n    }\n\n    .dataframe thead tr th {\n        text-align: left;\n    }\n\n    .dataframe thead tr:last-of-type th {\n        text-align: right;\n    }\n</style>\n<table border=\"1\" class=\"dataframe\">\n  <thead>\n    <tr>\n      <th></th>\n      <th>odometry_x</th>\n      <th>odometry_y</th>\n      <th>orientation_error</th>\n      <th>odometry_x</th>\n      <th>odometry_y</th>\n      <th>orientation_error</th>\n      <th>odometry_x</th>\n      <th>odometry_y</th>\n      <th>orientation_error</th>\n      <th>odometry_x</th>\n      <th>odometry_y</th>\n      <th>orientation_error</th>\n    </tr>\n    <tr>\n      <th>command_x</th>\n      <th>0.0</th>\n      <th>0.0</th>\n      <th>0.0</th>\n      <th>0.5</th>\n      <th>0.5</th>\n      <th>0.5</th>\n      <th>0.0</th>\n      <th>0.0</th>\n      <th>0.0</th>\n      <th>0.0</th>\n      <th>0.0</th>\n      <th>0.0</th>\n    </tr>\n    <tr>\n      <th>command_y</th>\n      <th>0.0</th>\n      <th>0.0</th>\n      <th>0.0</th>\n      <th>0.0</th>\n      <th>0.0</th>\n      <th>0.0</th>\n      <th>0.1</th>\n      <th>0.1</th>\n      <th>0.1</th>\n      <th>0.0</th>\n      <th>0.0</th>\n      <th>0.0</th>\n    </tr>\n    <tr>\n      <th>command_t</th>\n      <th>0.0</th>\n      <th>0.0</th>\n      <th>0.0</th>\n      <th>0.0</th>\n      <th>0.0</th>\n      <th>0.0</th>\n      <th>0.0</th>\n      <th>0.0</th>\n      <th>0.0</th>\n      <th>7.5</th>\n      <th>7.5</th>\n      <th>7.5</th>\n    </tr>\n    <tr>\n      <th>num_cassie</th>\n      <th></th>\n      <th></th>\n      <th></th>\n      <th></th>\n      <th></th>\n      <th></th>\n      <th></th>\n      <th></th>\n      <th></th>\n      <th></th>\n      <th></th>\n      <th></th>\n    </tr>\n  </thead>\n  <tbody>\n    <tr>\n      <th>25</th>\n      <td>0.051357</td>\n      <td>0.260748</td>\n      <td>-1.437216</td>\n      <td>-0.94421</td>\n      <td>2.133952</td>\n      <td>0.892495</td>\n      <td>-0.324281</td>\n      <td>1.618970</td>\n      <td>2.039513</td>\n      <td>0.200804</td>\n      <td>-0.444403</td>\n      <td>57.656584</td>\n    </tr>\n    <tr>\n      <th>50</th>\n      <td>-0.315527</td>\n      <td>0.742853</td>\n      <td>-2.770502</td>\n      <td>-0.66646</td>\n      <td>3.898933</td>\n      <td>0.763310</td>\n      <td>-0.137549</td>\n      <td>3.119706</td>\n      <td>2.894726</td>\n      <td>0.654894</td>\n      <td>-0.353265</td>\n      <td>56.567733</td>\n    </tr>\n    <tr>\n      <th>100</th>\n      <td>-1.191878</td>\n      <td>0.348110</td>\n      <td>-0.273838</td>\n      <td>-1.50868</td>\n      <td>5.593232</td>\n      <td>1.847642</td>\n      <td>-0.666371</td>\n      <td>4.315326</td>\n      <td>5.590763</td>\n      <td>NaN</td>\n      <td>NaN</td>\n      <td>NaN</td>\n    </tr>\n  </tbody>\n</table>\n</div>"
     },
     "execution_count": 25,
     "metadata": {},
     "output_type": "execute_result"
    }
   ],
   "source": [
    "df_ = df.copy()\n",
    "\n",
    "df_ = df_[(df_['episode_length'] >= 50)]\n",
    "\n",
    "df_['orientation_error'] = df_['orientation_error'] + df_['command_t'] * (df_['episode_length'] / 50 - 10)\n",
    "\n",
    "\n",
    "# Group and aggregate\n",
    "df_ = df_.groupby(['command_x', 'command_y', 'command_t', 'num_cassie']).agg(\n",
    "    {'odometry_x': 'mean', 'odometry_y': 'mean', 'orientation_error': 'mean', 'episode_length': 'mean'})\n",
    "\n",
    "df_ = df_.reset_index()\n",
    "\n",
    "# Index will be x-axis, columns will be y-axis and values will be x-y cell\n",
    "df_ = df_.pivot(index='num_cassie', columns=['command_x', 'command_y', 'command_t'],\n",
    "                values=['odometry_x', 'odometry_y', 'orientation_error'])\n",
    "\n",
    "# Compute error (with traj len 1000 and policy rate 50hz, it should have covered 20m)\n",
    "# df_[('odometry_x', 1, 0, 0)] = 20 - df_[('odometry_x', 1, 0, 0)]\n",
    "# df_[('odometry_y', 1, 0, 0)] = 0 - df_[('odometry_y', 1, 0, 0)]\n",
    "# \n",
    "# df_[('odometry_y', 0, 0.25, 0)] = 5 - df_[('odometry_y', 0, 0.25, 0)]\n",
    "# df_[('odometry_x', 0, 0.25, 0)] = 0 - df_[('odometry_x', 0, 0.25, 0)]\n",
    "# \n",
    "# df_[('odometry_x', 0, 0, 0)] = 0 - df_[('odometry_x', 0, 0, 0)]\n",
    "# df_[('odometry_y', 0, 0, 0)] = 0 - df_[('odometry_y', 0, 0, 0)]\n",
    "\n",
    "# df_['orientation_error'] = -df_['orientation_error']\n",
    "# Compute error (with traj len 1000 and policy rate 50hz, it should have covered 20m)\n",
    "df_[('odometry_x', 0.5, 0, 0)] = df_[('odometry_x', 0.5, 0, 0)] - 10\n",
    "df_[('odometry_y', 0, 0.1, 0)] = df_[('odometry_y', 0, 0.1, 0)] - 2\n",
    "\n",
    "# Reorder columns\n",
    "columns = []\n",
    "for command in (0, 0, 0), (0.5, 0, 0), (0, 0.1, 0), (0, 0, 7.5):\n",
    "    for odom in 'odometry_x', 'odometry_y', 'orientation_error':\n",
    "        columns.append((odom, *command))\n",
    "\n",
    "# sort rows by custom order with index\n",
    "# df_ = df_.reindex(['1-R'] + list(range(2, 11)), axis=0)\n",
    "\n",
    "df_ = df_.reindex(columns, axis=1)\n",
    "\n",
    "df_"
   ],
   "metadata": {
    "collapsed": false,
    "ExecuteTime": {
     "end_time": "2024-06-06T18:24:12.901049Z",
     "start_time": "2024-06-06T18:24:12.869593Z"
    }
   },
   "id": "58943f762f96192f",
   "execution_count": 25
  },
  {
   "cell_type": "code",
   "outputs": [
    {
     "data": {
      "text/plain": "            episode_length\nnum_cassie                \n25              780.085125\n50              732.302500\n100             566.974750",
      "text/html": "<div>\n<style scoped>\n    .dataframe tbody tr th:only-of-type {\n        vertical-align: middle;\n    }\n\n    .dataframe tbody tr th {\n        vertical-align: top;\n    }\n\n    .dataframe thead th {\n        text-align: right;\n    }\n</style>\n<table border=\"1\" class=\"dataframe\">\n  <thead>\n    <tr style=\"text-align: right;\">\n      <th></th>\n      <th>episode_length</th>\n    </tr>\n    <tr>\n      <th>num_cassie</th>\n      <th></th>\n    </tr>\n  </thead>\n  <tbody>\n    <tr>\n      <th>25</th>\n      <td>780.085125</td>\n    </tr>\n    <tr>\n      <th>50</th>\n      <td>732.302500</td>\n    </tr>\n    <tr>\n      <th>100</th>\n      <td>566.974750</td>\n    </tr>\n  </tbody>\n</table>\n</div>"
     },
     "execution_count": 12,
     "metadata": {},
     "output_type": "execute_result"
    }
   ],
   "source": [
    "df.groupby('num_cassie').agg({'episode_length': 'mean'})"
   ],
   "metadata": {
    "collapsed": false,
    "ExecuteTime": {
     "end_time": "2024-06-06T18:20:36.413465Z",
     "start_time": "2024-06-06T18:20:36.409109Z"
    }
   },
   "id": "4c0b5aa185998537",
   "execution_count": 12
  },
  {
   "cell_type": "code",
   "outputs": [],
   "source": [
    "df_.to_csv('table.csv', float_format='%.2f', header=False, index=False, sep=' ')"
   ],
   "metadata": {
    "collapsed": false,
    "ExecuteTime": {
     "end_time": "2024-06-06T07:28:17.809172Z",
     "start_time": "2024-06-06T07:28:17.805812Z"
    }
   },
   "id": "255e54e79e909da0",
   "execution_count": 11
  },
  {
   "cell_type": "code",
   "outputs": [
    {
     "name": "stdout",
     "output_type": "stream",
     "text": [
      "\\multicolumn{1}{c|}{}&\n",
      "  \\multicolumn{1}{c|}{1-R*} &\n",
      "  \\multicolumn{1}{c|}{0.07} &\n",
      "  \\multicolumn{1}{c|}{0.00} &\n",
      "  \\multicolumn{1}{c|}{-0.51} &\n",
      "  \\multicolumn{1}{c|}{} &\n",
      "  \\multicolumn{1}{c|}{-1.48} &\n",
      "  \\multicolumn{1}{c|}{0.37} &\n",
      "  \\multicolumn{1}{c|}{0.54} &\n",
      "  \\multicolumn{1}{c|}{} &\n",
      "  \\multicolumn{1}{c|}{0.24} &\n",
      "  \\multicolumn{1}{c|}{-0.56} &\n",
      "  \\multicolumn{1}{c|}{1.37} &\n",
      "  \\multicolumn{1}{c|}{} &\n",
      "  \\multicolumn{1}{c|}{-0.09} &\n",
      "  \\multicolumn{1}{c|}{0.03} &\n",
      "  \\multicolumn{1}{c|}{-1.85} \\\\ \\cline{2-5} \\cline{7-9} \\cline{11-13} \\cline{15-17}\n",
      "\\multicolumn{1}{c|}{}&\n",
      "  \\multicolumn{1}{c|}{2} &\n",
      "  \\multicolumn{1}{c|}{0.16} &\n",
      "  \\multicolumn{1}{c|}{0.28} &\n",
      "  \\multicolumn{1}{c|}{1.29} &\n",
      "  \\multicolumn{1}{c|}{} &\n",
      "  \\multicolumn{1}{c|}{-1.64} &\n",
      "  \\multicolumn{1}{c|}{0.93} &\n",
      "  \\multicolumn{1}{c|}{0.91} &\n",
      "  \\multicolumn{1}{c|}{} &\n",
      "  \\multicolumn{1}{c|}{0.03} &\n",
      "  \\multicolumn{1}{c|}{-0.21} &\n",
      "  \\multicolumn{1}{c|}{0.44} &\n",
      "  \\multicolumn{1}{c|}{} &\n",
      "  \\multicolumn{1}{c|}{0.19} &\n",
      "  \\multicolumn{1}{c|}{0.12} &\n",
      "  \\multicolumn{1}{c|}{-12.98} \\\\ \\cline{2-5} \\cline{7-9} \\cline{11-13} \\cline{15-17}\n",
      "\\multicolumn{1}{c|}{}&\n",
      "  \\multicolumn{1}{c|}{3} &\n",
      "  \\multicolumn{1}{c|}{0.06} &\n",
      "  \\multicolumn{1}{c|}{0.21} &\n",
      "  \\multicolumn{1}{c|}{0.26} &\n",
      "  \\multicolumn{1}{c|}{} &\n",
      "  \\multicolumn{1}{c|}{-1.54} &\n",
      "  \\multicolumn{1}{c|}{0.78} &\n",
      "  \\multicolumn{1}{c|}{-0.55} &\n",
      "  \\multicolumn{1}{c|}{} &\n",
      "  \\multicolumn{1}{c|}{0.13} &\n",
      "  \\multicolumn{1}{c|}{-0.70} &\n",
      "  \\multicolumn{1}{c|}{-0.46} &\n",
      "  \\multicolumn{1}{c|}{} &\n",
      "  \\multicolumn{1}{c|}{0.16} &\n",
      "  \\multicolumn{1}{c|}{0.21} &\n",
      "  \\multicolumn{1}{c|}{-6.00} \\\\ \\cline{2-5} \\cline{7-9} \\cline{11-13} \\cline{15-17}\n",
      "\\multicolumn{1}{c|}{}&\n",
      "  \\multicolumn{1}{c|}{4} &\n",
      "  \\multicolumn{1}{c|}{0.06} &\n",
      "  \\multicolumn{1}{c|}{0.08} &\n",
      "  \\multicolumn{1}{c|}{-1.06} &\n",
      "  \\multicolumn{1}{c|}{} &\n",
      "  \\multicolumn{1}{c|}{-1.54} &\n",
      "  \\multicolumn{1}{c|}{0.91} &\n",
      "  \\multicolumn{1}{c|}{-0.51} &\n",
      "  \\multicolumn{1}{c|}{} &\n",
      "  \\multicolumn{1}{c|}{0.20} &\n",
      "  \\multicolumn{1}{c|}{-0.32} &\n",
      "  \\multicolumn{1}{c|}{0.40} &\n",
      "  \\multicolumn{1}{c|}{} &\n",
      "  \\multicolumn{1}{c|}{0.08} &\n",
      "  \\multicolumn{1}{c|}{0.38} &\n",
      "  \\multicolumn{1}{c|}{-6.71} \\\\ \\cline{2-5} \\cline{7-9} \\cline{11-13} \\cline{15-17}\n",
      "\\multicolumn{1}{c|}{}&\n",
      "  \\multicolumn{1}{c|}{5} &\n",
      "  \\multicolumn{1}{c|}{0.08} &\n",
      "  \\multicolumn{1}{c|}{0.13} &\n",
      "  \\multicolumn{1}{c|}{-1.29} &\n",
      "  \\multicolumn{1}{c|}{} &\n",
      "  \\multicolumn{1}{c|}{-1.56} &\n",
      "  \\multicolumn{1}{c|}{0.72} &\n",
      "  \\multicolumn{1}{c|}{-0.44} &\n",
      "  \\multicolumn{1}{c|}{} &\n",
      "  \\multicolumn{1}{c|}{0.31} &\n",
      "  \\multicolumn{1}{c|}{-0.54} &\n",
      "  \\multicolumn{1}{c|}{0.57} &\n",
      "  \\multicolumn{1}{c|}{} &\n",
      "  \\multicolumn{1}{c|}{-0.03} &\n",
      "  \\multicolumn{1}{c|}{0.11} &\n",
      "  \\multicolumn{1}{c|}{-7.04} \\\\ \\cline{2-5} \\cline{7-9} \\cline{11-13} \\cline{15-17}\n",
      "\\multicolumn{1}{c|}{}&\n",
      "  \\multicolumn{1}{c|}{6} &\n",
      "  \\multicolumn{1}{c|}{0.05} &\n",
      "  \\multicolumn{1}{c|}{0.07} &\n",
      "  \\multicolumn{1}{c|}{-0.79} &\n",
      "  \\multicolumn{1}{c|}{} &\n",
      "  \\multicolumn{1}{c|}{-1.60} &\n",
      "  \\multicolumn{1}{c|}{0.77} &\n",
      "  \\multicolumn{1}{c|}{-0.42} &\n",
      "  \\multicolumn{1}{c|}{} &\n",
      "  \\multicolumn{1}{c|}{0.27} &\n",
      "  \\multicolumn{1}{c|}{-0.42} &\n",
      "  \\multicolumn{1}{c|}{0.46} &\n",
      "  \\multicolumn{1}{c|}{} &\n",
      "  \\multicolumn{1}{c|}{0.04} &\n",
      "  \\multicolumn{1}{c|}{0.29} &\n",
      "  \\multicolumn{1}{c|}{-6.88} \\\\ \\cline{2-5} \\cline{7-9} \\cline{11-13} \\cline{15-17}\n",
      "\\multicolumn{1}{c|}{}&\n",
      "  \\multicolumn{1}{c|}{7} &\n",
      "  \\multicolumn{1}{c|}{0.06} &\n",
      "  \\multicolumn{1}{c|}{0.10} &\n",
      "  \\multicolumn{1}{c|}{-0.78} &\n",
      "  \\multicolumn{1}{c|}{} &\n",
      "  \\multicolumn{1}{c|}{-1.63} &\n",
      "  \\multicolumn{1}{c|}{0.64} &\n",
      "  \\multicolumn{1}{c|}{-0.50} &\n",
      "  \\multicolumn{1}{c|}{} &\n",
      "  \\multicolumn{1}{c|}{0.35} &\n",
      "  \\multicolumn{1}{c|}{-0.59} &\n",
      "  \\multicolumn{1}{c|}{0.51} &\n",
      "  \\multicolumn{1}{c|}{} &\n",
      "  \\multicolumn{1}{c|}{-0.05} &\n",
      "  \\multicolumn{1}{c|}{0.12} &\n",
      "  \\multicolumn{1}{c|}{-7.47} \\\\ \\cline{2-5} \\cline{7-9} \\cline{11-13} \\cline{15-17}\n",
      "\\multicolumn{1}{c|}{}&\n",
      "  \\multicolumn{1}{c|}{8} &\n",
      "  \\multicolumn{1}{c|}{0.03} &\n",
      "  \\multicolumn{1}{c|}{0.10} &\n",
      "  \\multicolumn{1}{c|}{-0.80} &\n",
      "  \\multicolumn{1}{c|}{} &\n",
      "  \\multicolumn{1}{c|}{-1.64} &\n",
      "  \\multicolumn{1}{c|}{0.71} &\n",
      "  \\multicolumn{1}{c|}{-0.38} &\n",
      "  \\multicolumn{1}{c|}{} &\n",
      "  \\multicolumn{1}{c|}{0.27} &\n",
      "  \\multicolumn{1}{c|}{-0.58} &\n",
      "  \\multicolumn{1}{c|}{0.58} &\n",
      "  \\multicolumn{1}{c|}{} &\n",
      "  \\multicolumn{1}{c|}{0.05} &\n",
      "  \\multicolumn{1}{c|}{0.22} &\n",
      "  \\multicolumn{1}{c|}{-5.99} \\\\ \\cline{2-5} \\cline{7-9} \\cline{11-13} \\cline{15-17}\n",
      "\\multicolumn{1}{c|}{}&\n",
      "  \\multicolumn{1}{c|}{9} &\n",
      "  \\multicolumn{1}{c|}{0.04} &\n",
      "  \\multicolumn{1}{c|}{0.11} &\n",
      "  \\multicolumn{1}{c|}{-0.65} &\n",
      "  \\multicolumn{1}{c|}{} &\n",
      "  \\multicolumn{1}{c|}{-1.59} &\n",
      "  \\multicolumn{1}{c|}{0.74} &\n",
      "  \\multicolumn{1}{c|}{-0.42} &\n",
      "  \\multicolumn{1}{c|}{} &\n",
      "  \\multicolumn{1}{c|}{0.27} &\n",
      "  \\multicolumn{1}{c|}{-0.63} &\n",
      "  \\multicolumn{1}{c|}{0.93} &\n",
      "  \\multicolumn{1}{c|}{} &\n",
      "  \\multicolumn{1}{c|}{0.02} &\n",
      "  \\multicolumn{1}{c|}{0.12} &\n",
      "  \\multicolumn{1}{c|}{-6.76} \\\\ \\cline{2-5} \\cline{7-9} \\cline{11-13} \\cline{15-17}\n",
      "\\multicolumn{1}{l|}{\\parbox[t]{3mm}{\\multirow{-8}{*}{\\rotatebox[origin=c]{90}{Number of robots}}}} &\n",
      "  \\multicolumn{1}{c|}{10} &\n",
      "  \\multicolumn{1}{c|}{0.05} &\n",
      "  \\multicolumn{1}{c|}{0.13} &\n",
      "  \\multicolumn{1}{c|}{-0.54} &\n",
      "  \\multicolumn{1}{c|}{} &\n",
      "  \\multicolumn{1}{c|}{-1.63} &\n",
      "  \\multicolumn{1}{c|}{0.72} &\n",
      "  \\multicolumn{1}{c|}{-0.15} &\n",
      "  \\multicolumn{1}{c|}{} &\n",
      "  \\multicolumn{1}{c|}{0.32} &\n",
      "  \\multicolumn{1}{c|}{-0.67} &\n",
      "  \\multicolumn{1}{c|}{0.71} &\n",
      "  \\multicolumn{1}{c|}{} &\n",
      "  \\multicolumn{1}{c|}{0.02} &\n",
      "  \\multicolumn{1}{c|}{0.10} &\n",
      "  \\multicolumn{1}{c|}{-6.28} \\\\ \\cline{2-5} \\cline{7-9} \\cline{11-13} \\cline{15-17}\n"
     ]
    }
   ],
   "source": [
    "row = ''\n",
    "\n",
    "y_label = 'Number of robots'\n",
    "y_ticks = ['1-R*'] + list(range(2, 11))\n",
    "\n",
    "for i in range(len(df_)):\n",
    "    if i == len(df_) - 1:\n",
    "        row += r'\\multicolumn{1}{l|}{\\parbox[t]{3mm}{\\multirow{-8}{*}{\\rotatebox[origin=c]{90}{' + y_label + '}}}} &\\n'\n",
    "\n",
    "    else:\n",
    "        row += r'\\multicolumn{1}{c|}{}' + '&\\n'\n",
    "\n",
    "    for j in range(len(df_.columns)):\n",
    "        if j == 0:\n",
    "            row += '  \\multicolumn{1}{c|}{' + str(y_ticks[i]) + '}' + ' &\\n'\n",
    "        elif j % 3 == 0:\n",
    "            row += r'  \\multicolumn{1}{c|}{}' + ' &\\n'\n",
    "\n",
    "        if y_ticks[i] == '1-B':\n",
    "            # cell = r'\\cellcolor[HTML]{DAE8FC}' + f'{df_.iloc[i, j]:.2f}'\n",
    "            cell = f'{df_.iloc[i, j]:.2f}'\n",
    "        else:\n",
    "            cell = f'{df_.iloc[i, j]:.2f}'\n",
    "\n",
    "        if j == len(df_.columns) - 1:\n",
    "            row += '  \\multicolumn{1}{c|}{' + f'{cell}' + r'} \\\\ \\cline{2-5} \\cline{7-9} \\cline{11-13} \\cline{15-17}' + '\\n'\n",
    "            # row += '  \\multicolumn{1}{c|}{' + f'{cell}' + r'} \\\\ \\cline{2-17}' + '\\n'\n",
    "        else:\n",
    "            row += \"  \\multicolumn{1}{c|}{\" + f'{cell}' + \"}\" + ' &\\n'\n",
    "print(row)"
   ],
   "metadata": {
    "collapsed": false,
    "ExecuteTime": {
     "end_time": "2024-06-06T16:28:59.562966Z",
     "start_time": "2024-06-06T16:28:59.554217Z"
    }
   },
   "id": "532ffb87806442cf",
   "execution_count": 122
  },
  {
   "cell_type": "markdown",
   "source": [
    "## Failure rate"
   ],
   "metadata": {
    "collapsed": false
   },
   "id": "92b32bbcb6253ba7"
  },
  {
   "cell_type": "code",
   "outputs": [
    {
     "name": "stderr",
     "output_type": "stream",
     "text": [
      "/var/folders/hn/tndm9dyn3dd0xbtnwgv3m9cr0000gn/T/ipykernel_21160/1918296747.py:62: FutureWarning: Setting an item of incompatible dtype is deprecated and will raise in a future error of pandas. Value '1-R' has dtype incompatible with int64, please explicitly cast to a compatible dtype first.\n",
      "  df_.loc[(df_['policy'] == 'trained_1') & (df_['num_cassie'] == 1), 'num_cassie'] = '1-R'\n",
      "/var/folders/hn/tndm9dyn3dd0xbtnwgv3m9cr0000gn/T/ipykernel_21160/1918296747.py:70: UserWarning: \n",
      "\n",
      "The `scale` parameter is deprecated and will be removed in v0.15.0. You can now control the size of each plot element using matplotlib `Line2D` parameters (e.g., `linewidth`, `markersize`, etc.).\n",
      "\n",
      "  sns.pointplot(data=df_[df_.terrain == 'cassiepede_rectangle'], x='num_cassie', y='failure_rate', hue='force',\n",
      "/var/folders/hn/tndm9dyn3dd0xbtnwgv3m9cr0000gn/T/ipykernel_21160/1918296747.py:75: UserWarning: \n",
      "\n",
      "The `scale` parameter is deprecated and will be removed in v0.15.0. You can now control the size of each plot element using matplotlib `Line2D` parameters (e.g., `linewidth`, `markersize`, etc.).\n",
      "\n",
      "  sns.pointplot(data=df_, x='num_cassie', y='failure_rate', hue='payload_mass', errorbar=('ci', 95),\n",
      "/var/folders/hn/tndm9dyn3dd0xbtnwgv3m9cr0000gn/T/ipykernel_21160/1918296747.py:121: UserWarning: set_ticklabels() should only be used with a fixed number of ticks, i.e. after set_ticks() or using a FixedLocator.\n",
      "  ax[0].set_xticklabels(ax[0].get_xticklabels(), rotation=0)\n",
      "/var/folders/hn/tndm9dyn3dd0xbtnwgv3m9cr0000gn/T/ipykernel_21160/1918296747.py:122: UserWarning: set_ticklabels() should only be used with a fixed number of ticks, i.e. after set_ticks() or using a FixedLocator.\n",
      "  ax[1].set_xticklabels(ax[0].get_xticklabels(), rotation=0)\n",
      "/var/folders/hn/tndm9dyn3dd0xbtnwgv3m9cr0000gn/T/ipykernel_21160/1918296747.py:123: UserWarning: set_ticklabels() should only be used with a fixed number of ticks, i.e. after set_ticks() or using a FixedLocator.\n",
      "  ax[2].set_xticklabels(ax[0].get_xticklabels(), rotation=0)\n"
     ]
    },
    {
     "data": {
      "text/plain": "<Figure size 1000x200 with 3 Axes>",
      "image/png": "[encoded data removed]"
     },
     "metadata": {},
     "output_type": "display_data"
    }
   ],
   "source": [
    "# df_ = df_[df_.force == 0]\n",
    "\n",
    "fig = plt.figure(figsize=(10, 2))\n",
    "\n",
    "gs = gridspec.GridSpec(nrows=1, ncols=5, width_ratios=[0.7, -0.01, 0.9, -0.15, 0.8])\n",
    "\n",
    "# Create subplots using the GridSpec\n",
    "ax = [plt.subplot(gs[0, 0]), plt.subplot(gs[0, 2]), plt.subplot(gs[0, 4])]\n",
    "\n",
    "df_ = df.copy()\n",
    "\n",
    "# randomly select 10% of data\n",
    "# df_ = df_.sample(frac=0.01)\n",
    "\n",
    "df_ = df_[\n",
    "\n",
    "    (df_['policy'] == 'trained_3_torque_joint_force_randomize_weight')\n",
    "    & (df_['num_cassie'] >= 2)\n",
    "    & (df_['num_cassie'] <= 10)\n",
    "    & (df_['terrain'].isin([\n",
    "        'cassiepede_rectangle',\n",
    "        'cassiepede_rectangle_30kg_',\n",
    "        'cassiepede_rectangle_40kg_',\n",
    "        'cassiepede_rectangle_50kg_',\n",
    "        'cassiepede_rectangle_60kg_',\n",
    "        'cassiepede_rectangle_70kg_',\n",
    "        'cassiepede_rectangle_80kg_',\n",
    "        # 'cassiepede_rectangle_90kg_',\n",
    "        # 'cassiepede_rectangle_100kg_',\n",
    "    ]))\n",
    "\n",
    "    ]\n",
    "\n",
    "# df_ = df_[\n",
    "#     (df_['policy'] == 'trained_3_torque_joint_force_randomize_weight') &\n",
    "#     (\n",
    "#         ((df_['num_cassie'] == 2) & (df_['terrain'] == 'cassiepede_rectangle'))\n",
    "#         | ((df_['num_cassie'] == 3) & (df_['terrain'] == 'cassiepede_rectangle_30kg_'))\n",
    "#         | ((df_['num_cassie'] == 4) & (df_['terrain'] == 'cassiepede_rectangle_40kg_'))\n",
    "#         | ((df_['num_cassie'] == 5) & (df_['terrain'] == 'cassiepede_rectangle_50kg_'))\n",
    "#         | ((df_['num_cassie'] == 6) & (df_['terrain'] == 'cassiepede_rectangle_60kg_'))\n",
    "#         | ((df_['num_cassie'] == 7) & (df_['terrain'] == 'cassiepede_rectangle_70kg_'))\n",
    "#         | ((df_['num_cassie'] == 8) & (df_['terrain'] == 'cassiepede_rectangle_80kg_'))\n",
    "#     )]\n",
    "\n",
    "\n",
    "terrain_map = {\n",
    "    'cassiepede_rectangle': 20,\n",
    "    'cassiepede_rectangle_30kg_': 30,\n",
    "    'cassiepede_rectangle_40kg_': 40,\n",
    "    'cassiepede_rectangle_50kg_': 50,\n",
    "    'cassiepede_rectangle_60kg_': 60,\n",
    "    'cassiepede_rectangle_70kg_': 70,\n",
    "    'cassiepede_rectangle_80kg_': 80,\n",
    "    # 'cassiepede_rectangle_90kg_': 90,\n",
    "    # 'cassiepede_rectangle_100kg_': 100,\n",
    "}\n",
    "\n",
    "df_['payload_mass'] = df_['terrain'].map(terrain_map)\n",
    "df_.loc[df_.terrain == 'cassiepede_baseline', 'terrain'] = 'cassiepede_rectangle'\n",
    "\n",
    "df_.loc[(df_['policy'] == 'trained_1') & (df_['num_cassie'] == 1), 'num_cassie'] = '1-R'\n",
    "\n",
    "df_['failure_rate'] = (df_['episode_length'] < 1000).astype(int) * 100\n",
    "\n",
    "df_['power'] = df_['power'] / 50 / 20\n",
    "\n",
    "cmap = sns.set_palette(\"colorblind\")\n",
    "# cmap = sns.color_palette(\"light:b\", as_cmap=True)\n",
    "sns.pointplot(data=df_[df_.terrain == 'cassiepede_rectangle'], x='num_cassie', y='failure_rate', hue='force',\n",
    "              errorbar=('ci', 95),\n",
    "              palette=cmap,\n",
    "              ax=ax[0], dodge=True, scale=0.5)\n",
    "\n",
    "sns.pointplot(data=df_, x='num_cassie', y='failure_rate', hue='payload_mass', errorbar=('ci', 95),\n",
    "              palette=cmap,\n",
    "              ax=ax[1], dodge=True, scale=0.5)\n",
    "\n",
    "sns.boxplot(data=df_[df_.episode_length == 1000], x='num_cassie', y='power', showfliers=False,\n",
    "            palette=cmap,\n",
    "            ax=ax[2], showmeans=True,\n",
    "\n",
    "            meanprops=dict(marker='o', markeredgecolor='black', markersize=2, markerfacecolor='black'),\n",
    "            # meanline=True,\n",
    "            )\n",
    "\n",
    "# sns.pointplot(data=df_[df_.episode_length == 1000], x='num_cassie', y='power', errorbar=('ci', 95),\n",
    "#              # palette=cmap,\n",
    "#               color='black',\n",
    "#               scale=0.5,\n",
    "#              ax=ax[2], join=False)\n",
    "\n",
    "ax[0].set_xlabel('Number of robots')\n",
    "ax[1].set_xlabel('Number of robots')\n",
    "ax[2].set_xlabel('Number of robots')\n",
    "\n",
    "ax[0].set_ylabel('Failure rate (%)')\n",
    "ax[1].set_ylabel('Failure rate (%)')\n",
    "ax[2].set_ylabel('Power (W)')\n",
    "\n",
    "# ax[0].legend(ncols=2, title='Perturbation force (N)')\n",
    "# ax[1].legend(ncols=2, title='Payload mass (kg)')\n",
    "handles, labels = ax[0].get_legend_handles_labels()\n",
    "for i, handle in enumerate(handles):\n",
    "    handles[i] = plt.Line2D([], [], marker='o', linestyle='None', color=handle.get_color())\n",
    "ax[0].legend(ncols=2, handles=handles, labels=labels, title='Perturbation force (N)', handletextpad=0.1,\n",
    "             columnspacing=0.6, borderaxespad=0)\n",
    "handles, labels = ax[1].get_legend_handles_labels()\n",
    "for i, handle in enumerate(handles):\n",
    "    handles[i] = plt.Line2D([], [], marker='o', linestyle='None', color=handle.get_color())\n",
    "ax[1].legend(ncols=2, handles=handles, labels=labels, title='Payload mass (kg)', handletextpad=0.1, columnspacing=0.6,\n",
    "             borderaxespad=0, )\n",
    "\n",
    "# sns.move_legend(ax[2], \"upper left\", ncols=2, title='Perturbation\\nForce (N)', bbox_to_anchor=(0.2, 0.99))\n",
    "\n",
    "# ax[0].yaxis.set_major_formatter(lambda x, pos: f'{x:g}')\n",
    "# ax[1].yaxis.set_major_formatter(lambda x, pos: f'{x:g}')\n",
    "# ax[2].yaxis.set_major_formatter(lambda x, pos: f'{x:g}')\n",
    "\n",
    "ax[0].set_xticklabels(ax[0].get_xticklabels(), rotation=0)\n",
    "ax[1].set_xticklabels(ax[0].get_xticklabels(), rotation=0)\n",
    "ax[2].set_xticklabels(ax[0].get_xticklabels(), rotation=0)\n",
    "# ax[2].set_xticks(range(2, 11))\n",
    "\n",
    "ax[0].set_title('Failure rate with disturbances')  #, pad=20)\n",
    "ax[1].set_title('Failure rate with payload mass')  #, pad=20)\n",
    "ax[2].set_title('Power consumption')  #, pad=20)\n",
    "\n",
    "# ax[1].xaxis.label.set_visible(False)\n",
    "# ax[1].xaxis.label.set_visible(False)\n",
    "# ax[1].set_yticks([])\n",
    "# ax[1].set_ylabel('')\n",
    "ax[2].grid(True, axis='y')\n",
    "ax[2].grid(False, axis='x')\n",
    "\n",
    "ax[0].yaxis.tick_left()\n",
    "ax[1].yaxis.tick_left()\n",
    "ax[2].yaxis.tick_right()\n",
    "\n",
    "ax[0].yaxis.set_label_position('left')\n",
    "ax[1].yaxis.set_label_position('left')\n",
    "ax[2].yaxis.set_label_position('right')\n",
    "\n",
    "ax[0].yaxis.labelpad = 0\n",
    "ax[1].yaxis.labelpad = 0\n",
    "ax[2].yaxis.labelpad = 0\n",
    "\n",
    "ax[2].ticklabel_format(axis='y', style='sci', scilimits=(0, 0), useMathText=True)\n",
    "ax[2].yaxis.offsetText.set_position((1.1, 0))\n",
    "\n",
    "# plt.ticklabel_format(axis='both', style='sci', scilimits=(4,4))\n",
    "# fig.text(0.4, 1.0, 'Failure rate for varying number of robots', ha='center', fontsize=12)\n",
    "# fig.text(0.8, 1.0, 'Power consumed by all robots combined', ha='center', fontsize=12)\n",
    "\n",
    "plt.savefig('plot.png', dpi=300, bbox_inches='tight')\n",
    "plt.savefig('plot.pdf', dpi=300, bbox_inches='tight')"
   ],
   "metadata": {
    "collapsed": false,
    "ExecuteTime": {
     "end_time": "2024-06-06T07:58:14.058312Z",
     "start_time": "2024-06-06T07:57:57.141991Z"
    }
   },
   "id": "66a097aa0306c82a",
   "execution_count": 57
  },
  {
   "cell_type": "code",
   "outputs": [
    {
     "data": {
      "text/plain": "<Axes: xlabel='num_cassie', ylabel='power'>"
     },
     "execution_count": 91,
     "metadata": {},
     "output_type": "execute_result"
    },
    {
     "data": {
      "text/plain": "<Figure size 640x480 with 1 Axes>",
      "image/png": "[encoded data removed]"
     },
     "metadata": {},
     "output_type": "display_data"
    }
   ],
   "source": [
    "sns.boxplot(data=df_[(df_.episode_length != 100420) & (df_.terrain == 'cassiepede_rectangle')], x='num_cassie',\n",
    "            y='power', showfliers=False,\n",
    "            palette=cmap)"
   ],
   "metadata": {
    "collapsed": false,
    "ExecuteTime": {
     "end_time": "2024-06-05T10:51:12.710131Z",
     "start_time": "2024-06-05T10:51:12.070425Z"
    }
   },
   "id": "1b014ad6cdf27835",
   "execution_count": 91
  },
  {
   "cell_type": "code",
   "outputs": [
    {
     "data": {
      "text/plain": "         command_h  command_t  command_x  command_y  force  height_diff  \\\n0             0.75         15          0        0.0     60   189.524206   \n1             0.75         15          0        0.0     60   189.524206   \n2             0.75         15          0        0.0     60   189.524206   \n3             0.75         15          0        0.0     60   189.524206   \n4             0.75         15          0        0.0     60   189.524206   \n...            ...        ...        ...        ...    ...          ...   \n2008995       0.75         15          0        0.0    100   395.377610   \n2008996       0.75         15          0        0.0    100   395.377610   \n2008997       0.75         15          0        0.0    100   395.377610   \n2008998       0.75         15          0        0.0    100   395.377610   \n2008999       0.75         15          0        0.0    100   395.377610   \n\n         height_diff_0  height_diff_1  height_diff_2  height_diff_3  ...  \\\n0           189.524206            NaN            NaN            NaN  ...   \n1           189.524206            NaN            NaN            NaN  ...   \n2           189.524206            NaN            NaN            NaN  ...   \n3           189.524206            NaN            NaN            NaN  ...   \n4           189.524206            NaN            NaN            NaN  ...   \n...                ...            ...            ...            ...  ...   \n2008995      47.384837      46.839605      72.196546      67.375287  ...   \n2008996      47.384837      46.839605      72.196546      67.375287  ...   \n2008997      47.384837      46.839605      72.196546      67.375287  ...   \n2008998      47.384837      46.839605      72.196546      67.375287  ...   \n2008999      47.384837      46.839605      72.196546      67.375287  ...   \n\n         odometry_x  odometry_y  odometry_z  poi_linear_acceleration  \\\n0         -0.071861    0.072855   -0.243684             10975.300183   \n1          0.220926    0.333757   -0.215834             11250.199379   \n2         -1.649033   -0.014628   -0.253043             11342.315559   \n3         -0.054263    0.122713   -0.257748             10894.103874   \n4         -0.704848    0.718379   -0.274981             11063.617856   \n...             ...         ...         ...                      ...   \n2008995    0.032959    0.080593   -0.341098               253.991189   \n2008996    0.011756    0.083390   -0.342800               379.715086   \n2008997    0.034708    0.105367   -0.350929               311.011967   \n2008998    0.033171    0.069169   -0.322763               296.315040   \n2008999    0.014441   -0.048740   -0.368411               293.841296   \n\n         perturbation_force_bound  orientation_error  \\\n0                      (642, 837)          -0.600066   \n1                      (711, 815)          -0.600066   \n2                      (724, 838)          -0.600066   \n3                      (492, 506)          -0.600066   \n4                      (800, 996)          -0.600066   \n...                           ...                ...   \n2008995                (611, 862)          -5.194963   \n2008996                (971, 998)          -5.194963   \n2008997                (152, 488)          -5.194963   \n2008998                (108, 554)          -5.194963   \n2008999                 (71, 307)          -5.194963   \n\n                                                  run_args  \\\n0        {'hidden_dim': 64, 'lstm_hidden_dim': 64, 'lst...   \n1        {'hidden_dim': 64, 'lstm_hidden_dim': 64, 'lst...   \n2        {'hidden_dim': 64, 'lstm_hidden_dim': 64, 'lst...   \n3        {'hidden_dim': 64, 'lstm_hidden_dim': 64, 'lst...   \n4        {'hidden_dim': 64, 'lstm_hidden_dim': 64, 'lst...   \n...                                                    ...   \n2008995  {'hidden_dim': 64, 'lstm_hidden_dim': 64, 'lst...   \n2008996  {'hidden_dim': 64, 'lstm_hidden_dim': 64, 'lst...   \n2008997  {'hidden_dim': 64, 'lstm_hidden_dim': 64, 'lst...   \n2008998  {'hidden_dim': 64, 'lstm_hidden_dim': 64, 'lst...   \n2008999  {'hidden_dim': 64, 'lstm_hidden_dim': 64, 'lst...   \n\n                                            positive_power  robot_positions  \\\n0                                                      NaN              NaN   \n1                                                      NaN              NaN   \n2                                                      NaN              NaN   \n3                                                      NaN              NaN   \n4                                                      NaN              NaN   \n...                                                    ...              ...   \n2008995  [440051.85044881 448959.54589646 434287.676653...               []   \n2008996  [440051.85044881 448959.54589646 434287.676653...               []   \n2008997  [440051.85044881 448959.54589646 434287.676653...               []   \n2008998  [440051.85044881 448959.54589646 434287.676653...               []   \n2008999  [440051.85044881 448959.54589646 434287.676653...               []   \n\n         poi_positions  \n0                  NaN  \n1                  NaN  \n2                  NaN  \n3                  NaN  \n4                  NaN  \n...                ...  \n2008995             []  \n2008996             []  \n2008997             []  \n2008998             []  \n2008999             []  \n\n[2009000 rows x 56 columns]",
      "text/html": "<div>\n<style scoped>\n    .dataframe tbody tr th:only-of-type {\n        vertical-align: middle;\n    }\n\n    .dataframe tbody tr th {\n        vertical-align: top;\n    }\n\n    .dataframe thead th {\n        text-align: right;\n    }\n</style>\n<table border=\"1\" class=\"dataframe\">\n  <thead>\n    <tr style=\"text-align: right;\">\n      <th></th>\n      <th>command_h</th>\n      <th>command_t</th>\n      <th>command_x</th>\n      <th>command_y</th>\n      <th>force</th>\n      <th>height_diff</th>\n      <th>height_diff_0</th>\n      <th>height_diff_1</th>\n      <th>height_diff_2</th>\n      <th>height_diff_3</th>\n      <th>...</th>\n      <th>odometry_x</th>\n      <th>odometry_y</th>\n      <th>odometry_z</th>\n      <th>poi_linear_acceleration</th>\n      <th>perturbation_force_bound</th>\n      <th>orientation_error</th>\n      <th>run_args</th>\n      <th>positive_power</th>\n      <th>robot_positions</th>\n      <th>poi_positions</th>\n    </tr>\n  </thead>\n  <tbody>\n    <tr>\n      <th>0</th>\n      <td>0.75</td>\n      <td>15</td>\n      <td>0</td>\n      <td>0.0</td>\n      <td>60</td>\n      <td>189.524206</td>\n      <td>189.524206</td>\n      <td>NaN</td>\n      <td>NaN</td>\n      <td>NaN</td>\n      <td>...</td>\n      <td>-0.071861</td>\n      <td>0.072855</td>\n      <td>-0.243684</td>\n      <td>10975.300183</td>\n      <td>(642, 837)</td>\n      <td>-0.600066</td>\n      <td>{'hidden_dim': 64, 'lstm_hidden_dim': 64, 'lst...</td>\n      <td>NaN</td>\n      <td>NaN</td>\n      <td>NaN</td>\n    </tr>\n    <tr>\n      <th>1</th>\n      <td>0.75</td>\n      <td>15</td>\n      <td>0</td>\n      <td>0.0</td>\n      <td>60</td>\n      <td>189.524206</td>\n      <td>189.524206</td>\n      <td>NaN</td>\n      <td>NaN</td>\n      <td>NaN</td>\n      <td>...</td>\n      <td>0.220926</td>\n      <td>0.333757</td>\n      <td>-0.215834</td>\n      <td>11250.199379</td>\n      <td>(711, 815)</td>\n      <td>-0.600066</td>\n      <td>{'hidden_dim': 64, 'lstm_hidden_dim': 64, 'lst...</td>\n      <td>NaN</td>\n      <td>NaN</td>\n      <td>NaN</td>\n    </tr>\n    <tr>\n      <th>2</th>\n      <td>0.75</td>\n      <td>15</td>\n      <td>0</td>\n      <td>0.0</td>\n      <td>60</td>\n      <td>189.524206</td>\n      <td>189.524206</td>\n      <td>NaN</td>\n      <td>NaN</td>\n      <td>NaN</td>\n      <td>...</td>\n      <td>-1.649033</td>\n      <td>-0.014628</td>\n      <td>-0.253043</td>\n      <td>11342.315559</td>\n      <td>(724, 838)</td>\n      <td>-0.600066</td>\n      <td>{'hidden_dim': 64, 'lstm_hidden_dim': 64, 'lst...</td>\n      <td>NaN</td>\n      <td>NaN</td>\n      <td>NaN</td>\n    </tr>\n    <tr>\n      <th>3</th>\n      <td>0.75</td>\n      <td>15</td>\n      <td>0</td>\n      <td>0.0</td>\n      <td>60</td>\n      <td>189.524206</td>\n      <td>189.524206</td>\n      <td>NaN</td>\n      <td>NaN</td>\n      <td>NaN</td>\n      <td>...</td>\n      <td>-0.054263</td>\n      <td>0.122713</td>\n      <td>-0.257748</td>\n      <td>10894.103874</td>\n      <td>(492, 506)</td>\n      <td>-0.600066</td>\n      <td>{'hidden_dim': 64, 'lstm_hidden_dim': 64, 'lst...</td>\n      <td>NaN</td>\n      <td>NaN</td>\n      <td>NaN</td>\n    </tr>\n    <tr>\n      <th>4</th>\n      <td>0.75</td>\n      <td>15</td>\n      <td>0</td>\n      <td>0.0</td>\n      <td>60</td>\n      <td>189.524206</td>\n      <td>189.524206</td>\n      <td>NaN</td>\n      <td>NaN</td>\n      <td>NaN</td>\n      <td>...</td>\n      <td>-0.704848</td>\n      <td>0.718379</td>\n      <td>-0.274981</td>\n      <td>11063.617856</td>\n      <td>(800, 996)</td>\n      <td>-0.600066</td>\n      <td>{'hidden_dim': 64, 'lstm_hidden_dim': 64, 'lst...</td>\n      <td>NaN</td>\n      <td>NaN</td>\n      <td>NaN</td>\n    </tr>\n    <tr>\n      <th>...</th>\n      <td>...</td>\n      <td>...</td>\n      <td>...</td>\n      <td>...</td>\n      <td>...</td>\n      <td>...</td>\n      <td>...</td>\n      <td>...</td>\n      <td>...</td>\n      <td>...</td>\n      <td>...</td>\n      <td>...</td>\n      <td>...</td>\n      <td>...</td>\n      <td>...</td>\n      <td>...</td>\n      <td>...</td>\n      <td>...</td>\n      <td>...</td>\n      <td>...</td>\n      <td>...</td>\n    </tr>\n    <tr>\n      <th>2008995</th>\n      <td>0.75</td>\n      <td>15</td>\n      <td>0</td>\n      <td>0.0</td>\n      <td>100</td>\n      <td>395.377610</td>\n      <td>47.384837</td>\n      <td>46.839605</td>\n      <td>72.196546</td>\n      <td>67.375287</td>\n      <td>...</td>\n      <td>0.032959</td>\n      <td>0.080593</td>\n      <td>-0.341098</td>\n      <td>253.991189</td>\n      <td>(611, 862)</td>\n      <td>-5.194963</td>\n      <td>{'hidden_dim': 64, 'lstm_hidden_dim': 64, 'lst...</td>\n      <td>[440051.85044881 448959.54589646 434287.676653...</td>\n      <td>[]</td>\n      <td>[]</td>\n    </tr>\n    <tr>\n      <th>2008996</th>\n      <td>0.75</td>\n      <td>15</td>\n      <td>0</td>\n      <td>0.0</td>\n      <td>100</td>\n      <td>395.377610</td>\n      <td>47.384837</td>\n      <td>46.839605</td>\n      <td>72.196546</td>\n      <td>67.375287</td>\n      <td>...</td>\n      <td>0.011756</td>\n      <td>0.083390</td>\n      <td>-0.342800</td>\n      <td>379.715086</td>\n      <td>(971, 998)</td>\n      <td>-5.194963</td>\n      <td>{'hidden_dim': 64, 'lstm_hidden_dim': 64, 'lst...</td>\n      <td>[440051.85044881 448959.54589646 434287.676653...</td>\n      <td>[]</td>\n      <td>[]</td>\n    </tr>\n    <tr>\n      <th>2008997</th>\n      <td>0.75</td>\n      <td>15</td>\n      <td>0</td>\n      <td>0.0</td>\n      <td>100</td>\n      <td>395.377610</td>\n      <td>47.384837</td>\n      <td>46.839605</td>\n      <td>72.196546</td>\n      <td>67.375287</td>\n      <td>...</td>\n      <td>0.034708</td>\n      <td>0.105367</td>\n      <td>-0.350929</td>\n      <td>311.011967</td>\n      <td>(152, 488)</td>\n      <td>-5.194963</td>\n      <td>{'hidden_dim': 64, 'lstm_hidden_dim': 64, 'lst...</td>\n      <td>[440051.85044881 448959.54589646 434287.676653...</td>\n      <td>[]</td>\n      <td>[]</td>\n    </tr>\n    <tr>\n      <th>2008998</th>\n      <td>0.75</td>\n      <td>15</td>\n      <td>0</td>\n      <td>0.0</td>\n      <td>100</td>\n      <td>395.377610</td>\n      <td>47.384837</td>\n      <td>46.839605</td>\n      <td>72.196546</td>\n      <td>67.375287</td>\n      <td>...</td>\n      <td>0.033171</td>\n      <td>0.069169</td>\n      <td>-0.322763</td>\n      <td>296.315040</td>\n      <td>(108, 554)</td>\n      <td>-5.194963</td>\n      <td>{'hidden_dim': 64, 'lstm_hidden_dim': 64, 'lst...</td>\n      <td>[440051.85044881 448959.54589646 434287.676653...</td>\n      <td>[]</td>\n      <td>[]</td>\n    </tr>\n    <tr>\n      <th>2008999</th>\n      <td>0.75</td>\n      <td>15</td>\n      <td>0</td>\n      <td>0.0</td>\n      <td>100</td>\n      <td>395.377610</td>\n      <td>47.384837</td>\n      <td>46.839605</td>\n      <td>72.196546</td>\n      <td>67.375287</td>\n      <td>...</td>\n      <td>0.014441</td>\n      <td>-0.048740</td>\n      <td>-0.368411</td>\n      <td>293.841296</td>\n      <td>(71, 307)</td>\n      <td>-5.194963</td>\n      <td>{'hidden_dim': 64, 'lstm_hidden_dim': 64, 'lst...</td>\n      <td>[440051.85044881 448959.54589646 434287.676653...</td>\n      <td>[]</td>\n      <td>[]</td>\n    </tr>\n  </tbody>\n</table>\n<p>2009000 rows × 56 columns</p>\n</div>"
     },
     "execution_count": 100,
     "metadata": {},
     "output_type": "execute_result"
    }
   ],
   "source": [
    "df[(df.command_x == 1) & (df.command_y == 0) & (df.command_t == 0) & (df.num_cassie == 5) & (\n",
    "        df.terrain == 'cassiepede_rectangle') & (df.force == 0)].groupby('policy').size()"
   ],
   "metadata": {
    "collapsed": false,
    "ExecuteTime": {
     "end_time": "2024-06-05T11:13:40.787470Z",
     "start_time": "2024-06-05T11:13:40.283360Z"
    }
   },
   "id": "e0133f2e133c99de",
   "execution_count": 100
  },
  {
   "cell_type": "code",
   "outputs": [],
   "source": [],
   "metadata": {
    "collapsed": false
   },
   "id": "522b2bc606d3d6cc"
  }
 ],
 "metadata": {
  "kernelspec": {
   "name": "ml310",
   "language": "python",
   "display_name": "Python 3.10 (ml310)"
  },
  "language_info": {
   "codemirror_mode": {
    "name": "ipython",
    "version": 2
   },
   "file_extension": ".py",
   "mimetype": "text/x-python",
   "name": "python",
   "nbconvert_exporter": "python",
   "pygments_lexer": "ipython2",
   "version": "2.7.6"
  }
 },
 "nbformat": 4,
 "nbformat_minor": 5
}
