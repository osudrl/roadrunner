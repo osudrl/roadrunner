{
 "cells": [
  {
   "cell_type": "code",
   "execution_count": 3,
   "id": "initial_id",
   "metadata": {
    "collapsed": true,
    "ExecuteTime": {
     "end_time": "2024-06-14T04:40:15.285354Z",
     "start_time": "2024-06-14T04:40:15.273568Z"
    }
   },
   "outputs": [],
   "source": [
    "import oyaml as yaml"
   ]
  },
  {
   "cell_type": "code",
   "outputs": [
    {
     "data": {
      "text/plain": "40"
     },
     "execution_count": 7,
     "metadata": {},
     "output_type": "execute_result"
    }
   ],
   "source": [
    "result = []\n",
    "\n",
    "policies = [\n",
    "    ('trained_3_torque_joint_force_randomize_weight', '2024-05-20 19:05:06.757875', 'latest'),\n",
    "    # ('trained_1', '2024-04-13 21:56:36.012260', 'latest'),\n",
    "    # ('trained_3_torque_joint_force', '2024-05-07 00:34:48.881196', 'latest'),\n",
    "    # ('trained_3_torque', '2024-05-01 10:30:51.809112', 'latest'),\n",
    "    # ('trained_3', '2024-04-21-23 03:49:18.121881', '41875'),\n",
    "    # ('trained_2_better', '2024-05-19 00:56:18.180209', 'latest'),\n",
    "    # ('trained_2', '2024-04-21 22:42:28.253635', 'latest'),\n",
    "    # ('centralized3', '2024-05-26 13:14:20.134321', 'latest'),\n",
    "    # ('trained_2_torque_joint_force_randomize_weight', '2024-05-19 00:56:18.180209', '94783'),\n",
    "    # ('hierarchical', '2024-04-17 22:29:15.433898', 'latest')\n",
    "]\n",
    "\n",
    "offset = 0\n",
    "\n",
    "for policy, run_name, checkpoint in policies:\n",
    "    # for num_cassie, terrain in (4, 'cassiepede_rectangle'), (4, 'cassiepede_t_shape_b'), (3, 'cassiepede_shape_a'), (3, 'cassiepede_weight_c'):\n",
    "    # for num_cassie, terrain in (3, 'cassiepede_equilateral'),:\n",
    "    # for num_cassie, terrain in (1, 'cassiepede_rectangle'),:\n",
    "    # for num_cassie, terrain in (1, 'cassiepede_baseline'),:\n",
    "    # for num_cassie, terrain in (2, 'cassiepede_centralized'),:\n",
    "    # for force in 0, 20, 40, 60, 80, 100: \n",
    "    for force in 0,: \n",
    "        # for num_cassie, terrain in (4, 'cassiepede_rectangle_20kg_'),:\n",
    "        \n",
    "        # for num_cassie, terrain in (4, 'cassiepede_rectangle_dynamic_'),:\n",
    "        # for num_cassie, terrain in (2,'cassiepede'), (3,'cassiepede'),:\n",
    "        # for num_cassie, terrain in (25, 'cassiepede_rectangle'), (50, 'cassiepede_rectangle'), (100,'cassiepede_rectangle'):\n",
    "        # for num_cassie, terrain in (3, 'cassiepede_config_a'), (4, 'cassiepede_config_b'), (3,'cassiepede_config_c'):\n",
    "        # for num_cassie, terrain in (1, 'cassiepede_rectangle_100kg_'), (2, 'cassiepede_rectangle_100kg_'), (3, 'cassiepede_rectangle_100kg_'), (4, 'cassiepede_rectangle_100kg_'), (5, 'cassiepede_rectangle_100kg_'), (6, 'cassiepede_rectangle_100kg_'), (7, 'cassiepede_rectangle_100kg_'), (8, 'cassiepede_rectangle_100kg_'), (9, 'cassiepede_rectangle_100kg_'), (10, 'cassiepede_rectangle_100kg_'):\n",
    "        for num_cassie, terrain in (1, 'cassiepede_rectangle'), (2, 'cassiepede_rectangle'), (3, 'cassiepede_rectangle'), (4, 'cassiepede_rectangle'), (5, 'cassiepede_rectangle'), (6, 'cassiepede_rectangle'), (7, 'cassiepede_rectangle'), (8, 'cassiepede_rectangle'), (9, 'cassiepede_rectangle'), (10, 'cassiepede_rectangle'):\n",
    "        # for num_cassie, terrain in (50, 'cassiepede_rectangle'),:\n",
    "            for command in (0, 0, 0, 0.75), (1, 0, 0, 0.75), (0, 0.25, 0, 0.75), (0, 0, 15, 0.75):\n",
    "                # for terrain in 'cassiepede_t_shape_a', 'cassiepede_t_shape_b', 'cassiepede_t_shape_c', 'cassiepede_t_shape_d':\n",
    "                # for terrain in 'cassiepede_rectangle',:\n",
    "                # for terrain in 'cassiepede_rectangle4', 'cassiepede_t_shape_b4','cassiepede_weight_a3', 'cassiepede_weight_c3':\n",
    "                x, y, t, h = command\n",
    "                result.append(dict(\n",
    "                    idx=offset + len(result),\n",
    "                    name=f'commandability for {num_cassie} cassie in rectangle at x={x}, y={y}, t={t}, h={h}, force={force}, policy={policy}',\n",
    "                    env=dict(\n",
    "                        num_cassie=num_cassie,\n",
    "                        terrain=terrain,\n",
    "                        time_horizon=1000,\n",
    "                        policy=policy,\n",
    "                        checkpoint=checkpoint,\n",
    "                        run_name=run_name,\n",
    "                        force=force),\n",
    "                    command=dict(\n",
    "                        x=x,\n",
    "                        y=y,\n",
    "                        t=t,\n",
    "                        h=h\n",
    "                    ),\n",
    "                ))\n",
    "\n",
    "with open('trained3_num_cassie_1to10_for_joint_forces.yaml', 'w') as f:\n",
    "    yaml.dump(dict(n_traj=100, benchmarks=result), f, sort_keys=False)\n",
    "    \n",
    "len(result)"
   ],
   "metadata": {
    "collapsed": false,
    "ExecuteTime": {
     "end_time": "2024-06-14T07:30:53.654989Z",
     "start_time": "2024-06-14T07:30:53.628689Z"
    }
   },
   "id": "c11541ef7f3a5c6e",
   "execution_count": 7
  },
  {
   "cell_type": "code",
   "outputs": [],
   "source": [
    "# rename files\n",
    "\n",
    "import os\n",
    "\n",
    "dir_name = '/Users/bikram/workspace/PycharmProjects/roadrunner_refactor/algo/cassiepede/benchmark/data/varying_cassie_count_add_trained_2_better'\n",
    "\n",
    "for file in sorted(os.listdir(dir_name), reverse=True):\n",
    "    if file.endswith('.csv'):\n",
    "        idx, rest = file.split('-', 1)\n",
    "        os.rename(os.path.join(dir_name, file), os.path.join(dir_name, f'{int(idx) + 1}-{rest}'))"
   ],
   "metadata": {
    "collapsed": false,
    "ExecuteTime": {
     "end_time": "2024-05-23T19:36:15.633760Z",
     "start_time": "2024-05-23T19:36:15.620363Z"
    }
   },
   "id": "6195cf11aef62ed0",
   "execution_count": 10
  },
  {
   "cell_type": "code",
   "outputs": [
    {
     "data": {
      "text/plain": "'713'"
     },
     "execution_count": 5,
     "metadata": {},
     "output_type": "execute_result"
    }
   ],
   "source": [
    "idx"
   ],
   "metadata": {
    "collapsed": false,
    "ExecuteTime": {
     "end_time": "2024-05-23T19:33:09.971248Z",
     "start_time": "2024-05-23T19:33:09.968998Z"
    }
   },
   "id": "1410be539c23dc55",
   "execution_count": 5
  },
  {
   "cell_type": "code",
   "outputs": [],
   "source": [
    "import os\n",
    "import glob"
   ],
   "metadata": {
    "collapsed": false,
    "ExecuteTime": {
     "end_time": "2024-05-26T19:08:23.303185Z",
     "start_time": "2024-05-26T19:08:23.301334Z"
    }
   },
   "id": "9a6fbb940ff41ed9",
   "execution_count": 1
  },
  {
   "cell_type": "code",
   "outputs": [],
   "source": [
    "# Save files to wandb\n",
    "cwd = os.getcwd()\n",
    "\n",
    "exclude = {'checkpoints', 'saved_models', 'wandb', '.idea', '.git', 'pretrained_models', 'trained_models',\n",
    "           'offline_data', 'old_files'}\n",
    "\n",
    "dirs = [d for d in os.listdir(cwd) if d not in exclude]"
   ],
   "metadata": {
    "collapsed": false,
    "ExecuteTime": {
     "end_time": "2024-05-26T19:16:40.657172Z",
     "start_time": "2024-05-26T19:16:40.653921Z"
    }
   },
   "id": "efb3c6dfccda108a",
   "execution_count": 23
  },
  {
   "cell_type": "code",
   "outputs": [],
   "source": [
    "# change cwd\n",
    "os.chdir('/Users/bikram/workspace/PycharmProjects/roadrunner_refactor/')"
   ],
   "metadata": {
    "collapsed": false,
    "ExecuteTime": {
     "end_time": "2024-05-26T19:08:53.750580Z",
     "start_time": "2024-05-26T19:08:53.747872Z"
    }
   },
   "id": "d32f983aea92b4ad",
   "execution_count": 4
  },
  {
   "cell_type": "code",
   "outputs": [],
   "source": [
    "# Save files to wandb\n",
    "cwd = os.getcwd()\n",
    "\n",
    "exclude = {'checkpoints', 'saved_models', 'wandb', '.idea', '.git', 'pretrained_models', 'trained_models',\n",
    "           'offline_data', 'old_files', 'notebooks', 'training_logs'}\n",
    "\n",
    "dirs = [d for d in os.listdir(cwd) if d not in exclude]"
   ],
   "metadata": {
    "collapsed": false,
    "ExecuteTime": {
     "end_time": "2024-05-26T19:24:19.549277Z",
     "start_time": "2024-05-26T19:24:19.546456Z"
    }
   },
   "id": "4f7fe59d2a5bde70",
   "execution_count": 38
  },
  {
   "cell_type": "code",
   "outputs": [
    {
     "data": {
      "text/plain": "['nn', 'util', 'udp', 'algo', 'env', 'testing', 'perception', 'sim']"
     },
     "execution_count": 39,
     "metadata": {},
     "output_type": "execute_result"
    }
   ],
   "source": [
    "[d for d in dirs if os.path.isdir(os.path.join(cwd, d))]"
   ],
   "metadata": {
    "collapsed": false,
    "ExecuteTime": {
     "end_time": "2024-05-26T19:24:19.731919Z",
     "start_time": "2024-05-26T19:24:19.728041Z"
    }
   },
   "id": "86dab3844bec3640",
   "execution_count": 39
  },
  {
   "cell_type": "code",
   "outputs": [
    {
     "data": {
      "text/plain": "['/Users/bikram/workspace/PycharmProjects/roadrunner_refactor/eval_udp_cassiepede.sh',\n '/Users/bikram/workspace/PycharmProjects/roadrunner_refactor/eval_udp_cassiepede.sh',\n '/Users/bikram/workspace/PycharmProjects/roadrunner_refactor/eval_udp_cassiepede.sh',\n '/Users/bikram/workspace/PycharmProjects/roadrunner_refactor/eval_udp_cassiepede.sh',\n '/Users/bikram/workspace/PycharmProjects/roadrunner_refactor/eval_udp_cassiepede.sh',\n '/Users/bikram/workspace/PycharmProjects/roadrunner_refactor/eval_udp_cassiepede.sh',\n '/Users/bikram/workspace/PycharmProjects/roadrunner_refactor/setup.sh',\n '/Users/bikram/workspace/PycharmProjects/roadrunner_refactor/setup.sh',\n '/Users/bikram/workspace/PycharmProjects/roadrunner_refactor/setup.sh',\n '/Users/bikram/workspace/PycharmProjects/roadrunner_refactor/setup.sh',\n '/Users/bikram/workspace/PycharmProjects/roadrunner_refactor/setup.sh',\n '/Users/bikram/workspace/PycharmProjects/roadrunner_refactor/setup.sh',\n '/Users/bikram/workspace/PycharmProjects/roadrunner_refactor/pendulum.xml',\n '/Users/bikram/workspace/PycharmProjects/roadrunner_refactor/pendulum.xml',\n '/Users/bikram/workspace/PycharmProjects/roadrunner_refactor/pendulum.xml',\n '/Users/bikram/workspace/PycharmProjects/roadrunner_refactor/pendulum.xml',\n '/Users/bikram/workspace/PycharmProjects/roadrunner_refactor/pendulum.xml',\n '/Users/bikram/workspace/PycharmProjects/roadrunner_refactor/pendulum.xml',\n '/Users/bikram/workspace/PycharmProjects/roadrunner_refactor/ffcv_dumper.sh',\n '/Users/bikram/workspace/PycharmProjects/roadrunner_refactor/ffcv_dumper.sh',\n '/Users/bikram/workspace/PycharmProjects/roadrunner_refactor/ffcv_dumper.sh',\n '/Users/bikram/workspace/PycharmProjects/roadrunner_refactor/ffcv_dumper.sh',\n '/Users/bikram/workspace/PycharmProjects/roadrunner_refactor/ffcv_dumper.sh',\n '/Users/bikram/workspace/PycharmProjects/roadrunner_refactor/ffcv_dumper.sh',\n '/Users/bikram/workspace/PycharmProjects/roadrunner_refactor/server_download.sh',\n '/Users/bikram/workspace/PycharmProjects/roadrunner_refactor/server_download.sh',\n '/Users/bikram/workspace/PycharmProjects/roadrunner_refactor/server_download.sh',\n '/Users/bikram/workspace/PycharmProjects/roadrunner_refactor/server_download.sh',\n '/Users/bikram/workspace/PycharmProjects/roadrunner_refactor/server_download.sh',\n '/Users/bikram/workspace/PycharmProjects/roadrunner_refactor/server_download.sh',\n '/Users/bikram/workspace/PycharmProjects/roadrunner_refactor/transfer.sh',\n '/Users/bikram/workspace/PycharmProjects/roadrunner_refactor/transfer.sh',\n '/Users/bikram/workspace/PycharmProjects/roadrunner_refactor/transfer.sh',\n '/Users/bikram/workspace/PycharmProjects/roadrunner_refactor/transfer.sh',\n '/Users/bikram/workspace/PycharmProjects/roadrunner_refactor/transfer.sh',\n '/Users/bikram/workspace/PycharmProjects/roadrunner_refactor/transfer.sh',\n '/Users/bikram/workspace/PycharmProjects/roadrunner_refactor/work.sh',\n '/Users/bikram/workspace/PycharmProjects/roadrunner_refactor/work.sh',\n '/Users/bikram/workspace/PycharmProjects/roadrunner_refactor/work.sh',\n '/Users/bikram/workspace/PycharmProjects/roadrunner_refactor/work.sh',\n '/Users/bikram/workspace/PycharmProjects/roadrunner_refactor/work.sh',\n '/Users/bikram/workspace/PycharmProjects/roadrunner_refactor/work.sh',\n '/Users/bikram/workspace/PycharmProjects/roadrunner_refactor/joystick_remote_controller.sh',\n '/Users/bikram/workspace/PycharmProjects/roadrunner_refactor/joystick_remote_controller.sh',\n '/Users/bikram/workspace/PycharmProjects/roadrunner_refactor/joystick_remote_controller.sh',\n '/Users/bikram/workspace/PycharmProjects/roadrunner_refactor/joystick_remote_controller.sh',\n '/Users/bikram/workspace/PycharmProjects/roadrunner_refactor/joystick_remote_controller.sh',\n '/Users/bikram/workspace/PycharmProjects/roadrunner_refactor/joystick_remote_controller.sh',\n '/Users/bikram/workspace/PycharmProjects/roadrunner_refactor/ppo_seeds.sh',\n '/Users/bikram/workspace/PycharmProjects/roadrunner_refactor/ppo_seeds.sh',\n '/Users/bikram/workspace/PycharmProjects/roadrunner_refactor/ppo_seeds.sh',\n '/Users/bikram/workspace/PycharmProjects/roadrunner_refactor/ppo_seeds.sh',\n '/Users/bikram/workspace/PycharmProjects/roadrunner_refactor/ppo_seeds.sh',\n '/Users/bikram/workspace/PycharmProjects/roadrunner_refactor/ppo_seeds.sh',\n '/Users/bikram/workspace/PycharmProjects/roadrunner_refactor/terminal_size.py',\n '/Users/bikram/workspace/PycharmProjects/roadrunner_refactor/terminal_size.py',\n '/Users/bikram/workspace/PycharmProjects/roadrunner_refactor/terminal_size.py',\n '/Users/bikram/workspace/PycharmProjects/roadrunner_refactor/terminal_size.py',\n '/Users/bikram/workspace/PycharmProjects/roadrunner_refactor/terminal_size.py',\n '/Users/bikram/workspace/PycharmProjects/roadrunner_refactor/terminal_size.py',\n '/Users/bikram/workspace/PycharmProjects/roadrunner_refactor/.DS_Store',\n '/Users/bikram/workspace/PycharmProjects/roadrunner_refactor/.DS_Store',\n '/Users/bikram/workspace/PycharmProjects/roadrunner_refactor/.DS_Store',\n '/Users/bikram/workspace/PycharmProjects/roadrunner_refactor/.DS_Store',\n '/Users/bikram/workspace/PycharmProjects/roadrunner_refactor/.DS_Store',\n '/Users/bikram/workspace/PycharmProjects/roadrunner_refactor/.DS_Store',\n '/Users/bikram/workspace/PycharmProjects/roadrunner_refactor/benchmark_cassiepede.sh',\n '/Users/bikram/workspace/PycharmProjects/roadrunner_refactor/benchmark_cassiepede.sh',\n '/Users/bikram/workspace/PycharmProjects/roadrunner_refactor/benchmark_cassiepede.sh',\n '/Users/bikram/workspace/PycharmProjects/roadrunner_refactor/benchmark_cassiepede.sh',\n '/Users/bikram/workspace/PycharmProjects/roadrunner_refactor/benchmark_cassiepede.sh',\n '/Users/bikram/workspace/PycharmProjects/roadrunner_refactor/benchmark_cassiepede.sh',\n [],\n [],\n [],\n [],\n [],\n [],\n '/Users/bikram/workspace/PycharmProjects/roadrunner_refactor/profile_test.py',\n '/Users/bikram/workspace/PycharmProjects/roadrunner_refactor/profile_test.py',\n '/Users/bikram/workspace/PycharmProjects/roadrunner_refactor/profile_test.py',\n '/Users/bikram/workspace/PycharmProjects/roadrunner_refactor/profile_test.py',\n '/Users/bikram/workspace/PycharmProjects/roadrunner_refactor/profile_test.py',\n '/Users/bikram/workspace/PycharmProjects/roadrunner_refactor/profile_test.py',\n [],\n [],\n [],\n [],\n [],\n [],\n [],\n [],\n [],\n [],\n [],\n [],\n '/Users/bikram/workspace/PycharmProjects/roadrunner_refactor/build_index_offline_data.py',\n '/Users/bikram/workspace/PycharmProjects/roadrunner_refactor/build_index_offline_data.py',\n '/Users/bikram/workspace/PycharmProjects/roadrunner_refactor/build_index_offline_data.py',\n '/Users/bikram/workspace/PycharmProjects/roadrunner_refactor/build_index_offline_data.py',\n '/Users/bikram/workspace/PycharmProjects/roadrunner_refactor/build_index_offline_data.py',\n '/Users/bikram/workspace/PycharmProjects/roadrunner_refactor/build_index_offline_data.py',\n '/Users/bikram/workspace/PycharmProjects/roadrunner_refactor/a.py',\n '/Users/bikram/workspace/PycharmProjects/roadrunner_refactor/a.py',\n '/Users/bikram/workspace/PycharmProjects/roadrunner_refactor/a.py',\n '/Users/bikram/workspace/PycharmProjects/roadrunner_refactor/a.py',\n '/Users/bikram/workspace/PycharmProjects/roadrunner_refactor/a.py',\n '/Users/bikram/workspace/PycharmProjects/roadrunner_refactor/a.py',\n '/Users/bikram/workspace/PycharmProjects/roadrunner_refactor/train_cassiepede.sh',\n '/Users/bikram/workspace/PycharmProjects/roadrunner_refactor/train_cassiepede.sh',\n '/Users/bikram/workspace/PycharmProjects/roadrunner_refactor/train_cassiepede.sh',\n '/Users/bikram/workspace/PycharmProjects/roadrunner_refactor/train_cassiepede.sh',\n '/Users/bikram/workspace/PycharmProjects/roadrunner_refactor/train_cassiepede.sh',\n '/Users/bikram/workspace/PycharmProjects/roadrunner_refactor/train_cassiepede.sh',\n '/Users/bikram/workspace/PycharmProjects/roadrunner_refactor/convert.py',\n '/Users/bikram/workspace/PycharmProjects/roadrunner_refactor/convert.py',\n '/Users/bikram/workspace/PycharmProjects/roadrunner_refactor/convert.py',\n '/Users/bikram/workspace/PycharmProjects/roadrunner_refactor/convert.py',\n '/Users/bikram/workspace/PycharmProjects/roadrunner_refactor/convert.py',\n '/Users/bikram/workspace/PycharmProjects/roadrunner_refactor/convert.py',\n '/Users/bikram/workspace/PycharmProjects/roadrunner_refactor/process_offline_data.py',\n '/Users/bikram/workspace/PycharmProjects/roadrunner_refactor/process_offline_data.py',\n '/Users/bikram/workspace/PycharmProjects/roadrunner_refactor/process_offline_data.py',\n '/Users/bikram/workspace/PycharmProjects/roadrunner_refactor/process_offline_data.py',\n '/Users/bikram/workspace/PycharmProjects/roadrunner_refactor/process_offline_data.py',\n '/Users/bikram/workspace/PycharmProjects/roadrunner_refactor/process_offline_data.py',\n ['/Users/bikram/workspace/PycharmProjects/roadrunner_refactor/algo/old_files/training_denoiser_online.py',\n  '/Users/bikram/workspace/PycharmProjects/roadrunner_refactor/algo/old_files/network_old_denoiser.py',\n  '/Users/bikram/workspace/PycharmProjects/roadrunner_refactor/algo/old_files/training_v1_old.py',\n  '/Users/bikram/workspace/PycharmProjects/roadrunner_refactor/algo/old_files/hfield_sender.py',\n  '/Users/bikram/workspace/PycharmProjects/roadrunner_refactor/algo/old_files/evaluation_dataloader_1.py',\n  '/Users/bikram/workspace/PycharmProjects/roadrunner_refactor/algo/old_files/training_dataloader.py',\n  '/Users/bikram/workspace/PycharmProjects/roadrunner_refactor/algo/old_files/realsense_camera.py',\n  '/Users/bikram/workspace/PycharmProjects/roadrunner_refactor/algo/old_files/main_v3.py',\n  '/Users/bikram/workspace/PycharmProjects/roadrunner_refactor/algo/old_files/evaluation_v3.py',\n  '/Users/bikram/workspace/PycharmProjects/roadrunner_refactor/algo/old_files/evaluation.py',\n  '/Users/bikram/workspace/PycharmProjects/roadrunner_refactor/algo/old_files/data_loader.py',\n  '/Users/bikram/workspace/PycharmProjects/roadrunner_refactor/algo/old_files/training_dataloader_1.py',\n  '/Users/bikram/workspace/PycharmProjects/roadrunner_refactor/algo/old_files/evaluation_v1.py',\n  '/Users/bikram/workspace/PycharmProjects/roadrunner_refactor/algo/old_files/training_hfield_denoiser_old.py',\n  '/Users/bikram/workspace/PycharmProjects/roadrunner_refactor/algo/old_files/dataset.py',\n  '/Users/bikram/workspace/PycharmProjects/roadrunner_refactor/algo/old_files/ffcv_dumper.py',\n  '/Users/bikram/workspace/PycharmProjects/roadrunner_refactor/algo/old_files/training_offline_gan.py',\n  '/Users/bikram/workspace/PycharmProjects/roadrunner_refactor/algo/old_files/rotary_embedding.py',\n  '/Users/bikram/workspace/PycharmProjects/roadrunner_refactor/algo/old_files/evaluation_dataloader.py',\n  '/Users/bikram/workspace/PycharmProjects/roadrunner_refactor/algo/old_files/dataset_1.py',\n  '/Users/bikram/workspace/PycharmProjects/roadrunner_refactor/algo/old_files/training_v1_1.py',\n  '/Users/bikram/workspace/PycharmProjects/roadrunner_refactor/algo/old_files/training_v1.py',\n  '/Users/bikram/workspace/PycharmProjects/roadrunner_refactor/algo/old_files/training_test.py',\n  '/Users/bikram/workspace/PycharmProjects/roadrunner_refactor/algo/old_files/main_ff.py',\n  '/Users/bikram/workspace/PycharmProjects/roadrunner_refactor/algo/old_files/main.py',\n  '/Users/bikram/workspace/PycharmProjects/roadrunner_refactor/algo/old_files/network_old_hfield_predictor.py',\n  '/Users/bikram/workspace/PycharmProjects/roadrunner_refactor/algo/old_files/training_running_buffer_hfield_predictor.py',\n  '/Users/bikram/workspace/PycharmProjects/roadrunner_refactor/algo/old_files/main_v1.py',\n  '/Users/bikram/workspace/PycharmProjects/roadrunner_refactor/algo/old_files/training.py',\n  '/Users/bikram/workspace/PycharmProjects/roadrunner_refactor/algo/util/worker.py',\n  '/Users/bikram/workspace/PycharmProjects/roadrunner_refactor/algo/util/log.py',\n  '/Users/bikram/workspace/PycharmProjects/roadrunner_refactor/algo/util/sampling.py',\n  '/Users/bikram/workspace/PycharmProjects/roadrunner_refactor/algo/util/normalization.py',\n  '/Users/bikram/workspace/PycharmProjects/roadrunner_refactor/algo/util/teacherstudent.py',\n  '/Users/bikram/workspace/PycharmProjects/roadrunner_refactor/algo/common/math_utils.py',\n  '/Users/bikram/workspace/PycharmProjects/roadrunner_refactor/algo/common/ppo_algo.py',\n  '/Users/bikram/workspace/PycharmProjects/roadrunner_refactor/algo/common/utils.py',\n  '/Users/bikram/workspace/PycharmProjects/roadrunner_refactor/algo/common/network.py',\n  '/Users/bikram/workspace/PycharmProjects/roadrunner_refactor/algo/common/tarsus_patch_wrapper.py',\n  '/Users/bikram/workspace/PycharmProjects/roadrunner_refactor/algo/common/replaybuffer.py',\n  '/Users/bikram/workspace/PycharmProjects/roadrunner_refactor/algo/common/normalization.py',\n  '/Users/bikram/workspace/PycharmProjects/roadrunner_refactor/algo/cassiepede/keyboard_remote_controller.py',\n  '/Users/bikram/workspace/PycharmProjects/roadrunner_refactor/algo/cassiepede/evaluation.py',\n  '/Users/bikram/workspace/PycharmProjects/roadrunner_refactor/algo/cassiepede/sim2real_plotter.py',\n  '/Users/bikram/workspace/PycharmProjects/roadrunner_refactor/algo/cassiepede/joystick_remote_controller.py',\n  '/Users/bikram/workspace/PycharmProjects/roadrunner_refactor/algo/cassiepede/joystick_test.py',\n  '/Users/bikram/workspace/PycharmProjects/roadrunner_refactor/algo/cassiepede/training.py'],\n [],\n [],\n [],\n [],\n [],\n '/Users/bikram/workspace/PycharmProjects/roadrunner_refactor/run_ppo.py',\n '/Users/bikram/workspace/PycharmProjects/roadrunner_refactor/run_ppo.py',\n '/Users/bikram/workspace/PycharmProjects/roadrunner_refactor/run_ppo.py',\n '/Users/bikram/workspace/PycharmProjects/roadrunner_refactor/run_ppo.py',\n '/Users/bikram/workspace/PycharmProjects/roadrunner_refactor/run_ppo.py',\n '/Users/bikram/workspace/PycharmProjects/roadrunner_refactor/run_ppo.py',\n '/Users/bikram/workspace/PycharmProjects/roadrunner_refactor/launch_async_eval.sh',\n '/Users/bikram/workspace/PycharmProjects/roadrunner_refactor/launch_async_eval.sh',\n '/Users/bikram/workspace/PycharmProjects/roadrunner_refactor/launch_async_eval.sh',\n '/Users/bikram/workspace/PycharmProjects/roadrunner_refactor/launch_async_eval.sh',\n '/Users/bikram/workspace/PycharmProjects/roadrunner_refactor/launch_async_eval.sh',\n '/Users/bikram/workspace/PycharmProjects/roadrunner_refactor/launch_async_eval.sh',\n '/Users/bikram/workspace/PycharmProjects/roadrunner_refactor/eval_udp_cassiepede_osu.sh',\n '/Users/bikram/workspace/PycharmProjects/roadrunner_refactor/eval_udp_cassiepede_osu.sh',\n '/Users/bikram/workspace/PycharmProjects/roadrunner_refactor/eval_udp_cassiepede_osu.sh',\n '/Users/bikram/workspace/PycharmProjects/roadrunner_refactor/eval_udp_cassiepede_osu.sh',\n '/Users/bikram/workspace/PycharmProjects/roadrunner_refactor/eval_udp_cassiepede_osu.sh',\n '/Users/bikram/workspace/PycharmProjects/roadrunner_refactor/eval_udp_cassiepede_osu.sh',\n '/Users/bikram/workspace/PycharmProjects/roadrunner_refactor/plot_log.py',\n '/Users/bikram/workspace/PycharmProjects/roadrunner_refactor/plot_log.py',\n '/Users/bikram/workspace/PycharmProjects/roadrunner_refactor/plot_log.py',\n '/Users/bikram/workspace/PycharmProjects/roadrunner_refactor/plot_log.py',\n '/Users/bikram/workspace/PycharmProjects/roadrunner_refactor/plot_log.py',\n '/Users/bikram/workspace/PycharmProjects/roadrunner_refactor/plot_log.py',\n '/Users/bikram/workspace/PycharmProjects/roadrunner_refactor/start_ngrok.sh',\n '/Users/bikram/workspace/PycharmProjects/roadrunner_refactor/start_ngrok.sh',\n '/Users/bikram/workspace/PycharmProjects/roadrunner_refactor/start_ngrok.sh',\n '/Users/bikram/workspace/PycharmProjects/roadrunner_refactor/start_ngrok.sh',\n '/Users/bikram/workspace/PycharmProjects/roadrunner_refactor/start_ngrok.sh',\n '/Users/bikram/workspace/PycharmProjects/roadrunner_refactor/start_ngrok.sh',\n '/Users/bikram/workspace/PycharmProjects/roadrunner_refactor/test.py',\n '/Users/bikram/workspace/PycharmProjects/roadrunner_refactor/test.py',\n '/Users/bikram/workspace/PycharmProjects/roadrunner_refactor/test.py',\n '/Users/bikram/workspace/PycharmProjects/roadrunner_refactor/test.py',\n '/Users/bikram/workspace/PycharmProjects/roadrunner_refactor/test.py',\n '/Users/bikram/workspace/PycharmProjects/roadrunner_refactor/test.py',\n '/Users/bikram/workspace/PycharmProjects/roadrunner_refactor/cassie.stats',\n '/Users/bikram/workspace/PycharmProjects/roadrunner_refactor/cassie.stats',\n '/Users/bikram/workspace/PycharmProjects/roadrunner_refactor/cassie.stats',\n '/Users/bikram/workspace/PycharmProjects/roadrunner_refactor/cassie.stats',\n '/Users/bikram/workspace/PycharmProjects/roadrunner_refactor/cassie.stats',\n '/Users/bikram/workspace/PycharmProjects/roadrunner_refactor/cassie.stats',\n '/Users/bikram/workspace/PycharmProjects/roadrunner_refactor/tqdm_test.py',\n '/Users/bikram/workspace/PycharmProjects/roadrunner_refactor/tqdm_test.py',\n '/Users/bikram/workspace/PycharmProjects/roadrunner_refactor/tqdm_test.py',\n '/Users/bikram/workspace/PycharmProjects/roadrunner_refactor/tqdm_test.py',\n '/Users/bikram/workspace/PycharmProjects/roadrunner_refactor/tqdm_test.py',\n '/Users/bikram/workspace/PycharmProjects/roadrunner_refactor/tqdm_test.py',\n '/Users/bikram/workspace/PycharmProjects/roadrunner_refactor/digit_udp.py',\n '/Users/bikram/workspace/PycharmProjects/roadrunner_refactor/digit_udp.py',\n '/Users/bikram/workspace/PycharmProjects/roadrunner_refactor/digit_udp.py',\n '/Users/bikram/workspace/PycharmProjects/roadrunner_refactor/digit_udp.py',\n '/Users/bikram/workspace/PycharmProjects/roadrunner_refactor/digit_udp.py',\n '/Users/bikram/workspace/PycharmProjects/roadrunner_refactor/digit_udp.py',\n '/Users/bikram/workspace/PycharmProjects/roadrunner_refactor/cassie_udp_clock.py',\n '/Users/bikram/workspace/PycharmProjects/roadrunner_refactor/cassie_udp_clock.py',\n '/Users/bikram/workspace/PycharmProjects/roadrunner_refactor/cassie_udp_clock.py',\n '/Users/bikram/workspace/PycharmProjects/roadrunner_refactor/cassie_udp_clock.py',\n '/Users/bikram/workspace/PycharmProjects/roadrunner_refactor/cassie_udp_clock.py',\n '/Users/bikram/workspace/PycharmProjects/roadrunner_refactor/cassie_udp_clock.py',\n '/Users/bikram/workspace/PycharmProjects/roadrunner_refactor/fetch_models.sh',\n '/Users/bikram/workspace/PycharmProjects/roadrunner_refactor/fetch_models.sh',\n '/Users/bikram/workspace/PycharmProjects/roadrunner_refactor/fetch_models.sh',\n '/Users/bikram/workspace/PycharmProjects/roadrunner_refactor/fetch_models.sh',\n '/Users/bikram/workspace/PycharmProjects/roadrunner_refactor/fetch_models.sh',\n '/Users/bikram/workspace/PycharmProjects/roadrunner_refactor/fetch_models.sh',\n '/Users/bikram/workspace/PycharmProjects/roadrunner_refactor/visualize_log.py',\n '/Users/bikram/workspace/PycharmProjects/roadrunner_refactor/visualize_log.py',\n '/Users/bikram/workspace/PycharmProjects/roadrunner_refactor/visualize_log.py',\n '/Users/bikram/workspace/PycharmProjects/roadrunner_refactor/visualize_log.py',\n '/Users/bikram/workspace/PycharmProjects/roadrunner_refactor/visualize_log.py',\n '/Users/bikram/workspace/PycharmProjects/roadrunner_refactor/visualize_log.py',\n '/Users/bikram/workspace/PycharmProjects/roadrunner_refactor/README.md',\n '/Users/bikram/workspace/PycharmProjects/roadrunner_refactor/README.md',\n '/Users/bikram/workspace/PycharmProjects/roadrunner_refactor/README.md',\n '/Users/bikram/workspace/PycharmProjects/roadrunner_refactor/README.md',\n '/Users/bikram/workspace/PycharmProjects/roadrunner_refactor/README.md',\n '/Users/bikram/workspace/PycharmProjects/roadrunner_refactor/README.md',\n ['/Users/bikram/workspace/PycharmProjects/roadrunner_refactor/env/cassie/cassieenv.py',\n  '/Users/bikram/workspace/PycharmProjects/roadrunner_refactor/env/util/quaternion.py',\n  '/Users/bikram/workspace/PycharmProjects/roadrunner_refactor/env/util/periodicclock.py',\n  '/Users/bikram/workspace/PycharmProjects/roadrunner_refactor/env/locomotion_cassiemultirobot/locomotion_cassiemultirobot.py',\n  '/Users/bikram/workspace/PycharmProjects/roadrunner_refactor/env/digit/digitenv.py'],\n [],\n [],\n ['/Users/bikram/workspace/PycharmProjects/roadrunner_refactor/env/locomotion_cassiemultirobot/reward_weight.json'],\n [],\n [],\n '/Users/bikram/workspace/PycharmProjects/roadrunner_refactor/eval_udp_cassiepede_play.sh',\n '/Users/bikram/workspace/PycharmProjects/roadrunner_refactor/eval_udp_cassiepede_play.sh',\n '/Users/bikram/workspace/PycharmProjects/roadrunner_refactor/eval_udp_cassiepede_play.sh',\n '/Users/bikram/workspace/PycharmProjects/roadrunner_refactor/eval_udp_cassiepede_play.sh',\n '/Users/bikram/workspace/PycharmProjects/roadrunner_refactor/eval_udp_cassiepede_play.sh',\n '/Users/bikram/workspace/PycharmProjects/roadrunner_refactor/eval_udp_cassiepede_play.sh',\n '/Users/bikram/workspace/PycharmProjects/roadrunner_refactor/cassiepede_udp.py',\n '/Users/bikram/workspace/PycharmProjects/roadrunner_refactor/cassiepede_udp.py',\n '/Users/bikram/workspace/PycharmProjects/roadrunner_refactor/cassiepede_udp.py',\n '/Users/bikram/workspace/PycharmProjects/roadrunner_refactor/cassiepede_udp.py',\n '/Users/bikram/workspace/PycharmProjects/roadrunner_refactor/cassiepede_udp.py',\n '/Users/bikram/workspace/PycharmProjects/roadrunner_refactor/cassiepede_udp.py',\n '/Users/bikram/workspace/PycharmProjects/roadrunner_refactor/keyboard_remote_controller.sh',\n '/Users/bikram/workspace/PycharmProjects/roadrunner_refactor/keyboard_remote_controller.sh',\n '/Users/bikram/workspace/PycharmProjects/roadrunner_refactor/keyboard_remote_controller.sh',\n '/Users/bikram/workspace/PycharmProjects/roadrunner_refactor/keyboard_remote_controller.sh',\n '/Users/bikram/workspace/PycharmProjects/roadrunner_refactor/keyboard_remote_controller.sh',\n '/Users/bikram/workspace/PycharmProjects/roadrunner_refactor/keyboard_remote_controller.sh',\n '/Users/bikram/workspace/PycharmProjects/roadrunner_refactor/cassie_udp.py',\n '/Users/bikram/workspace/PycharmProjects/roadrunner_refactor/cassie_udp.py',\n '/Users/bikram/workspace/PycharmProjects/roadrunner_refactor/cassie_udp.py',\n '/Users/bikram/workspace/PycharmProjects/roadrunner_refactor/cassie_udp.py',\n '/Users/bikram/workspace/PycharmProjects/roadrunner_refactor/cassie_udp.py',\n '/Users/bikram/workspace/PycharmProjects/roadrunner_refactor/cassie_udp.py',\n [],\n [],\n [],\n [],\n [],\n [],\n '/Users/bikram/workspace/PycharmProjects/roadrunner_refactor/MUJOCO_LOG.TXT',\n '/Users/bikram/workspace/PycharmProjects/roadrunner_refactor/MUJOCO_LOG.TXT',\n '/Users/bikram/workspace/PycharmProjects/roadrunner_refactor/MUJOCO_LOG.TXT',\n '/Users/bikram/workspace/PycharmProjects/roadrunner_refactor/MUJOCO_LOG.TXT',\n '/Users/bikram/workspace/PycharmProjects/roadrunner_refactor/MUJOCO_LOG.TXT',\n '/Users/bikram/workspace/PycharmProjects/roadrunner_refactor/MUJOCO_LOG.TXT',\n '/Users/bikram/workspace/PycharmProjects/roadrunner_refactor/eval_udp_cassiepede_harvard.sh',\n '/Users/bikram/workspace/PycharmProjects/roadrunner_refactor/eval_udp_cassiepede_harvard.sh',\n '/Users/bikram/workspace/PycharmProjects/roadrunner_refactor/eval_udp_cassiepede_harvard.sh',\n '/Users/bikram/workspace/PycharmProjects/roadrunner_refactor/eval_udp_cassiepede_harvard.sh',\n '/Users/bikram/workspace/PycharmProjects/roadrunner_refactor/eval_udp_cassiepede_harvard.sh',\n '/Users/bikram/workspace/PycharmProjects/roadrunner_refactor/eval_udp_cassiepede_harvard.sh',\n '/Users/bikram/workspace/PycharmProjects/roadrunner_refactor/.gitignore',\n '/Users/bikram/workspace/PycharmProjects/roadrunner_refactor/.gitignore',\n '/Users/bikram/workspace/PycharmProjects/roadrunner_refactor/.gitignore',\n '/Users/bikram/workspace/PycharmProjects/roadrunner_refactor/.gitignore',\n '/Users/bikram/workspace/PycharmProjects/roadrunner_refactor/.gitignore',\n '/Users/bikram/workspace/PycharmProjects/roadrunner_refactor/.gitignore',\n '/Users/bikram/workspace/PycharmProjects/roadrunner_refactor/cassiepedeHL_udp.py',\n '/Users/bikram/workspace/PycharmProjects/roadrunner_refactor/cassiepedeHL_udp.py',\n '/Users/bikram/workspace/PycharmProjects/roadrunner_refactor/cassiepedeHL_udp.py',\n '/Users/bikram/workspace/PycharmProjects/roadrunner_refactor/cassiepedeHL_udp.py',\n '/Users/bikram/workspace/PycharmProjects/roadrunner_refactor/cassiepedeHL_udp.py',\n '/Users/bikram/workspace/PycharmProjects/roadrunner_refactor/cassiepedeHL_udp.py',\n '/Users/bikram/workspace/PycharmProjects/roadrunner_refactor/process_log.py',\n '/Users/bikram/workspace/PycharmProjects/roadrunner_refactor/process_log.py',\n '/Users/bikram/workspace/PycharmProjects/roadrunner_refactor/process_log.py',\n '/Users/bikram/workspace/PycharmProjects/roadrunner_refactor/process_log.py',\n '/Users/bikram/workspace/PycharmProjects/roadrunner_refactor/process_log.py',\n '/Users/bikram/workspace/PycharmProjects/roadrunner_refactor/process_log.py',\n '/Users/bikram/workspace/PycharmProjects/roadrunner_refactor/mujoco_site_bug.py',\n '/Users/bikram/workspace/PycharmProjects/roadrunner_refactor/mujoco_site_bug.py',\n '/Users/bikram/workspace/PycharmProjects/roadrunner_refactor/mujoco_site_bug.py',\n '/Users/bikram/workspace/PycharmProjects/roadrunner_refactor/mujoco_site_bug.py',\n '/Users/bikram/workspace/PycharmProjects/roadrunner_refactor/mujoco_site_bug.py',\n '/Users/bikram/workspace/PycharmProjects/roadrunner_refactor/mujoco_site_bug.py',\n '/Users/bikram/workspace/PycharmProjects/roadrunner_refactor/run_distill.py',\n '/Users/bikram/workspace/PycharmProjects/roadrunner_refactor/run_distill.py',\n '/Users/bikram/workspace/PycharmProjects/roadrunner_refactor/run_distill.py',\n '/Users/bikram/workspace/PycharmProjects/roadrunner_refactor/run_distill.py',\n '/Users/bikram/workspace/PycharmProjects/roadrunner_refactor/run_distill.py',\n '/Users/bikram/workspace/PycharmProjects/roadrunner_refactor/run_distill.py',\n '/Users/bikram/workspace/PycharmProjects/roadrunner_refactor/joystick_remote_controller_test.sh',\n '/Users/bikram/workspace/PycharmProjects/roadrunner_refactor/joystick_remote_controller_test.sh',\n '/Users/bikram/workspace/PycharmProjects/roadrunner_refactor/joystick_remote_controller_test.sh',\n '/Users/bikram/workspace/PycharmProjects/roadrunner_refactor/joystick_remote_controller_test.sh',\n '/Users/bikram/workspace/PycharmProjects/roadrunner_refactor/joystick_remote_controller_test.sh',\n '/Users/bikram/workspace/PycharmProjects/roadrunner_refactor/joystick_remote_controller_test.sh',\n '/Users/bikram/workspace/PycharmProjects/roadrunner_refactor/train.py',\n '/Users/bikram/workspace/PycharmProjects/roadrunner_refactor/train.py',\n '/Users/bikram/workspace/PycharmProjects/roadrunner_refactor/train.py',\n '/Users/bikram/workspace/PycharmProjects/roadrunner_refactor/train.py',\n '/Users/bikram/workspace/PycharmProjects/roadrunner_refactor/train.py',\n '/Users/bikram/workspace/PycharmProjects/roadrunner_refactor/train.py',\n '/Users/bikram/workspace/PycharmProjects/roadrunner_refactor/cassie_udp_original.py',\n '/Users/bikram/workspace/PycharmProjects/roadrunner_refactor/cassie_udp_original.py',\n '/Users/bikram/workspace/PycharmProjects/roadrunner_refactor/cassie_udp_original.py',\n '/Users/bikram/workspace/PycharmProjects/roadrunner_refactor/cassie_udp_original.py',\n '/Users/bikram/workspace/PycharmProjects/roadrunner_refactor/cassie_udp_original.py',\n '/Users/bikram/workspace/PycharmProjects/roadrunner_refactor/cassie_udp_original.py',\n '/Users/bikram/workspace/PycharmProjects/roadrunner_refactor/mujoco_debugging.py',\n '/Users/bikram/workspace/PycharmProjects/roadrunner_refactor/mujoco_debugging.py',\n '/Users/bikram/workspace/PycharmProjects/roadrunner_refactor/mujoco_debugging.py',\n '/Users/bikram/workspace/PycharmProjects/roadrunner_refactor/mujoco_debugging.py',\n '/Users/bikram/workspace/PycharmProjects/roadrunner_refactor/mujoco_debugging.py',\n '/Users/bikram/workspace/PycharmProjects/roadrunner_refactor/mujoco_debugging.py',\n '/Users/bikram/workspace/PycharmProjects/roadrunner_refactor/evaluation_2024-03-14 22:27:30.801775.csv',\n '/Users/bikram/workspace/PycharmProjects/roadrunner_refactor/evaluation_2024-03-14 22:27:30.801775.csv',\n '/Users/bikram/workspace/PycharmProjects/roadrunner_refactor/evaluation_2024-03-14 22:27:30.801775.csv',\n '/Users/bikram/workspace/PycharmProjects/roadrunner_refactor/evaluation_2024-03-14 22:27:30.801775.csv',\n '/Users/bikram/workspace/PycharmProjects/roadrunner_refactor/evaluation_2024-03-14 22:27:30.801775.csv',\n '/Users/bikram/workspace/PycharmProjects/roadrunner_refactor/evaluation_2024-03-14 22:27:30.801775.csv',\n '/Users/bikram/workspace/PycharmProjects/roadrunner_refactor/profile_test.py.lprof',\n '/Users/bikram/workspace/PycharmProjects/roadrunner_refactor/profile_test.py.lprof',\n '/Users/bikram/workspace/PycharmProjects/roadrunner_refactor/profile_test.py.lprof',\n '/Users/bikram/workspace/PycharmProjects/roadrunner_refactor/profile_test.py.lprof',\n '/Users/bikram/workspace/PycharmProjects/roadrunner_refactor/profile_test.py.lprof',\n '/Users/bikram/workspace/PycharmProjects/roadrunner_refactor/profile_test.py.lprof',\n '/Users/bikram/workspace/PycharmProjects/roadrunner_refactor/digit.stats',\n '/Users/bikram/workspace/PycharmProjects/roadrunner_refactor/digit.stats',\n '/Users/bikram/workspace/PycharmProjects/roadrunner_refactor/digit.stats',\n '/Users/bikram/workspace/PycharmProjects/roadrunner_refactor/digit.stats',\n '/Users/bikram/workspace/PycharmProjects/roadrunner_refactor/digit.stats',\n '/Users/bikram/workspace/PycharmProjects/roadrunner_refactor/digit.stats',\n '/Users/bikram/workspace/PycharmProjects/roadrunner_refactor/eval_udp_cassiepede_play_skand.sh',\n '/Users/bikram/workspace/PycharmProjects/roadrunner_refactor/eval_udp_cassiepede_play_skand.sh',\n '/Users/bikram/workspace/PycharmProjects/roadrunner_refactor/eval_udp_cassiepede_play_skand.sh',\n '/Users/bikram/workspace/PycharmProjects/roadrunner_refactor/eval_udp_cassiepede_play_skand.sh',\n '/Users/bikram/workspace/PycharmProjects/roadrunner_refactor/eval_udp_cassiepede_play_skand.sh',\n '/Users/bikram/workspace/PycharmProjects/roadrunner_refactor/eval_udp_cassiepede_play_skand.sh',\n '/Users/bikram/workspace/PycharmProjects/roadrunner_refactor/run_ppo_depth.py',\n '/Users/bikram/workspace/PycharmProjects/roadrunner_refactor/run_ppo_depth.py',\n '/Users/bikram/workspace/PycharmProjects/roadrunner_refactor/run_ppo_depth.py',\n '/Users/bikram/workspace/PycharmProjects/roadrunner_refactor/run_ppo_depth.py',\n '/Users/bikram/workspace/PycharmProjects/roadrunner_refactor/run_ppo_depth.py',\n '/Users/bikram/workspace/PycharmProjects/roadrunner_refactor/run_ppo_depth.py',\n '/Users/bikram/workspace/PycharmProjects/roadrunner_refactor/environment.yaml',\n '/Users/bikram/workspace/PycharmProjects/roadrunner_refactor/environment.yaml',\n '/Users/bikram/workspace/PycharmProjects/roadrunner_refactor/environment.yaml',\n '/Users/bikram/workspace/PycharmProjects/roadrunner_refactor/environment.yaml',\n '/Users/bikram/workspace/PycharmProjects/roadrunner_refactor/environment.yaml',\n '/Users/bikram/workspace/PycharmProjects/roadrunner_refactor/environment.yaml',\n '/Users/bikram/workspace/PycharmProjects/roadrunner_refactor/eval.py',\n '/Users/bikram/workspace/PycharmProjects/roadrunner_refactor/eval.py',\n '/Users/bikram/workspace/PycharmProjects/roadrunner_refactor/eval.py',\n '/Users/bikram/workspace/PycharmProjects/roadrunner_refactor/eval.py',\n '/Users/bikram/workspace/PycharmProjects/roadrunner_refactor/eval.py',\n '/Users/bikram/workspace/PycharmProjects/roadrunner_refactor/eval.py',\n [],\n [],\n [],\n [],\n [],\n [],\n '/Users/bikram/workspace/PycharmProjects/roadrunner_refactor/convert_policy.py',\n '/Users/bikram/workspace/PycharmProjects/roadrunner_refactor/convert_policy.py',\n '/Users/bikram/workspace/PycharmProjects/roadrunner_refactor/convert_policy.py',\n '/Users/bikram/workspace/PycharmProjects/roadrunner_refactor/convert_policy.py',\n '/Users/bikram/workspace/PycharmProjects/roadrunner_refactor/convert_policy.py',\n '/Users/bikram/workspace/PycharmProjects/roadrunner_refactor/convert_policy.py',\n '/Users/bikram/workspace/PycharmProjects/roadrunner_refactor/rope.xml',\n '/Users/bikram/workspace/PycharmProjects/roadrunner_refactor/rope.xml',\n '/Users/bikram/workspace/PycharmProjects/roadrunner_refactor/rope.xml',\n '/Users/bikram/workspace/PycharmProjects/roadrunner_refactor/rope.xml',\n '/Users/bikram/workspace/PycharmProjects/roadrunner_refactor/rope.xml',\n '/Users/bikram/workspace/PycharmProjects/roadrunner_refactor/rope.xml',\n '/Users/bikram/workspace/PycharmProjects/roadrunner_refactor/hfield_dumper.sh',\n '/Users/bikram/workspace/PycharmProjects/roadrunner_refactor/hfield_dumper.sh',\n '/Users/bikram/workspace/PycharmProjects/roadrunner_refactor/hfield_dumper.sh',\n '/Users/bikram/workspace/PycharmProjects/roadrunner_refactor/hfield_dumper.sh',\n '/Users/bikram/workspace/PycharmProjects/roadrunner_refactor/hfield_dumper.sh',\n '/Users/bikram/workspace/PycharmProjects/roadrunner_refactor/hfield_dumper.sh',\n ['/Users/bikram/workspace/PycharmProjects/roadrunner_refactor/sim/util/geom.py',\n  '/Users/bikram/workspace/PycharmProjects/roadrunner_refactor/sim/util/hfield.py',\n  '/Users/bikram/workspace/PycharmProjects/roadrunner_refactor/sim/cassie_sim/mj_cassiesim.py',\n  '/Users/bikram/workspace/PycharmProjects/roadrunner_refactor/sim/cassie_sim/__init__.py',\n  '/Users/bikram/workspace/PycharmProjects/roadrunner_refactor/sim/cassie_sim/lib_cassiesim.py',\n  '/Users/bikram/workspace/PycharmProjects/roadrunner_refactor/sim/digit_sim/ar_digitsim.py',\n  '/Users/bikram/workspace/PycharmProjects/roadrunner_refactor/sim/digit_sim/__init__.py',\n  '/Users/bikram/workspace/PycharmProjects/roadrunner_refactor/sim/digit_sim/mj_digitsim.py'],\n [],\n [],\n [],\n ['/Users/bikram/workspace/PycharmProjects/roadrunner_refactor/sim/digit_sim/digit-v3-upper.xml',\n  '/Users/bikram/workspace/PycharmProjects/roadrunner_refactor/sim/digit_sim/digit-v3.xml',\n  '/Users/bikram/workspace/PycharmProjects/roadrunner_refactor/sim/digit_sim/digit-v3-new.xml',\n  '/Users/bikram/workspace/PycharmProjects/roadrunner_refactor/sim/digit_sim/digit-v3-hfield.xml'],\n [],\n '/Users/bikram/workspace/PycharmProjects/roadrunner_refactor/eval_cassiepede.sh',\n '/Users/bikram/workspace/PycharmProjects/roadrunner_refactor/eval_cassiepede.sh',\n '/Users/bikram/workspace/PycharmProjects/roadrunner_refactor/eval_cassiepede.sh',\n '/Users/bikram/workspace/PycharmProjects/roadrunner_refactor/eval_cassiepede.sh',\n '/Users/bikram/workspace/PycharmProjects/roadrunner_refactor/eval_cassiepede.sh',\n '/Users/bikram/workspace/PycharmProjects/roadrunner_refactor/eval_cassiepede.sh',\n '/Users/bikram/workspace/PycharmProjects/roadrunner_refactor/run_vlab.sh',\n '/Users/bikram/workspace/PycharmProjects/roadrunner_refactor/run_vlab.sh',\n '/Users/bikram/workspace/PycharmProjects/roadrunner_refactor/run_vlab.sh',\n '/Users/bikram/workspace/PycharmProjects/roadrunner_refactor/run_vlab.sh',\n '/Users/bikram/workspace/PycharmProjects/roadrunner_refactor/run_vlab.sh',\n '/Users/bikram/workspace/PycharmProjects/roadrunner_refactor/run_vlab.sh',\n '/Users/bikram/workspace/PycharmProjects/roadrunner_refactor/eval_udp_cassiepede_osu_skand.sh',\n '/Users/bikram/workspace/PycharmProjects/roadrunner_refactor/eval_udp_cassiepede_osu_skand.sh',\n '/Users/bikram/workspace/PycharmProjects/roadrunner_refactor/eval_udp_cassiepede_osu_skand.sh',\n '/Users/bikram/workspace/PycharmProjects/roadrunner_refactor/eval_udp_cassiepede_osu_skand.sh',\n '/Users/bikram/workspace/PycharmProjects/roadrunner_refactor/eval_udp_cassiepede_osu_skand.sh',\n '/Users/bikram/workspace/PycharmProjects/roadrunner_refactor/eval_udp_cassiepede_osu_skand.sh',\n '/Users/bikram/workspace/PycharmProjects/roadrunner_refactor/server_upload.sh',\n '/Users/bikram/workspace/PycharmProjects/roadrunner_refactor/server_upload.sh',\n '/Users/bikram/workspace/PycharmProjects/roadrunner_refactor/server_upload.sh',\n '/Users/bikram/workspace/PycharmProjects/roadrunner_refactor/server_upload.sh',\n '/Users/bikram/workspace/PycharmProjects/roadrunner_refactor/server_upload.sh',\n '/Users/bikram/workspace/PycharmProjects/roadrunner_refactor/server_upload.sh',\n '/Users/bikram/workspace/PycharmProjects/roadrunner_refactor/sim2real_plotter_harvard.sh',\n '/Users/bikram/workspace/PycharmProjects/roadrunner_refactor/sim2real_plotter_harvard.sh',\n '/Users/bikram/workspace/PycharmProjects/roadrunner_refactor/sim2real_plotter_harvard.sh',\n '/Users/bikram/workspace/PycharmProjects/roadrunner_refactor/sim2real_plotter_harvard.sh',\n '/Users/bikram/workspace/PycharmProjects/roadrunner_refactor/sim2real_plotter_harvard.sh',\n '/Users/bikram/workspace/PycharmProjects/roadrunner_refactor/sim2real_plotter_harvard.sh']"
     },
     "execution_count": 44,
     "metadata": {},
     "output_type": "execute_result"
    }
   ],
   "source": [
    "[glob.glob(os.path.join(cwd, d, '*', ext), recursive=True) if os.path.isdir(os.path.join(cwd, d)) else os.path.join(cwd,\n",
    "                                                                                                                    d)\n",
    " for\n",
    " d in dirs for ext in ['*.py', '*.yaml', '*.yml', '*.json', '*.xml', '*.sh']]"
   ],
   "metadata": {
    "collapsed": false,
    "ExecuteTime": {
     "end_time": "2024-05-26T19:28:36.657471Z",
     "start_time": "2024-05-26T19:28:36.646347Z"
    }
   },
   "id": "f3343694db64922a",
   "execution_count": 44
  },
  {
   "cell_type": "code",
   "outputs": [
    {
     "data": {
      "text/plain": "['eval_udp_cassiepede.sh',\n 'setup.sh',\n 'pendulum.xml',\n 'ffcv_dumper.sh',\n 'server_download.sh',\n 'transfer.sh',\n 'work.sh',\n 'joystick_remote_controller.sh',\n 'ppo_seeds.sh',\n 'terminal_size.py',\n '.DS_Store',\n 'benchmark_cassiepede.sh',\n 'nn',\n 'profile_test.py',\n 'util',\n 'udp',\n 'build_index_offline_data.py',\n 'a.py',\n 'train_cassiepede.sh',\n 'convert.py',\n 'process_offline_data.py',\n 'training_logs',\n 'algo',\n 'run_ppo.py',\n 'launch_async_eval.sh',\n 'eval_udp_cassiepede_osu.sh',\n 'plot_log.py',\n 'start_ngrok.sh',\n 'test.py',\n 'cassie.stats',\n 'tqdm_test.py',\n 'digit_udp.py',\n 'cassie_udp_clock.py',\n 'fetch_models.sh',\n 'visualize_log.py',\n 'README.md',\n 'env',\n 'eval_udp_cassiepede_play.sh',\n 'cassiepede_udp.py',\n 'keyboard_remote_controller.sh',\n 'cassie_udp.py',\n 'testing',\n 'MUJOCO_LOG.TXT',\n 'eval_udp_cassiepede_harvard.sh',\n '.gitignore',\n 'cassiepedeHL_udp.py',\n 'process_log.py',\n 'mujoco_site_bug.py',\n 'run_distill.py',\n 'joystick_remote_controller_test.sh',\n 'train.py',\n 'cassie_udp_original.py',\n 'mujoco_debugging.py',\n 'evaluation_2024-03-14 22:27:30.801775.csv',\n 'profile_test.py.lprof',\n 'digit.stats',\n 'eval_udp_cassiepede_play_skand.sh',\n 'run_ppo_depth.py',\n 'environment.yaml',\n 'eval.py',\n 'perception',\n 'convert_policy.py',\n 'rope.xml',\n 'hfield_dumper.sh',\n 'sim',\n 'eval_cassiepede.sh',\n 'run_vlab.sh',\n 'notebooks',\n 'eval_udp_cassiepede_osu_skand.sh',\n 'server_upload.sh',\n 'sim2real_plotter_harvard.sh']"
     },
     "execution_count": 28,
     "metadata": {},
     "output_type": "execute_result"
    }
   ],
   "source": [
    "dirs"
   ],
   "metadata": {
    "collapsed": false,
    "ExecuteTime": {
     "end_time": "2024-05-26T19:17:37.362097Z",
     "start_time": "2024-05-26T19:17:37.358126Z"
    }
   },
   "id": "85e6441eb9dfb96e",
   "execution_count": 28
  },
  {
   "cell_type": "code",
   "outputs": [],
   "source": [
    "files = []\n",
    "for d in dirs:\n",
    "\n",
    "    base_paths = [os.path.join(cwd, d, '**', ext) for ext in ['*.py', '*.yaml', '*.yml', '*.json', '*.xml', '*.sh']]\n",
    "    # print(base_paths)\n",
    "    for base_path in base_paths:\n",
    "        for file in glob.glob(base_path, recursive=True):\n",
    "            file_path = os.path.relpath(file, start=cwd)\n",
    "            files.append(file_path)\n"
   ],
   "metadata": {
    "collapsed": false,
    "ExecuteTime": {
     "end_time": "2024-05-26T19:17:09.900661Z",
     "start_time": "2024-05-26T19:17:09.814721Z"
    }
   },
   "id": "4f12e439f95a5fbd",
   "execution_count": 26
  },
  {
   "cell_type": "code",
   "outputs": [
    {
     "data": {
      "text/plain": "['nn/residual.py',\n 'nn/__init__.py',\n 'nn/encoder.py',\n 'nn/resnet.py',\n 'nn/actor.py',\n 'nn/critic.py',\n 'nn/base.py',\n 'util/mirror.py',\n 'util/offline_collection.py',\n 'util/digit_topic.py',\n 'util/check_number.py',\n 'util/nn_factory.py',\n 'util/camera_util.py',\n 'util/quaternion.py',\n 'util/env_factory.py',\n 'util/evaluation_factory.py',\n 'util/topic.py',\n 'util/estimator.py',\n 'util/colors.py',\n 'util/keyboard.py',\n 'udp/udp_cassie_real.py',\n 'udp/udp_cassie_async.py',\n 'udp/udp_digit_ar_control.py',\n 'udp/udp_digit_real.py',\n 'algo/build_index_offline_data.py',\n 'algo/ppo.py',\n 'algo/transfer_offline_data.py',\n 'algo/teacherstudent.py',\n 'algo/old_files/training_denoiser_online.py',\n 'algo/old_files/network_old_denoiser.py',\n 'algo/old_files/training_v1_old.py',\n 'algo/old_files/hfield_sender.py',\n 'algo/old_files/evaluation_dataloader_1.py',\n 'algo/old_files/training_dataloader.py',\n 'algo/old_files/realsense_camera.py',\n 'algo/old_files/main_v3.py',\n 'algo/old_files/evaluation_v3.py',\n 'algo/old_files/evaluation.py',\n 'algo/old_files/data_loader.py',\n 'algo/old_files/training_dataloader_1.py',\n 'algo/old_files/evaluation_v1.py',\n 'algo/old_files/training_hfield_denoiser_old.py',\n 'algo/old_files/dataset.py',\n 'algo/old_files/ffcv_dumper.py',\n 'algo/old_files/training_offline_gan.py',\n 'algo/old_files/rotary_embedding.py',\n 'algo/old_files/evaluation_dataloader.py',\n 'algo/old_files/dataset_1.py',\n 'algo/old_files/training_v1_1.py',\n 'algo/old_files/training_v1.py',\n 'algo/old_files/training_test.py',\n 'algo/old_files/main_ff.py',\n 'algo/old_files/main.py',\n 'algo/old_files/network_old_hfield_predictor.py',\n 'algo/old_files/training_running_buffer_hfield_predictor.py',\n 'algo/old_files/main_v1.py',\n 'algo/old_files/training.py',\n 'algo/util/worker.py',\n 'algo/util/log.py',\n 'algo/util/sampling.py',\n 'algo/util/normalization.py',\n 'algo/util/teacherstudent.py',\n 'algo/common/math_utils.py',\n 'algo/common/ppo_algo.py',\n 'algo/common/utils.py',\n 'algo/common/network.py',\n 'algo/common/tarsus_patch_wrapper.py',\n 'algo/common/replaybuffer.py',\n 'algo/common/normalization.py',\n 'algo/cassiepede/keyboard_remote_controller.py',\n 'algo/cassiepede/evaluation.py',\n 'algo/cassiepede/sim2real_plotter.py',\n 'algo/cassiepede/joystick_remote_controller.py',\n 'algo/cassiepede/joystick_test.py',\n 'algo/cassiepede/training.py',\n 'algo/cassiepede/benchmark/collect_data.py',\n 'algo/cassiepede/benchmark/configs/varying_cassie_position.yaml',\n 'algo/cassiepede/benchmark/configs/varying_cassie_count.yaml',\n 'algo/cassiepede/benchmark/configs/centralized2_trained_3.yaml',\n 'algo/cassiepede/benchmark/configs/varying_object_shape.yaml',\n 'algo/cassiepede/benchmark/configs/centralized_hierarchical_trained_3.yaml',\n 'algo/cassiepede/benchmark/configs/specialized_hierarchical_trained_3.yaml',\n 'algo/cassiepede/benchmark/configs/varying_object_weight.yaml',\n 'algo/cassiepede/benchmark/configs/centralized3_trained_3.yaml',\n 'algo/cassiepede/benchmark/configs/specialized_trained_3.yaml',\n 'algo/cassiepede/benchmark/configs/centralized3_trained_3_1000traj.yaml',\n 'env/__init__.py',\n 'env/genericenv.py',\n 'env/cassie/cassieenv.py',\n 'env/cassie/cassiehfield/cassiehfield.py',\n 'env/cassie/cassieenvclock/cassieenvclock.py',\n 'env/cassie/cassiepedeHL/cassiepedeHL.py',\n 'env/cassie/cassiepede/cassiepede.py',\n 'env/cassie/cassiepede/map_utils.py',\n 'env/cassie/cassiestone/cassiestone.py',\n 'env/util/quaternion.py',\n 'env/util/periodicclock.py',\n 'env/rewards/no_clock_reward/no_clock_reward.py',\n 'env/rewards/locomotion_cassiepede_feetairtime/locomotion_cassiepede_feetairtime.py',\n 'env/rewards/locomotion_linear_clock_reward/locomotion_linear_clock_reward.py',\n 'env/rewards/depth/depth.py',\n 'env/rewards/locomotion_cassiepede_feetairtime_modified/locomotion_cassiepede_feetairtime_modified.py',\n 'env/rewards/feet_air_time/feet_air_time.py',\n 'env/rewards/locomotion_cassiepede/locomotion_cassiepede.py',\n 'env/rewards/locomotion_cassiemultirobot/locomotion_cassiemultirobot.py',\n 'env/rewards/locomotion_vonmises_clock_reward/locomotion_vonmises_clock_reward.py',\n 'env/rewards/stepping_stone/stepping_stone.py',\n 'env/rewards/locomotion_vonmises_no_clock_reward/locomotion_vonmises_no_clock_reward.py',\n 'env/rewards/stand_reward/stand_reward.py',\n 'env/rewards/locomotion_cassiepedeHL/locomotion_cassiepedeHL.py',\n 'env/rewards/locomotion_cassiepede_clock_stand/locomotion_cassiepede_clock_stand.py',\n 'env/locomotion_cassiemultirobot/locomotion_cassiemultirobot.py',\n 'env/digit/digitenv.py',\n 'env/digit/digitenvclock/digitenvclock.py',\n 'env/digit/digithfield/digithfield.py',\n 'env/digit/digitnavenv/digitnavenv.py',\n 'env/cassie/cassiehfield/dynamics_randomization.json',\n 'env/cassie/cassiehfield/curriculum.json',\n 'env/cassie/cassieenvclock/dynamics_randomization.json',\n 'env/cassie/cassieenvclock/curriculum.json',\n 'env/cassie/cassiepedeHL/dynamics_randomization.json',\n 'env/cassie/cassiepede/dynamics_randomization.json',\n 'env/cassie/cassiepede/curriculum.json',\n 'env/cassie/cassiestone/dynamics_randomization.json',\n 'env/rewards/no_clock_reward/reward_weight.json',\n 'env/rewards/locomotion_cassiepede_feetairtime/reward_weight.json',\n 'env/rewards/locomotion_linear_clock_reward/reward_weight.json',\n 'env/rewards/depth/reward_weight.json',\n 'env/rewards/locomotion_cassiepede_feetairtime_modified/reward_weight.json',\n 'env/rewards/feet_air_time/reward_weight.json',\n 'env/rewards/locomotion_cassiepede/reward_weight.json',\n 'env/rewards/locomotion_cassiemultirobot/reward_weight.json',\n 'env/rewards/locomotion_vonmises_clock_reward/reward_weight.json',\n 'env/rewards/stepping_stone/reward_weight.json',\n 'env/rewards/locomotion_vonmises_no_clock_reward/reward_weight.json',\n 'env/rewards/stand_reward/reward_weight.json',\n 'env/rewards/locomotion_cassiepedeHL/reward_weight.json',\n 'env/rewards/locomotion_cassiepede_clock_stand/reward_weight.json',\n 'env/locomotion_cassiemultirobot/reward_weight.json',\n 'env/digit/digitenvclock/dynamics_randomization.json',\n 'env/digit/digitenvclock/curriculum.json',\n 'env/digit/digithfield/dynamics_randomization.json',\n 'env/digit/digithfield/curriculum.json',\n 'env/digit/digitnavenv/dynamics_randomization.json',\n 'env/digit/digitnavenv/curriculum.json',\n 'testing/test_sim.py',\n 'testing/__init__.py',\n 'testing/test_nn.py',\n 'testing/test_env.py',\n 'testing/common.py',\n 'testing/tracker_test.py',\n 'testing/test_mirror.py',\n 'testing/test_ar_sim.py',\n 'testing/test_duality_integration.py',\n 'testing/test_ar_async.py',\n 'testing/test_offscreen_render.py',\n 'testing/test_clock.py',\n 'testing/test_algo.py',\n 'testing/sampling_speed.py',\n 'perception/digit_camera.py',\n 'perception/realsense_data.py',\n 'perception/digit_camera_example.py',\n 'sim/mujoco_sim.py',\n 'sim/generic_sim.py',\n 'sim/__init__.py',\n 'sim/mujoco_render.py',\n 'sim/mujoco_viewer.py',\n 'sim/util/geom.py',\n 'sim/util/hfield.py',\n 'sim/cassie_sim/mj_cassiesim.py',\n 'sim/cassie_sim/__init__.py',\n 'sim/cassie_sim/lib_cassiesim.py',\n 'sim/cassie_sim/cassiemujoco/cassiemujoco_ctypes.py',\n 'sim/cassie_sim/cassiemujoco/cassiemujoco.py',\n 'sim/cassie_sim/cassiemujoco/__init__.py',\n 'sim/cassie_sim/cassiemujoco/cassieUDP.py',\n 'sim/digit_sim/ar_digitsim.py',\n 'sim/digit_sim/__init__.py',\n 'sim/digit_sim/mj_digitsim.py',\n 'sim/digit_sim/digit_ar_sim/__init__.py',\n 'sim/digit_sim/digit_ar_sim/digit_udp.py',\n 'sim/digit_sim/digit_ar_sim/interface_ctypes.py',\n 'sim/cassie_sim/cassiemujoco/cassiepede_shape_d3.xml',\n 'sim/cassie_sim/cassiemujoco/cassiepede_couch_load4.xml',\n 'sim/cassie_sim/cassiemujoco/cassiepede_couch_flat_weight4.xml',\n 'sim/cassie_sim/cassiemujoco/cassiepede_couch_flat_weight5.xml',\n 'sim/cassie_sim/cassiemujoco/cassiepede_weight_b3.xml',\n 'sim/cassie_sim/cassiemujoco/cassiepede_weight_c3.xml',\n 'sim/cassie_sim/cassiemujoco/cassiepede_centralized2.xml',\n 'sim/cassie_sim/cassiemujoco/cassiepede_couch_load2.xml',\n 'sim/cassie_sim/cassiemujoco/cassiepede_couch_flat_weight3.xml',\n 'sim/cassie_sim/cassiemujoco/cassiepede_couch_load3.xml',\n 'sim/cassie_sim/cassiemujoco/cassiepede_t_shape_a4.xml',\n 'sim/cassie_sim/cassiemujoco/cassie_hfield.xml',\n 'sim/cassie_sim/cassiemujoco/cassiepede_shape_b3.xml',\n 'sim/cassie_sim/cassiemujoco/cassieduofree.xml',\n 'sim/cassie_sim/cassiemujoco/cassiepede_weight_d3.xml',\n 'sim/cassie_sim/cassiemujoco/cassiepede_shape_c3.xml',\n 'sim/cassie_sim/cassiemujoco/cassiepede_bar1.xml',\n 'sim/cassie_sim/cassiemujoco/cassiepede_equilateral3.xml',\n 'sim/cassie_sim/cassiemujoco/cassiepede_bar2.xml',\n 'sim/cassie_sim/cassiemujoco/cassiepede_t_shape_d4.xml',\n 'sim/cassie_sim/cassiemujoco/cassiepede_real_exp3.xml',\n 'sim/cassie_sim/cassiemujoco/cassiepede_shape_a3.xml',\n 'sim/cassie_sim/cassiemujoco/cassiepede3.xml',\n 'sim/cassie_sim/cassiemujoco/cassiepede_rectangle4.xml',\n 'sim/cassie_sim/cassiemujoco/cassiepede_pivot1.xml',\n 'sim/cassie_sim/cassiemujoco/cassiepede_t_shape_b4.xml',\n 'sim/cassie_sim/cassiemujoco/cassiepede_rectangle5.xml',\n 'sim/cassie_sim/cassiemujoco/cassiepede2.xml',\n 'sim/cassie_sim/cassiemujoco/cassiepede_couch2.xml',\n 'sim/cassie_sim/cassiemujoco/cassiepede_couch3.xml',\n 'sim/cassie_sim/cassiemujoco/cassiepede1.xml',\n 'sim/cassie_sim/cassiemujoco/cassiepede5.xml',\n 'sim/cassie_sim/cassiemujoco/cassiepede_square4.xml',\n 'sim/cassie_sim/cassiemujoco/cassiepede_rectangle2.xml',\n 'sim/cassie_sim/cassiemujoco/cassiepede_rectangle3.xml',\n 'sim/cassie_sim/cassiemujoco/cassiepede_weight_a3.xml',\n 'sim/cassie_sim/cassiemujoco/cassiepede4.xml',\n 'sim/cassie_sim/cassiemujoco/cassiepede6.xml',\n 'sim/cassie_sim/cassiemujoco/cassie_obstacle.xml',\n 'sim/cassie_sim/cassiemujoco/cassiepede_t_shape_c4.xml',\n 'sim/cassie_sim/cassiemujoco/cassie.xml',\n 'sim/cassie_sim/cassiemujoco/cassiepede_rectangle1.xml',\n 'sim/cassie_sim/cassiemujoco/cassiepede_couch4.xml',\n 'sim/digit_sim/digit-v3-upper.xml',\n 'sim/digit_sim/digit-v3.xml',\n 'sim/digit_sim/digit-v3-new.xml',\n 'sim/digit_sim/digit-v3-hfield.xml',\n 'sim/digit_sim/digit_ar_sim/llapi/compile.sh',\n 'notebooks/experiment_data_copy.sh']"
     },
     "execution_count": 27,
     "metadata": {},
     "output_type": "execute_result"
    }
   ],
   "source": [
    "files"
   ],
   "metadata": {
    "collapsed": false,
    "ExecuteTime": {
     "end_time": "2024-05-26T19:17:10.494591Z",
     "start_time": "2024-05-26T19:17:10.490135Z"
    }
   },
   "id": "fc3814a151b801f1",
   "execution_count": 27
  },
  {
   "cell_type": "code",
   "outputs": [],
   "source": [],
   "metadata": {
    "collapsed": false,
    "ExecuteTime": {
     "end_time": "2024-05-26T19:32:11.502126Z",
     "start_time": "2024-05-26T19:32:11.500539Z"
    }
   },
   "id": "c87f3f806c10bde3",
   "execution_count": 44
  },
  {
   "cell_type": "code",
   "outputs": [],
   "source": [],
   "metadata": {
    "collapsed": false,
    "ExecuteTime": {
     "end_time": "2024-05-26T19:32:11.672193Z",
     "start_time": "2024-05-26T19:32:11.670620Z"
    }
   },
   "id": "1e761d29e2c70391",
   "execution_count": 44
  },
  {
   "cell_type": "code",
   "outputs": [],
   "source": [],
   "metadata": {
    "collapsed": false,
    "ExecuteTime": {
     "end_time": "2024-05-26T19:32:11.849526Z",
     "start_time": "2024-05-26T19:32:11.847973Z"
    }
   },
   "id": "99c75a687fd83a47",
   "execution_count": 44
  },
  {
   "cell_type": "code",
   "outputs": [],
   "source": [
    "# Save files to wandb\n",
    "cwd = os.getcwd()\n",
    "\n",
    "exclude = {'checkpoints', 'saved_models', 'wandb', '.idea', '.git', 'pretrained_models', 'trained_models',\n",
    "           'offline_data', 'old_files'}\n",
    "\n",
    "dirs = [d for d in os.listdir(cwd) if d not in exclude and os.path.isdir(os.path.join(cwd, d))]\n",
    "\n",
    "files = []\n",
    "# Process files in subdirectories recursively\n",
    "for d in dirs:\n",
    "\n",
    "    base_paths = [os.path.join(cwd, d, '**', ext) for ext in ['*.py', '*.yaml', '*.yml', '*.json', '*.xml', '*.sh']]\n",
    "\n",
    "    for base_path in base_paths:\n",
    "        for file in glob.glob(base_path, recursive=True):\n",
    "            file_path = os.path.relpath(file, start=cwd)\n",
    "            files.append((file_path, os.path.getsize(file_path) / 1024.0))\n",
    "\n",
    "# Process files in current directory\n",
    "base_paths = [os.path.join(cwd, ext) for ext in ['*.py', '*.yaml', '*.yml', '*.json', '*.xml', '*.sh']]\n",
    "for base_path in base_paths:\n",
    "    for file in glob.glob(base_path):\n",
    "        file_path = os.path.relpath(file, start=cwd)\n",
    "        files.append((file_path, os.path.getsize(file_path) / 1024.0))\n"
   ],
   "metadata": {
    "collapsed": false,
    "ExecuteTime": {
     "end_time": "2024-05-26T19:35:35.053174Z",
     "start_time": "2024-05-26T19:35:34.975090Z"
    }
   },
   "id": "f73c05243cb3735",
   "execution_count": 62
  },
  {
   "cell_type": "code",
   "outputs": [],
   "source": [
    "files_, sizes = zip(*files)"
   ],
   "metadata": {
    "collapsed": false,
    "ExecuteTime": {
     "end_time": "2024-05-26T19:35:35.274629Z",
     "start_time": "2024-05-26T19:35:35.272627Z"
    }
   },
   "id": "acabef7bf134b032",
   "execution_count": 63
  },
  {
   "cell_type": "code",
   "outputs": [],
   "source": [
    "files = sorted(files, key=lambda x: x[1], reverse=True)"
   ],
   "metadata": {
    "collapsed": false,
    "ExecuteTime": {
     "end_time": "2024-05-26T19:35:35.581457Z",
     "start_time": "2024-05-26T19:35:35.578751Z"
    }
   },
   "id": "47b91712cf007745",
   "execution_count": 64
  },
  {
   "cell_type": "code",
   "outputs": [
    {
     "data": {
      "text/plain": "[('algo/cassiepede/benchmark/configs/varying_cassie_count.yaml',\n  174.525390625),\n ('algo/cassiepede/benchmark/configs/varying_cassie_position.yaml',\n  139.603515625),\n ('sim/cassie_sim/cassiemujoco/cassiepede6.xml', 111.1337890625),\n ('sim/cassie_sim/cassiemujoco/cassiepede5.xml', 93.3779296875),\n ('sim/cassie_sim/cassiemujoco/cassiepede_rectangle5.xml', 92.76953125),\n ('sim/cassie_sim/cassiemujoco/cassiepede_couch_flat_weight5.xml',\n  92.3896484375),\n ('algo/old_files/network_old_hfield_predictor.py', 91.986328125),\n ('sim/cassie_sim/cassiemujoco/cassiepede_t_shape_a4.xml', 75.6787109375),\n ('sim/cassie_sim/cassiemujoco/cassiepede_t_shape_c4.xml', 75.6767578125),\n ('sim/cassie_sim/cassiemujoco/cassiepede_t_shape_d4.xml', 75.67578125),\n ('sim/cassie_sim/cassiemujoco/cassiepede_square4.xml', 75.5615234375),\n ('sim/cassie_sim/cassiemujoco/cassiepede4.xml', 75.5615234375),\n ('sim/cassie_sim/cassiemujoco/cassiepede_t_shape_b4.xml', 75.3349609375),\n ('sim/cassie_sim/cassiemujoco/cassiepede_rectangle4.xml', 75.2119140625),\n ('sim/cassie_sim/cassiemujoco/cassiepede_couch4.xml', 75.0224609375),\n ('sim/cassie_sim/cassiemujoco/cassiepede_couch_load4.xml', 74.9365234375),\n ('sim/cassie_sim/cassiemujoco/cassiepede_couch_flat_weight4.xml',\n  74.89453125),\n ('algo/cassiepede/benchmark/configs/specialized_hierarchical_trained_3.yaml',\n  73.275390625),\n ('sim/cassie_sim/cassiemujoco/cassie_hfield.xml', 61.5908203125),\n ('sim/cassie_sim/cassiemujoco/cassiepede_real_exp3.xml', 59.3134765625),\n ('sim/cassie_sim/cassiemujoco/cassiemujoco_ctypes.py', 59.107421875),\n ('sim/cassie_sim/cassiemujoco/cassiepede_equilateral3.xml', 57.9853515625),\n ('sim/cassie_sim/cassiemujoco/cassiepede3.xml', 57.8916015625),\n ('sim/cassie_sim/cassiemujoco/cassiepede_shape_a3.xml', 57.7529296875),\n ('sim/cassie_sim/cassiemujoco/cassiepede_weight_c3.xml', 57.7353515625),\n ('sim/cassie_sim/cassiemujoco/cassiepede_rectangle3.xml', 57.5537109375),\n ('sim/cassie_sim/cassiemujoco/cassiepede_couch_load3.xml', 57.4541015625),\n ('sim/cassie_sim/cassiemujoco/cassiepede_couch_flat_weight3.xml', 57.4140625),\n ('sim/cassie_sim/cassiemujoco/cassiepede_weight_d3.xml', 57.353515625),\n ('sim/cassie_sim/cassiemujoco/cassiepede_weight_a3.xml', 57.3466796875),\n ('sim/cassie_sim/cassiemujoco/cassiepede_weight_b3.xml', 57.3447265625),\n ('sim/cassie_sim/cassiemujoco/cassiepede_shape_d3.xml', 57.3115234375),\n ('sim/cassie_sim/cassiemujoco/cassiepede_shape_c3.xml', 57.255859375),\n ('sim/cassie_sim/cassiemujoco/cassiepede_shape_b3.xml', 57.2333984375),\n ('sim/cassie_sim/cassiemujoco/cassiepede_couch3.xml', 57.150390625),\n ('env/cassie/cassiepede/cassiepede.py', 50.51953125),\n ('sim/mujoco_sim.py', 49.869140625),\n ('env/digit/digithfield/digithfield.py', 46.486328125),\n ('nn/base.py', 45.5341796875),\n ('env/cassie/cassiehfield/cassiehfield.py', 43.7509765625),\n ('sim/digit_sim/digit_ar_sim/interface_ctypes.py', 43.3349609375),\n ('sim/digit_sim/digit-v3-hfield.xml', 41.095703125),\n ('sim/cassie_sim/cassiemujoco/cassieduofree.xml', 40.7685546875),\n ('sim/cassie_sim/cassiemujoco/cassiepede_bar2.xml', 40.48046875),\n ('sim/cassie_sim/cassiemujoco/cassiepede2.xml', 40.302734375),\n ('sim/cassie_sim/cassiemujoco/cassiepede_rectangle2.xml', 40.2666015625),\n ('sim/cassie_sim/cassiemujoco/cassiepede_couch_load2.xml', 39.845703125),\n ('sim/cassie_sim/cassiemujoco/cassiepede_centralized2.xml', 39.8203125),\n ('algo/cassiepede/benchmark/configs/specialized_trained_3.yaml',\n  39.693359375),\n ('sim/cassie_sim/cassiemujoco/cassiepede_couch2.xml', 39.54296875),\n ('algo/cassiepede/evaluation.py', 39.2734375),\n ('sim/digit_sim/digit-v3-new.xml', 38.9423828125),\n ('sim/cassie_sim/cassiemujoco/cassiemujoco.py', 35.9873046875),\n ('algo/ppo.py', 35.46484375),\n ('sim/mujoco_viewer.py', 33.4501953125),\n ('sim/digit_sim/digit-v3.xml', 32.4716796875),\n ('cassiepede_udp.py', 29.125),\n ('cassiepedeHL_udp.py', 27.9453125),\n ('sim/cassie_sim/cassiemujoco/cassie_obstacle.xml', 26.4052734375),\n ('env/cassie/cassieenvclock/cassieenvclock.py', 26.294921875),\n ('nn/actor.py', 25.6357421875),\n ('cassie_udp.py', 22.5732421875),\n ('sim/cassie_sim/cassiemujoco/cassie.xml', 22.3154296875),\n ('sim/cassie_sim/cassiemujoco/cassiepede_rectangle1.xml', 22.1591796875),\n ('sim/cassie_sim/cassiemujoco/cassiepede_bar1.xml', 22.0048828125),\n ('sim/cassie_sim/cassiemujoco/cassiepede1.xml', 22.001953125),\n ('sim/cassie_sim/cassiemujoco/cassiepede_pivot1.xml', 21.9873046875),\n ('env/cassie/cassieenv.py', 21.8720703125),\n ('sim/cassie_sim/lib_cassiesim.py', 21.7763671875),\n ('algo/teacherstudent.py', 21.7177734375),\n ('env/digit/digitnavenv/digitnavenv.py', 21.5615234375),\n ('env/digit/digitenv.py', 21.212890625),\n ('algo/cassiepede/training.py', 20.5),\n ('cassie_udp_clock.py', 20.43359375),\n ('env/digit/digitenvclock/digitenvclock.py', 20.38671875),\n ('testing/test_sim.py', 19.7001953125),\n ('util/nn_factory.py', 19.1689453125),\n ('algo/cassiepede/benchmark/configs/centralized3_trained_3_1000traj.yaml',\n  18.4365234375),\n ('algo/cassiepede/benchmark/configs/centralized_hierarchical_trained_3.yaml',\n  18.435546875),\n ('algo/cassiepede/benchmark/configs/centralized3_trained_3.yaml',\n  18.435546875),\n ('env/cassie/cassiestone/cassiestone.py', 18.0322265625),\n ('env/cassie/cassiepedeHL/cassiepedeHL.py', 16.951171875),\n ('algo/common/utils.py', 16.88671875),\n ('util/offline_collection.py', 16.7919921875),\n ('algo/old_files/network_old_denoiser.py', 16.6181640625),\n ('digit_udp.py', 16.052734375),\n ('algo/old_files/training_v1_old.py', 15.9833984375),\n ('algo/common/network.py', 15.77734375),\n ('algo/old_files/evaluation.py', 15.703125),\n ('algo/old_files/training_denoiser_online.py', 15.7021484375),\n ('algo/cassiepede/benchmark/collect_data.py', 15.20703125),\n ('plot_log.py', 14.462890625),\n ('cassie_udp_original.py', 14.453125),\n ('algo/util/sampling.py', 14.0302734375),\n ('algo/old_files/evaluation_dataloader_1.py', 13.876953125),\n ('algo/old_files/evaluation_v1.py', 13.876953125),\n ('algo/old_files/evaluation_dataloader.py', 13.876953125),\n ('util/evaluation_factory.py', 13.69140625),\n ('algo/old_files/main_v3.py', 13.23828125),\n ('algo/old_files/training_v1.py', 13.1953125),\n ('algo/old_files/main.py', 12.85546875),\n ('perception/digit_camera_example.py', 12.8134765625),\n ('sim/util/hfield.py', 12.376953125),\n ('algo/old_files/training_running_buffer_hfield_predictor.py', 12.2265625),\n ('algo/old_files/evaluation_v3.py', 12.1240234375),\n ('algo/common/ppo_algo.py', 11.7490234375),\n ('sim/digit_sim/digit-v3-upper.xml', 11.4697265625),\n ('algo/old_files/training_test.py', 11.0615234375),\n ('algo/old_files/main_v1.py', 10.962890625),\n ('algo/old_files/training_offline_gan.py', 10.6884765625),\n ('algo/old_files/training_dataloader.py', 10.33203125),\n ('algo/old_files/training_dataloader_1.py', 10.33203125),\n ('algo/old_files/training_v1_1.py', 10.33203125),\n ('testing/test_nn.py', 10.3232421875),\n ('env/util/periodicclock.py', 10.1123046875),\n ('algo/cassiepede/benchmark/configs/centralized2_trained_3.yaml',\n  9.998046875),\n ('visualize_log.py', 9.8779296875),\n ('nn/resnet.py', 9.2392578125),\n ('env/rewards/locomotion_cassiepede_feetairtime_modified/locomotion_cassiepede_feetairtime_modified.py',\n  9.1796875),\n ('env/rewards/depth/depth.py', 8.98046875),\n ('testing/test_clock.py', 8.955078125),\n ('algo/old_files/training.py', 8.748046875),\n ('algo/old_files/main_ff.py', 8.5927734375),\n ('algo/old_files/training_hfield_denoiser_old.py', 8.5771484375),\n ('algo/common/replaybuffer.py', 8.556640625),\n ('util/camera_util.py', 8.1904296875),\n ('sim/digit_sim/ar_digitsim.py', 7.7373046875),\n ('sim/generic_sim.py', 7.7080078125),\n ('testing/test_offscreen_render.py', 7.3876953125),\n ('testing/test_env.py', 7.3857421875),\n ('algo/util/teacherstudent.py', 7.31640625),\n ('nn/encoder.py', 7.279296875),\n ('server_upload.sh', 7.1337890625),\n ('env/rewards/locomotion_cassiemultirobot/locomotion_cassiemultirobot.py',\n  7.125),\n ('env/rewards/locomotion_vonmises_clock_reward/locomotion_vonmises_clock_reward.py',\n  7.1240234375),\n ('env/rewards/locomotion_cassiepede_clock_stand/locomotion_cassiepede_clock_stand.py',\n  7.1240234375),\n ('env/locomotion_cassiemultirobot/locomotion_cassiemultirobot.py',\n  7.1220703125),\n ('env/rewards/locomotion_vonmises_no_clock_reward/locomotion_vonmises_no_clock_reward.py',\n  7.1171875),\n ('env/rewards/locomotion_cassiepede/locomotion_cassiepede.py', 7.0546875),\n ('env/rewards/feet_air_time/feet_air_time.py', 6.892578125),\n ('testing/test_ar_async.py', 6.724609375),\n ('sim/cassie_sim/mj_cassiesim.py', 6.6259765625),\n ('sim/digit_sim/mj_digitsim.py', 6.51171875),\n ('eval.py', 6.4970703125),\n ('process_log.py', 6.470703125),\n ('algo/old_files/dataset.py', 6.4580078125),\n ('algo/old_files/dataset_1.py', 6.4580078125),\n ('testing/common.py', 6.197265625),\n ('env/rewards/locomotion_linear_clock_reward/locomotion_linear_clock_reward.py',\n  6.166015625),\n ('env/rewards/no_clock_reward/no_clock_reward.py', 6.05859375),\n ('testing/tracker_test.py', 6.0068359375),\n ('testing/test_ar_sim.py', 5.880859375),\n ('nn/critic.py', 5.8720703125),\n ('sim/util/geom.py', 5.8330078125),\n ('env/rewards/locomotion_cassiepede_feetairtime/locomotion_cassiepede_feetairtime.py',\n  5.6953125),\n ('testing/test_mirror.py', 5.5029296875),\n ('env/rewards/stepping_stone/stepping_stone.py', 5.4609375),\n ('algo/transfer_offline_data.py', 5.3759765625),\n ('algo/cassiepede/joystick_remote_controller.py', 5.287109375),\n ('algo/old_files/rotary_embedding.py', 5.28125),\n ('a.py', 5.099609375),\n ('perception/digit_camera.py', 4.9609375),\n ('util/check_number.py', 4.90625),\n ('sim/mujoco_render.py', 4.9033203125),\n ('env/digit/digitenvclock/dynamics_randomization.json', 4.857421875),\n ('env/digit/digithfield/dynamics_randomization.json', 4.857421875),\n ('env/digit/digitnavenv/dynamics_randomization.json', 4.857421875),\n ('algo/cassiepede/joystick_test.py', 4.7255859375),\n ('env/util/quaternion.py', 4.4248046875),\n ('algo/cassiepede/benchmark/configs/varying_object_weight.yaml',\n  4.2802734375),\n ('algo/cassiepede/benchmark/configs/varying_object_shape.yaml', 4.248046875),\n ('environment.yaml', 4.171875),\n ('convert_policy.py', 3.97265625),\n ('testing/sampling_speed.py', 3.96484375),\n ('algo/cassiepede/sim2real_plotter.py', 3.8505859375),\n ('algo/old_files/ffcv_dumper.py', 3.7392578125),\n ('algo/util/log.py', 3.7353515625),\n ('run_ppo.py', 3.6494140625),\n ('util/env_factory.py', 3.546875),\n ('convert.py', 3.5146484375),\n ('nn/residual.py', 3.4326171875),\n ('algo/common/tarsus_patch_wrapper.py', 3.341796875),\n ('sim/cassie_sim/cassiemujoco/cassieUDP.py', 3.3115234375),\n ('util/quaternion.py', 3.240234375),\n ('env/genericenv.py', 2.880859375),\n ('env/cassie/cassiepede/map_utils.py', 2.8603515625),\n ('env/cassie/cassiehfield/dynamics_randomization.json', 2.8486328125),\n ('env/cassie/cassieenvclock/dynamics_randomization.json', 2.8486328125),\n ('env/cassie/cassiepedeHL/dynamics_randomization.json', 2.8486328125),\n ('env/cassie/cassiepede/dynamics_randomization.json', 2.8486328125),\n ('env/cassie/cassiestone/dynamics_randomization.json', 2.80078125),\n ('train.py', 2.7490234375),\n ('test.py', 2.6494140625),\n ('run_distill.py', 2.5576171875),\n ('algo/old_files/data_loader.py', 2.5087890625),\n ('env/rewards/locomotion_cassiepedeHL/locomotion_cassiepedeHL.py',\n  2.3759765625),\n ('algo/common/normalization.py', 2.3349609375),\n ('eval_cassiepede.sh', 2.328125),\n ('algo/old_files/realsense_camera.py', 2.2666015625),\n ('env/rewards/stand_reward/stand_reward.py', 2.232421875),\n ('util/topic.py', 2.142578125),\n ('train_cassiepede.sh', 2.0703125),\n ('run_ppo_depth.py', 1.9365234375),\n ('perception/realsense_data.py', 1.8203125),\n ('sim/digit_sim/digit_ar_sim/digit_udp.py', 1.7548828125),\n ('algo/cassiepede/keyboard_remote_controller.py', 1.7470703125),\n ('testing/test_duality_integration.py', 1.4716796875),\n ('algo/util/worker.py', 1.4287109375),\n ('eval_udp_cassiepede_play.sh', 1.365234375),\n ('eval_udp_cassiepede_play_skand.sh', 1.35546875),\n ('eval_udp_cassiepede_osu_skand.sh', 1.35546875),\n ('util/mirror.py', 1.2392578125),\n ('env/rewards/locomotion_cassiepede_feetairtime_modified/reward_weight.json',\n  1.23046875),\n ('fetch_models.sh', 1.2109375),\n ('eval_udp_cassiepede_harvard.sh', 1.2109375),\n ('eval_udp_cassiepede_osu.sh', 1.1767578125),\n ('process_offline_data.py', 1.1318359375),\n ('testing/test_algo.py', 1.1240234375),\n ('env/rewards/locomotion_linear_clock_reward/reward_weight.json',\n  1.099609375),\n ('env/rewards/locomotion_cassiepede_clock_stand/reward_weight.json',\n  1.08984375),\n ('util/keyboard.py', 1.0439453125),\n ('env/rewards/depth/reward_weight.json', 1.041015625),\n ('env/rewards/locomotion_vonmises_clock_reward/reward_weight.json',\n  1.0322265625),\n ('env/rewards/locomotion_vonmises_no_clock_reward/reward_weight.json',\n  1.0322265625),\n ('env/rewards/locomotion_cassiepede_feetairtime/reward_weight.json',\n  1.0302734375),\n ('hfield_dumper.sh', 1.017578125),\n ('env/rewards/locomotion_cassiepede/reward_weight.json', 1.0166015625),\n ('pendulum.xml', 1.001953125),\n ('algo/util/normalization.py', 0.953125),\n ('server_download.sh', 0.9033203125),\n ('rope.xml', 0.9013671875),\n ('setup.sh', 0.8994140625),\n ('env/rewards/feet_air_time/reward_weight.json', 0.8984375),\n ('util/estimator.py', 0.8857421875),\n ('env/rewards/locomotion_cassiemultirobot/reward_weight.json', 0.8857421875),\n ('env/locomotion_cassiemultirobot/reward_weight.json', 0.8857421875),\n ('launch_async_eval.sh', 0.8818359375),\n ('algo/build_index_offline_data.py', 0.8330078125),\n ('util/digit_topic.py', 0.80078125),\n ('eval_udp_cassiepede.sh', 0.7685546875),\n ('env/rewards/stepping_stone/reward_weight.json', 0.7626953125),\n ('env/rewards/no_clock_reward/reward_weight.json', 0.73828125),\n ('build_index_offline_data.py', 0.693359375),\n ('algo/old_files/hfield_sender.py', 0.642578125),\n ('env/rewards/stand_reward/reward_weight.json', 0.63671875),\n ('algo/common/math_utils.py', 0.62890625),\n ('benchmark_cassiepede.sh', 0.5810546875),\n ('ffcv_dumper.sh', 0.517578125),\n ('mujoco_debugging.py', 0.5146484375),\n ('sim/cassie_sim/__init__.py', 0.384765625),\n ('notebooks/experiment_data_copy.sh', 0.369140625),\n ('terminal_size.py', 0.3544921875),\n ('sim/digit_sim/digit_ar_sim/llapi/compile.sh', 0.326171875),\n ('sim/__init__.py', 0.3037109375),\n ('mujoco_site_bug.py', 0.2998046875),\n ('util/colors.py', 0.2607421875),\n ('env/rewards/locomotion_cassiepedeHL/reward_weight.json', 0.25),\n ('tqdm_test.py', 0.18359375),\n ('run_vlab.sh', 0.171875),\n ('transfer.sh', 0.166015625),\n ('ppo_seeds.sh', 0.166015625),\n ('profile_test.py', 0.111328125),\n ('sim/digit_sim/__init__.py', 0.1005859375),\n ('nn/__init__.py', 0.09765625),\n ('sim2real_plotter_harvard.sh', 0.0947265625),\n ('joystick_remote_controller_test.sh', 0.0751953125),\n ('joystick_remote_controller.sh', 0.0703125),\n ('keyboard_remote_controller.sh', 0.0703125),\n ('work.sh', 0.0615234375),\n ('start_ngrok.sh', 0.0576171875),\n ('sim/digit_sim/digit_ar_sim/__init__.py', 0.0302734375),\n ('sim/cassie_sim/cassiemujoco/__init__.py', 0.02734375),\n ('udp/udp_cassie_real.py', 0.0),\n ('udp/udp_cassie_async.py', 0.0),\n ('udp/udp_digit_ar_control.py', 0.0),\n ('udp/udp_digit_real.py', 0.0),\n ('env/__init__.py', 0.0),\n ('env/cassie/cassiehfield/curriculum.json', 0.0),\n ('env/cassie/cassieenvclock/curriculum.json', 0.0),\n ('env/cassie/cassiepede/curriculum.json', 0.0),\n ('env/digit/digitenvclock/curriculum.json', 0.0),\n ('env/digit/digithfield/curriculum.json', 0.0),\n ('env/digit/digitnavenv/curriculum.json', 0.0),\n ('testing/__init__.py', 0.0)]"
     },
     "execution_count": 65,
     "metadata": {},
     "output_type": "execute_result"
    }
   ],
   "source": [
    "files"
   ],
   "metadata": {
    "collapsed": false,
    "ExecuteTime": {
     "end_time": "2024-05-26T19:35:36.462963Z",
     "start_time": "2024-05-26T19:35:36.453749Z"
    }
   },
   "id": "8b274814a809b117",
   "execution_count": 65
  },
  {
   "cell_type": "code",
   "outputs": [
    {
     "name": "stdout",
     "output_type": "stream",
     "text": [
      "--ids 0-23 \\\n",
      "--ids 24-47 \\\n",
      "--ids 48-71 \\\n",
      "--ids 72-95 \\\n",
      "--ids 96-119 \\\n",
      "--ids 120-143 \\\n",
      "--ids 144-167 \\\n",
      "--ids 168-191 \\\n",
      "--ids 192-215 \\\n",
      "--ids 216-239 \\\n"
     ]
    }
   ],
   "source": [
    "nodes = 10\n",
    "n_files = 240\n",
    "for i in range(0, n_files, n_files // nodes):\n",
    "    print(f\"--ids {i}-{i + n_files // nodes - 1} \\\\\")"
   ],
   "metadata": {
    "collapsed": false,
    "ExecuteTime": {
     "end_time": "2024-05-30T06:17:28.961935Z",
     "start_time": "2024-05-30T06:17:28.958404Z"
    }
   },
   "id": "261c0a71af408f66",
   "execution_count": 23
  },
  {
   "cell_type": "code",
   "outputs": [],
   "source": [],
   "metadata": {
    "collapsed": false
   },
   "id": "ee0a352d9d17e289"
  }
 ],
 "metadata": {
  "kernelspec": {
   "name": "ml310",
   "language": "python",
   "display_name": "Python 3.10 (ml310)"
  },
  "language_info": {
   "codemirror_mode": {
    "name": "ipython",
    "version": 2
   },
   "file_extension": ".py",
   "mimetype": "text/x-python",
   "name": "python",
   "nbconvert_exporter": "python",
   "pygments_lexer": "ipython2",
   "version": "2.7.6"
  }
 },
 "nbformat": 4,
 "nbformat_minor": 5
}
